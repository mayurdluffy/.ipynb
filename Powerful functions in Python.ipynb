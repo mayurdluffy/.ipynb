{
 "cells": [
  {
   "cell_type": "markdown",
   "id": "19d86daf",
   "metadata": {},
   "source": [
    "## Some powerful functions in Python"
   ]
  },
  {
   "cell_type": "markdown",
   "id": "88f2d306",
   "metadata": {},
   "source": [
    "### Anonymous/Lambda fucntion: \n",
    "In Python, an anonymous function is a function that is defined without a name.\n",
    "While normal functions are defined using the def keyword in Python, anonymous functions are defined using the lambda keyword.\n",
    "Hence, anonymous functions are also called lambda functions."
   ]
  },
  {
   "cell_type": "markdown",
   "id": "f90e3cbd",
   "metadata": {},
   "source": [
    "### syntax of lambda functions:"
   ]
  },
  {
   "cell_type": "markdown",
   "id": "9065dcf7",
   "metadata": {},
   "source": [
    "lambda arguments : expression\n",
    "\n",
    "some examples;"
   ]
  },
  {
   "cell_type": "code",
   "execution_count": 2,
   "id": "e9373ce0",
   "metadata": {},
   "outputs": [
    {
     "name": "stdout",
     "output_type": "stream",
     "text": [
      "10\n"
     ]
    }
   ],
   "source": [
    "# Program to show the use of lambda functions\n",
    "double = lambda x: x * 2\n",
    "\n",
    "print(double(5))"
   ]
  },
  {
   "cell_type": "markdown",
   "id": "c853d79c",
   "metadata": {},
   "source": [
    "### Use of lambda functions:\n",
    "\n",
    "We use lambda functions when we require a nameless function for a short period of time.\n",
    "\n",
    "In Python, we generally use it as an argument to a higher-order function (a function that takes in other functions as arguments). Lambda functions are used along with built-in functions like filter(), map() etc.\n"
   ]
  },
  {
   "cell_type": "code",
   "execution_count": 5,
   "id": "5b065aa3",
   "metadata": {},
   "outputs": [
    {
     "name": "stdout",
     "output_type": "stream",
     "text": [
      "[4, 6, 8, 12]\n"
     ]
    }
   ],
   "source": [
    "#Program to filter out only the even items from a list\n",
    "my_list = [1, 5, 4, 6, 8, 11, 3, 12]\n",
    "\n",
    "new_list = list(filter(lambda x: (x%2 == 0) , my_list))\n",
    "\n",
    "print(new_list)"
   ]
  },
  {
   "cell_type": "code",
   "execution_count": 4,
   "id": "63b29a70",
   "metadata": {},
   "outputs": [
    {
     "name": "stdout",
     "output_type": "stream",
     "text": [
      "[2, 10, 8, 12, 16, 22, 6, 24]\n"
     ]
    }
   ],
   "source": [
    "# Program to double each item in a list using map()\n",
    "\n",
    "my_list = [1, 5, 4, 6, 8, 11, 3, 12]\n",
    "\n",
    "new_list = list(map(lambda x: x * 2 , my_list))\n",
    "\n",
    "print(new_list)"
   ]
  },
  {
   "cell_type": "markdown",
   "id": "6b7cfb38",
   "metadata": {},
   "source": [
    "### Map function:\n",
    "\n",
    "The map() function applies a given function to each item of an iterable (list, tuple etc.) and returns an iterator."
   ]
  },
  {
   "cell_type": "code",
   "execution_count": 6,
   "id": "2bb7d97b",
   "metadata": {},
   "outputs": [
    {
     "name": "stdout",
     "output_type": "stream",
     "text": [
      "[4, 16, 36, 64, 100]\n"
     ]
    }
   ],
   "source": [
    "numbers = [2, 4, 6, 8, 10]\n",
    "\n",
    "# returns square of a number\n",
    "def square(number):\n",
    "  return number * number\n",
    "\n",
    "# apply square() function to each item of the numbers list\n",
    "squared_numbers_iterator = map(square, numbers)\n",
    "\n",
    "# converting to list\n",
    "squared_numbers = list(squared_numbers_iterator)\n",
    "print(squared_numbers)\n",
    "\n",
    "# Output: [4, 16, 36, 64, 100]"
   ]
  },
  {
   "cell_type": "markdown",
   "id": "5b2ee716",
   "metadata": {},
   "source": [
    "### map() syntax:\n",
    "\n",
    "map(function, iterable,...)\n",
    "\n",
    "### map() Parameter\n",
    "\n",
    "The map() function takes two parameters:\n",
    "\n",
    "function - a function that perform some action to each element of an iterable\n",
    "iterable - an iterable like sets, lists, tuples, etc\n",
    "\n",
    "You can pass more than one iterable to the map() function.\n",
    "\n",
    "### map() Return Value\n",
    "\n",
    "The map() function returns an object of map class. The returned value can be passed to functions like\n",
    "\n",
    "list() - to convert to list\n",
    "set() - to convert to a set, and so on."
   ]
  },
  {
   "cell_type": "code",
   "execution_count": 7,
   "id": "0f121962",
   "metadata": {},
   "outputs": [
    {
     "name": "stdout",
     "output_type": "stream",
     "text": [
      "<map object at 0x000001CD1DF9C9D0>\n",
      "{16, 1, 4, 9}\n"
     ]
    }
   ],
   "source": [
    "def calculateSquare(n):\n",
    "    return n*n\n",
    "\n",
    "\n",
    "numbers = (1, 2, 3, 4)\n",
    "result = map(calculateSquare, numbers)\n",
    "print(result)\n",
    "\n",
    "# converting map object to set\n",
    "numbersSquare = set(result)\n",
    "print(numbersSquare)"
   ]
  },
  {
   "cell_type": "markdown",
   "id": "06d5a673",
   "metadata": {},
   "source": [
    "Since map() expects a function to be passed in, lambda functions are commonly used while working with map() functions."
   ]
  },
  {
   "cell_type": "code",
   "execution_count": 8,
   "id": "fee78aed",
   "metadata": {},
   "outputs": [
    {
     "name": "stdout",
     "output_type": "stream",
     "text": [
      "<map object at 0x000001CD1DF9CA60>\n",
      "{16, 1, 4, 9}\n"
     ]
    }
   ],
   "source": [
    "numbers = (1, 2, 3, 4)\n",
    "result = map(lambda x: x*x, numbers)\n",
    "print(result)\n",
    "\n",
    "# converting map object to set\n",
    "numbersSquare = set(result)\n",
    "print(numbersSquare)"
   ]
  },
  {
   "cell_type": "markdown",
   "id": "b3c41170",
   "metadata": {},
   "source": [
    "### Passing Multiple Iterators to map() Using Lambda\n",
    "\n",
    "In this example, corresponding items of two lists are added."
   ]
  },
  {
   "cell_type": "code",
   "execution_count": 9,
   "id": "f5bc108d",
   "metadata": {},
   "outputs": [
    {
     "name": "stdout",
     "output_type": "stream",
     "text": [
      "[9, 11, 13]\n"
     ]
    }
   ],
   "source": [
    "num1 = [4, 5, 6]\n",
    "num2 = [5, 6, 7]\n",
    "\n",
    "result = map(lambda n1, n2: n1+n2, num1, num2)\n",
    "print(list(result))"
   ]
  },
  {
   "cell_type": "markdown",
   "id": "5a28a8a0",
   "metadata": {},
   "source": [
    "### Filter function\n",
    "\n",
    "The filter() function extracts elements from an iterable (list, tuple etc.) for which a function returns True."
   ]
  },
  {
   "cell_type": "code",
   "execution_count": 10,
   "id": "06a20630",
   "metadata": {},
   "outputs": [
    {
     "name": "stdout",
     "output_type": "stream",
     "text": [
      "[2, 4, 6, 8, 10]\n"
     ]
    }
   ],
   "source": [
    "numbers = [1, 2, 3, 4, 5, 6, 7, 8, 9, 10]\n",
    "\n",
    "# returns True if number is even\n",
    "def check_even(number):\n",
    "    if number % 2 == 0:\n",
    "          return True  \n",
    "\n",
    "    return False\n",
    "\n",
    "# Extract elements from the numbers list for which check_even() returns True\n",
    "even_numbers_iterator = filter(check_even, numbers)\n",
    "\n",
    "# converting to list\n",
    "even_numbers = list(even_numbers_iterator)\n",
    "\n",
    "print(even_numbers)\n",
    "\n",
    "# Output: [2, 4, 6, 8, 10]"
   ]
  },
  {
   "cell_type": "markdown",
   "id": "f034e24a",
   "metadata": {},
   "source": [
    "### filter() syntax:\n",
    "\n",
    "filter(function, iterable,...)\n",
    "\n",
    "### filter() Arguments\n",
    "\n",
    "The filter() function takes two arguments:\n",
    "\n",
    "function - a function\n",
    "iterable - an iterable like sets, lists, tuples etc.\n",
    "\n",
    "### filter() Return Value\n",
    "\n",
    "The filter() function returns an iterator.\n",
    "\n",
    "Note: You can easily convert iterators to sequences like lists, tuples, strings etc."
   ]
  },
  {
   "cell_type": "code",
   "execution_count": 11,
   "id": "34b50738",
   "metadata": {},
   "outputs": [
    {
     "name": "stdout",
     "output_type": "stream",
     "text": [
      "('a', 'e', 'i', 'o')\n"
     ]
    }
   ],
   "source": [
    "letters = ['a', 'b', 'd', 'e', 'i', 'j', 'o']\n",
    "\n",
    "# a function that returns True if letter is vowel\n",
    "def filter_vowels(letter):\n",
    "    vowels = ['a', 'e', 'i', 'o', 'u']\n",
    "    return True if letter in vowels else False\n",
    "\n",
    "filtered_vowels = filter(filter_vowels, letters)\n",
    "\n",
    "# converting to tuple\n",
    "vowels = tuple(filtered_vowels)\n",
    "print(vowels)"
   ]
  },
  {
   "cell_type": "markdown",
   "id": "b468fa03",
   "metadata": {},
   "source": [
    "Here, the filter() function extracts only the vowel letters from the letters list. Here's how this code works:\n",
    "\n",
    "Each element of the letters list is passed to the filter_vowels() function.\n",
    "\n",
    "If filter_vowels() returns True, that element is extracted otherwise it's filtered out.\n",
    "\n",
    "Note: It's also possible to filter lists using a loop, however, using the filter() function is much more cleaner."
   ]
  },
  {
   "cell_type": "code",
   "execution_count": 12,
   "id": "147fd2e1",
   "metadata": {},
   "outputs": [
    {
     "name": "stdout",
     "output_type": "stream",
     "text": [
      "[2, 4, 6]\n"
     ]
    }
   ],
   "source": [
    "numbers = [1, 2, 3, 4, 5, 6, 7]\n",
    "\n",
    "# the lambda function returns True for even numbers \n",
    "even_numbers_iterator = filter(lambda x: (x%2 == 0), numbers)\n",
    "\n",
    "# converting to list\n",
    "even_numbers = list(even_numbers_iterator)\n",
    "\n",
    "print(even_numbers)\n"
   ]
  },
  {
   "cell_type": "markdown",
   "id": "11a32e91",
   "metadata": {},
   "source": [
    "When None is used as the first argument to the filter() function, all elements that are truthy values (gives True if converted to boolean) are extracted."
   ]
  },
  {
   "cell_type": "code",
   "execution_count": 13,
   "id": "93cd554d",
   "metadata": {},
   "outputs": [
    {
     "name": "stdout",
     "output_type": "stream",
     "text": [
      "[1, 'a', True, '0']\n"
     ]
    }
   ],
   "source": [
    "# random list\n",
    "random_list = [1, 'a', 0, False, True, '0']\n",
    "\n",
    "filtered_iterator = filter(None, random_list)\n",
    "\n",
    "#converting to list\n",
    "filtered_list = list(filtered_iterator)\n",
    "\n",
    "print(filtered_list)\n"
   ]
  },
  {
   "cell_type": "markdown",
   "id": "78ca212e",
   "metadata": {},
   "source": [
    "### Zip function\n",
    "\n",
    "The zip() function takes iterables (can be zero or more), aggregates them in a tuple, and returns it."
   ]
  },
  {
   "cell_type": "code",
   "execution_count": 14,
   "id": "0419e41a",
   "metadata": {},
   "outputs": [
    {
     "name": "stdout",
     "output_type": "stream",
     "text": [
      "[('Java', 14), ('Python', 3), ('JavaScript', 6)]\n"
     ]
    }
   ],
   "source": [
    "languages = ['Java', 'Python', 'JavaScript']\n",
    "versions = [14, 3, 6]\n",
    "\n",
    "result = zip(languages, versions)\n",
    "print(list(result))\n",
    "\n",
    "# Output: [('Java', 14), ('Python', 3), ('JavaScript', 6)]"
   ]
  },
  {
   "cell_type": "markdown",
   "id": "ef7a3c42",
   "metadata": {},
   "source": [
    "### zip() syntax\n",
    "\n",
    "The syntax of the zip() function is:\n",
    "\n",
    "zip(*iterables)\n",
    "\n",
    "### zip() Parameters\n",
    "\n",
    "iterables\tcan be built-in iterables (like: list, string, dict), or user-defined iterables\n",
    "\n",
    "Recommended Reading: Python Iterators, __iter__ and __next__\n",
    "\n"
   ]
  },
  {
   "cell_type": "markdown",
   "id": "b700458e",
   "metadata": {},
   "source": [
    "### zip() Return Value\n",
    "\n",
    "The zip() function returns an iterator of tuples based on the iterable objects.\n",
    "\n",
    "If we do not pass any parameter, zip() returns an empty iterator\n",
    "\n",
    "If a single iterable is passed, zip() returns an iterator of tuples with each tuple having only one element.\n",
    "\n",
    "If multiple iterables are passed, zip() returns an iterator of tuples with each tuple having elements from all the iterables.\n",
    "\n",
    "Suppose, two iterables are passed to zip(); one iterable containing three and other containing five elements. Then, the returned iterator will contain three tuples. It's because the iterator stops when the shortest iterable is exhausted.\n"
   ]
  },
  {
   "cell_type": "code",
   "execution_count": 15,
   "id": "2f6aa1e8",
   "metadata": {},
   "outputs": [
    {
     "name": "stdout",
     "output_type": "stream",
     "text": [
      "[]\n",
      "{(2, 'two'), (1, 'one'), (3, 'three')}\n"
     ]
    }
   ],
   "source": [
    "number_list = [1, 2, 3]\n",
    "str_list = ['one', 'two', 'three']\n",
    "\n",
    "# No iterables are passed\n",
    "result = zip()\n",
    "\n",
    "# Converting iterator to list\n",
    "result_list = list(result)\n",
    "print(result_list)\n",
    "\n",
    "# Two iterables are passed\n",
    "result = zip(number_list, str_list)\n",
    "\n",
    "# Converting iterator to set\n",
    "result_set = set(result)\n",
    "print(result_set)"
   ]
  },
  {
   "cell_type": "markdown",
   "id": "5adadc98",
   "metadata": {},
   "source": [
    "Different number of iterable elements"
   ]
  },
  {
   "cell_type": "code",
   "execution_count": 16,
   "id": "64a0e42c",
   "metadata": {},
   "outputs": [
    {
     "name": "stdout",
     "output_type": "stream",
     "text": [
      "{(2, 'TWO'), (3, 'THREE'), (1, 'ONE')}\n",
      "{(1, 'one', 'ONE'), (2, 'two', 'TWO')}\n"
     ]
    }
   ],
   "source": [
    "numbersList = [1, 2, 3]\n",
    "str_list = ['one', 'two']\n",
    "numbers_tuple = ('ONE', 'TWO', 'THREE', 'FOUR')\n",
    "\n",
    "# Notice, the size of numbersList and numbers_tuple is different\n",
    "result = zip(numbersList, numbers_tuple)\n",
    "\n",
    "# Converting to set\n",
    "result_set = set(result)\n",
    "print(result_set)\n",
    "\n",
    "result = zip(numbersList, str_list, numbers_tuple)\n",
    "\n",
    "# Converting to set\n",
    "result_set = set(result)\n",
    "print(result_set)"
   ]
  },
  {
   "cell_type": "markdown",
   "id": "f9373693",
   "metadata": {},
   "source": [
    "The * operator can be used in conjunction with zip() to unzip the list.\n",
    "\n",
    "zip(*zippedList)\n",
    "\n",
    "Unzipping the Value Using zip()"
   ]
  },
  {
   "cell_type": "code",
   "execution_count": 17,
   "id": "1d6ce99b",
   "metadata": {},
   "outputs": [
    {
     "name": "stdout",
     "output_type": "stream",
     "text": [
      "[('x', 3), ('y', 4), ('z', 5)]\n",
      "c = ('x', 'y', 'z')\n",
      "v = (3, 4, 5)\n"
     ]
    }
   ],
   "source": [
    "coordinate = ['x', 'y', 'z']\n",
    "value = [3, 4, 5]\n",
    "\n",
    "result = zip(coordinate, value)\n",
    "result_list = list(result)\n",
    "print(result_list)\n",
    "\n",
    "c, v =  zip(*result_list)\n",
    "print('c =', c)\n",
    "print('v =', v)"
   ]
  },
  {
   "cell_type": "markdown",
   "id": "f90c981b",
   "metadata": {},
   "source": [
    "### Reduce function in Python\n",
    "\n",
    "The reduce(fun,seq) function is used to apply a particular function passed in its argument to all of the list elements mentioned in the sequence passed along.This function is defined in “functools” module.\n",
    "\n",
    "Working :  \n",
    "\n",
    "At first step, first two elements of sequence are picked and the result is obtained.\n",
    "\n",
    "Next step is to apply the same function to the previously attained result and the number just succeeding the second element and the result is again stored.\n",
    "\n",
    "This process continues till no more elements are left in the container.\n",
    "\n"
   ]
  },
  {
   "cell_type": "code",
   "execution_count": 18,
   "id": "164d57f6",
   "metadata": {},
   "outputs": [
    {
     "name": "stdout",
     "output_type": "stream",
     "text": [
      "The sum of the list elements is : 17\n",
      "The maximum element of the list is : 6\n"
     ]
    }
   ],
   "source": [
    "# python code to demonstrate working of reduce()\n",
    "\n",
    "# importing functools for reduce()\n",
    "import functools\n",
    "\n",
    "# initializing list\n",
    "lis = [1, 3, 5, 6, 2, ]\n",
    "\n",
    "# using reduce to compute sum of list\n",
    "print(\"The sum of the list elements is : \", end=\"\")\n",
    "print(functools.reduce(lambda a, b: a+b, lis))\n",
    "\n",
    "# using reduce to compute maximum element from list\n",
    "print(\"The maximum element of the list is : \", end=\"\")\n",
    "print(functools.reduce(lambda a, b: a if a > b else b, lis))\n"
   ]
  },
  {
   "cell_type": "markdown",
   "id": "ebaa88c3",
   "metadata": {},
   "source": [
    "reduce() can also be combined with operator functions to achieve the similar functionality as with lambda functions and makes the code more readable."
   ]
  },
  {
   "cell_type": "code",
   "execution_count": 19,
   "id": "58723c79",
   "metadata": {},
   "outputs": [
    {
     "name": "stdout",
     "output_type": "stream",
     "text": [
      "The sum of the list elements is : 17\n",
      "The product of list elements is : 180\n",
      "The concatenated product is : geeksforgeeks\n"
     ]
    }
   ],
   "source": [
    "# python code to demonstrate working of reduce()\n",
    "# using operator functions\n",
    "\n",
    "# importing functools for reduce()\n",
    "import functools\n",
    "\n",
    "# importing operator for operator functions\n",
    "import operator\n",
    "\n",
    "# initializing list\n",
    "lis = [1, 3, 5, 6, 2, ]\n",
    "\n",
    "# using reduce to compute sum of list\n",
    "# using operator functions\n",
    "print(\"The sum of the list elements is : \", end=\"\")\n",
    "print(functools.reduce(operator.add, lis))\n",
    "\n",
    "# using reduce to compute product\n",
    "# using operator functions\n",
    "print(\"The product of list elements is : \", end=\"\")\n",
    "print(functools.reduce(operator.mul, lis))\n",
    "\n",
    "# using reduce to concatenate string\n",
    "print(\"The concatenated product is : \", end=\"\")\n",
    "print(functools.reduce(operator.add, [\"geeks\", \"for\", \"geeks\"]))\n"
   ]
  },
  {
   "cell_type": "markdown",
   "id": "e1214dee",
   "metadata": {},
   "source": [
    "  ###                                                               reduce() vs accumulate() \n",
    "\n",
    "Both reduce() and accumulate() can be used to calculate the summation of a sequence elements. But there are differences in the implementation aspects in both of these.  \n",
    "\n",
    "reduce() is defined in “functools” module, accumulate() in “itertools” module.\n",
    "\n",
    "reduce() stores the intermediate result and only returns the final summation value. Whereas, accumulate() returns a iterator containing the intermediate results. The last number of the iterator returned is summation value of the list.\n",
    "\n",
    "reduce(fun,seq) takes function as 1st and sequence as 2nd argument. In contrast accumulate(seq,fun) takes sequence as 1st argument and function as 2nd argument."
   ]
  },
  {
   "cell_type": "code",
   "execution_count": 20,
   "id": "b4221af3",
   "metadata": {},
   "outputs": [
    {
     "name": "stdout",
     "output_type": "stream",
     "text": [
      "The summation of list using accumulate is :[1, 4, 8, 18, 22]\n",
      "The summation of list using reduce is :22\n"
     ]
    }
   ],
   "source": [
    "# python code to demonstrate summation\n",
    "# using reduce() and accumulate()\n",
    "\n",
    "# importing itertools for accumulate()\n",
    "import itertools\n",
    "\n",
    "# importing functools for reduce()\n",
    "import functools\n",
    "\n",
    "# initializing list\n",
    "lis = [1, 3, 4, 10, 4]\n",
    "\n",
    "# printing summation using accumulate()\n",
    "print(\"The summation of list using accumulate is :\", end=\"\")\n",
    "print(list(itertools.accumulate(lis, lambda x, y: x+y)))\n",
    "\n",
    "# printing summation using reduce()\n",
    "print(\"The summation of list using reduce is :\", end=\"\")\n",
    "print(functools.reduce(lambda x, y: x+y, lis))\n"
   ]
  },
  {
   "cell_type": "markdown",
   "id": "9bb87706",
   "metadata": {},
   "source": [
    "###                                                    reduce() function with three parameters\n",
    "\n",
    "Reduce function i.e. reduce() function works with 3 parameters in python3 as well as for 2 parameters. To put it in a simple way reduce() places the 3rd parameter before the value of the second one, if it’s present. Thus, it means that if the 2nd argument is an empty sequence, then 3rd argument serves as the default one. \n",
    "\n",
    "Here is an example :(This example has been take from the  functools.reduce() documentation includes a Python version of the function:"
   ]
  },
  {
   "cell_type": "code",
   "execution_count": 21,
   "id": "b7f5f711",
   "metadata": {},
   "outputs": [
    {
     "name": "stdout",
     "output_type": "stream",
     "text": [
      "15\n"
     ]
    }
   ],
   "source": [
    "# Python program to illustrate sum of two numbers.\n",
    "def reduce(function, iterable, initializer=None):\n",
    "\tit = iter(iterable)\n",
    "\tif initializer is None:\n",
    "\t\tvalue = next(it)\n",
    "\telse:\n",
    "\t\tvalue = initializer\n",
    "\tfor element in it:\n",
    "\t\tvalue = function(value, element)\n",
    "\treturn value\n",
    "\n",
    "# Note that the initializer, when not None, is used as the first value instead of the first value from iterable , and after the whole iterable.\n",
    "tup = (2,1,0,2,2,0,0,2)\n",
    "print(reduce(lambda x, y: x+y, tup,6))\n",
    "\n",
    "# This code is contributed by aashutoshjha\n"
   ]
  },
  {
   "cell_type": "code",
   "execution_count": null,
   "id": "9c694d94",
   "metadata": {},
   "outputs": [],
   "source": []
  }
 ],
 "metadata": {
  "kernelspec": {
   "display_name": "Python 3 (ipykernel)",
   "language": "python",
   "name": "python3"
  },
  "language_info": {
   "codemirror_mode": {
    "name": "ipython",
    "version": 3
   },
   "file_extension": ".py",
   "mimetype": "text/x-python",
   "name": "python",
   "nbconvert_exporter": "python",
   "pygments_lexer": "ipython3",
   "version": "3.9.7"
  }
 },
 "nbformat": 4,
 "nbformat_minor": 5
}
