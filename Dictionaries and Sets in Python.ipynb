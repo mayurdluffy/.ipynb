{
 "cells": [
  {
   "cell_type": "markdown",
   "id": "6bf0833a",
   "metadata": {},
   "source": [
    "### Dictionaries in Python\n",
    "\n",
    "In dictionaries each key is separated from its value by a colon (:), the items are separated by commas,\n",
    "and the whole thing is enclosed in curly braces. An empty dictionary without any items is\n",
    "written with just two curly braces, like this: {}.\n",
    "\n",
    "Keys are unique within a dictionary while values may not be. The values of a dictionary\n",
    "can be of any type, but the keys must be of an immutable data type such as strings,\n",
    "numbers, or tuples."
   ]
  },
  {
   "cell_type": "code",
   "execution_count": 24,
   "id": "0d778a0e",
   "metadata": {},
   "outputs": [
    {
     "name": "stdout",
     "output_type": "stream",
     "text": [
      "dict['Name']:  Zara\n",
      "dict['Age']:  7\n"
     ]
    }
   ],
   "source": [
    "dict = {'Name': 'Zara', 'Age': 7, 'Class': 'First'}\n",
    "\n",
    "print (\"dict['Name']: \", dict['Name'])\n",
    "print (\"dict['Age']: \", dict['Age'])"
   ]
  },
  {
   "cell_type": "code",
   "execution_count": 26,
   "id": "0589dca1",
   "metadata": {},
   "outputs": [
    {
     "ename": "KeyError",
     "evalue": "'height'",
     "output_type": "error",
     "traceback": [
      "\u001b[1;31m---------------------------------------------------------------------------\u001b[0m",
      "\u001b[1;31mKeyError\u001b[0m                                  Traceback (most recent call last)",
      "\u001b[1;32m~\\AppData\\Local\\Temp/ipykernel_8496/1052026812.py\u001b[0m in \u001b[0;36m<module>\u001b[1;34m\u001b[0m\n\u001b[1;32m----> 1\u001b[1;33m \u001b[0mprint\u001b[0m \u001b[1;33m(\u001b[0m\u001b[1;34m\"dict['height']: \"\u001b[0m\u001b[1;33m,\u001b[0m \u001b[0mdict\u001b[0m\u001b[1;33m[\u001b[0m\u001b[1;34m'height'\u001b[0m\u001b[1;33m]\u001b[0m\u001b[1;33m)\u001b[0m\u001b[1;33m\u001b[0m\u001b[1;33m\u001b[0m\u001b[0m\n\u001b[0m",
      "\u001b[1;31mKeyError\u001b[0m: 'height'"
     ]
    }
   ],
   "source": [
    "print (\"dict['height']: \", dict['height'])"
   ]
  },
  {
   "cell_type": "code",
   "execution_count": 27,
   "id": "beef832d",
   "metadata": {},
   "outputs": [
    {
     "name": "stdout",
     "output_type": "stream",
     "text": [
      "dict['Age']:  8\n",
      "dict['School']:  DPS School\n"
     ]
    }
   ],
   "source": [
    "dict = {'Name': 'Zara', 'Age': 7, 'Class': 'First'}\n",
    "\n",
    "dict['Age'] = 8; # update existing entry\n",
    "\n",
    "dict['School'] = \"DPS School\" # Add new entry\n",
    "\n",
    "print (\"dict['Age']: \", dict['Age'])\n",
    "print (\"dict['School']: \", dict['School'])"
   ]
  },
  {
   "cell_type": "code",
   "execution_count": 30,
   "id": "6f9b538c",
   "metadata": {},
   "outputs": [
    {
     "name": "stdout",
     "output_type": "stream",
     "text": [
      "{'Age': 7, 'Class': 'First'}\n",
      "<class 'dict'>\n"
     ]
    }
   ],
   "source": [
    "dict = {'Name': 'Zara', 'Age': 7, 'Class': 'First'}\n",
    "\n",
    "del dict['Name'] # remove entry with key 'Name'\n",
    "print(dict)\n",
    "\n",
    "dict.clear() # remove all entries in dict\n",
    "del dict # delete entire dictionary\n",
    "\n",
    "print(dict)"
   ]
  },
  {
   "cell_type": "markdown",
   "id": "96412ace",
   "metadata": {},
   "source": [
    "### Properties of Dictionary Keys\n",
    "\n",
    "Dictionary values have no restrictions. They can be any arbitrary Python object, either\n",
    "standard objects or user-defined objects. However, same is not true for the keys.\n",
    "\n",
    "There are two important points to remember about dictionary keys-\n",
    "\n",
    "(a) More than one entry per key is not allowed. This means no duplicate key is allowed.\n",
    "When duplicate keys are encountered during assignment, the last assignment wins.\n",
    "\n",
    "(b) Keys must be immutable. This means you can use strings, numbers or tuples as\n",
    "dictionary keys but something like ['key'] is not allowed. \n",
    "\n",
    "For eg;\n"
   ]
  },
  {
   "cell_type": "code",
   "execution_count": 35,
   "id": "4d7ac982",
   "metadata": {},
   "outputs": [
    {
     "ename": "TypeError",
     "evalue": "unhashable type: 'list'",
     "output_type": "error",
     "traceback": [
      "\u001b[1;31m---------------------------------------------------------------------------\u001b[0m",
      "\u001b[1;31mTypeError\u001b[0m                                 Traceback (most recent call last)",
      "\u001b[1;32m~\\AppData\\Local\\Temp/ipykernel_8496/1328318032.py\u001b[0m in \u001b[0;36m<module>\u001b[1;34m\u001b[0m\n\u001b[1;32m----> 1\u001b[1;33m \u001b[0mdict\u001b[0m \u001b[1;33m=\u001b[0m \u001b[1;33m{\u001b[0m\u001b[1;33m[\u001b[0m\u001b[1;34m'Name'\u001b[0m\u001b[1;33m]\u001b[0m\u001b[1;33m:\u001b[0m \u001b[1;34m'Zara'\u001b[0m\u001b[1;33m,\u001b[0m \u001b[1;34m'Age'\u001b[0m\u001b[1;33m:\u001b[0m \u001b[1;36m7\u001b[0m\u001b[1;33m}\u001b[0m\u001b[1;33m\u001b[0m\u001b[1;33m\u001b[0m\u001b[0m\n\u001b[0m\u001b[0;32m      2\u001b[0m \u001b[0mprint\u001b[0m \u001b[1;33m(\u001b[0m\u001b[1;34m\"dict['Name']: \"\u001b[0m\u001b[1;33m,\u001b[0m \u001b[0mdict\u001b[0m\u001b[1;33m[\u001b[0m\u001b[1;34m'Name'\u001b[0m\u001b[1;33m]\u001b[0m\u001b[1;33m)\u001b[0m\u001b[1;33m\u001b[0m\u001b[1;33m\u001b[0m\u001b[0m\n",
      "\u001b[1;31mTypeError\u001b[0m: unhashable type: 'list'"
     ]
    }
   ],
   "source": [
    "dict = {['Name']: 'Zara', 'Age': 7}\n",
    "print (\"dict['Name']: \", dict['Name'])"
   ]
  },
  {
   "cell_type": "code",
   "execution_count": 38,
   "id": "4a097ff5",
   "metadata": {},
   "outputs": [
    {
     "name": "stdout",
     "output_type": "stream",
     "text": [
      "3\n"
     ]
    }
   ],
   "source": [
    "dict = {'Name': 'Zara', 'Age': 7, 'Class': 'First'}\n",
    "\n",
    "print(len(dict))\n",
    "# print(str(dict)) # returns a printable string representation of dict"
   ]
  },
  {
   "cell_type": "code",
   "execution_count": 39,
   "id": "0aadbe31",
   "metadata": {},
   "outputs": [
    {
     "name": "stdout",
     "output_type": "stream",
     "text": [
      "2\n",
      "0\n"
     ]
    }
   ],
   "source": [
    "dict = {'Name': 'Zara', 'Age': 7}\n",
    "\n",
    "print (len(dict))\n",
    "\n",
    "dict.clear() # removes all items from the dictionary\n",
    "print (len(dict))"
   ]
  },
  {
   "cell_type": "code",
   "execution_count": 40,
   "id": "d0d3bb48",
   "metadata": {},
   "outputs": [
    {
     "name": "stdout",
     "output_type": "stream",
     "text": [
      "{'Name': 'Manni', 'Age': 7, 'Class': 'First'}\n"
     ]
    }
   ],
   "source": [
    "dict1 = {'Name': 'Manni', 'Age': 7, 'Class': 'First'}\n",
    "\n",
    "dict2 = dict1.copy() # returns a shallow copy of the dictionary\n",
    "print (dict2)"
   ]
  },
  {
   "cell_type": "code",
   "execution_count": 42,
   "id": "176699dd",
   "metadata": {},
   "outputs": [
    {
     "name": "stdout",
     "output_type": "stream",
     "text": [
      "{'name': None, 'age': None, 'sex': None}\n",
      "{'name': 10, 'age': 10, 'sex': 10}\n"
     ]
    }
   ],
   "source": [
    "seq = ('name', 'age', 'sex')\n",
    "\n",
    "dict = dict.fromkeys(seq) # creates a new dictionary with keys from seq and values set to value\n",
    "\n",
    "print(dict)\n",
    "\n",
    "dict = dict.fromkeys(seq, 10) # value is optional, if provided then value would be set to this value\n",
    "print(dict)"
   ]
  },
  {
   "cell_type": "code",
   "execution_count": 43,
   "id": "f467298c",
   "metadata": {},
   "outputs": [
    {
     "name": "stdout",
     "output_type": "stream",
     "text": [
      "27\n",
      "NA\n"
     ]
    }
   ],
   "source": [
    "dict = {'Name': 'Zara', 'Age': 27}\n",
    "\n",
    "print (dict.get('Age'))\n",
    "print (dict.get('Sex', \"NA\")) # \"NA\" is default is the Value to be returned in case key does not exist"
   ]
  },
  {
   "cell_type": "code",
   "execution_count": 45,
   "id": "533404d7",
   "metadata": {},
   "outputs": [
    {
     "name": "stdout",
     "output_type": "stream",
     "text": [
      "dict_items([('Name', 'Zara'), ('Age', 7)])\n"
     ]
    }
   ],
   "source": [
    "dict = {'Name': 'Zara', 'Age': 7}\n",
    "\n",
    "print (dict.items()) # returns a list of tuple pairs"
   ]
  },
  {
   "cell_type": "code",
   "execution_count": 49,
   "id": "bc931a44",
   "metadata": {},
   "outputs": [
    {
     "name": "stdout",
     "output_type": "stream",
     "text": [
      "dict_keys(['Name', 'Age'])\n",
      "dict_values(['Zara', 7])\n"
     ]
    }
   ],
   "source": [
    "dict = {'Name': 'Zara', 'Age': 7}\n",
    "\n",
    "print (dict.keys()) # returns a list of all the available keys in the dictionary\n",
    "print(dict.values()) # returns a list of all the values available in a given dictionary"
   ]
  },
  {
   "cell_type": "code",
   "execution_count": 47,
   "id": "e224e9ee",
   "metadata": {},
   "outputs": [
    {
     "name": "stdout",
     "output_type": "stream",
     "text": [
      "7\n",
      "None\n",
      "{'Name': 'Zara', 'Age': 7, 'Sex': None}\n"
     ]
    }
   ],
   "source": [
    "# The method setdefault() is similar to get(), but will set dict[key]=default if the key is not already in dict.\n",
    "\n",
    "dict = {'Name': 'Zara', 'Age': 7}\n",
    "\n",
    "print (dict.setdefault('Age', None))\n",
    "print (dict.setdefault('Sex', None))\n",
    "\n",
    "print (dict)"
   ]
  },
  {
   "cell_type": "code",
   "execution_count": 48,
   "id": "a7bbddee",
   "metadata": {},
   "outputs": [
    {
     "name": "stdout",
     "output_type": "stream",
     "text": [
      "{'Name': 'Zara', 'Age': 7, 'Sex': 'female'}\n"
     ]
    }
   ],
   "source": [
    "dict1 = {'Name': 'Zara', 'Age': 7}\n",
    "dict2 = {'Sex': 'female' }\n",
    "\n",
    "dict1.update(dict2)\n",
    "print (dict1)"
   ]
  },
  {
   "cell_type": "markdown",
   "id": "46b40e8d",
   "metadata": {},
   "source": [
    "### Sets in Python\n",
    "\n",
    "A set is a unordered collection of data types that is iterable, mutable and has no duplicate elements.\n",
    "\n",
    "Python set class represents the mathematical notation of set.\n",
    "\n",
    "The major advantage of using set, as opposite of a list, is that it has highly optimized method for checking whether a specific element is contained in the set.\n",
    "\n",
    "This is based on the data structure known as hash-table. Since sets are unordered, we cannot access items of a set using indexes."
   ]
  },
  {
   "cell_type": "code",
   "execution_count": 50,
   "id": "2b74bb22",
   "metadata": {},
   "outputs": [
    {
     "name": "stdout",
     "output_type": "stream",
     "text": [
      "{1, 2, 3}\n",
      "{'Hello', 1.0, (1, 2, 3)}\n"
     ]
    }
   ],
   "source": [
    "# Different types of sets in Python\n",
    "# set of integers\n",
    "my_set = {1, 2, 3}\n",
    "print(my_set)\n",
    "\n",
    "# set of mixed datatypes\n",
    "my_set = {1.0, \"Hello\", (1, 2, 3)}\n",
    "print(my_set)"
   ]
  },
  {
   "cell_type": "code",
   "execution_count": 51,
   "id": "913d606e",
   "metadata": {},
   "outputs": [
    {
     "name": "stdout",
     "output_type": "stream",
     "text": [
      "{1, 2, 3, 4}\n",
      "{1, 2, 3}\n"
     ]
    },
    {
     "ename": "TypeError",
     "evalue": "unhashable type: 'list'",
     "output_type": "error",
     "traceback": [
      "\u001b[1;31m---------------------------------------------------------------------------\u001b[0m",
      "\u001b[1;31mTypeError\u001b[0m                                 Traceback (most recent call last)",
      "\u001b[1;32m~\\AppData\\Local\\Temp/ipykernel_8496/919206453.py\u001b[0m in \u001b[0;36m<module>\u001b[1;34m\u001b[0m\n\u001b[0;32m     13\u001b[0m \u001b[1;31m# this will cause an error.\u001b[0m\u001b[1;33m\u001b[0m\u001b[1;33m\u001b[0m\u001b[0m\n\u001b[0;32m     14\u001b[0m \u001b[1;33m\u001b[0m\u001b[0m\n\u001b[1;32m---> 15\u001b[1;33m \u001b[0mmy_set\u001b[0m \u001b[1;33m=\u001b[0m \u001b[1;33m{\u001b[0m\u001b[1;36m1\u001b[0m\u001b[1;33m,\u001b[0m \u001b[1;36m2\u001b[0m\u001b[1;33m,\u001b[0m \u001b[1;33m[\u001b[0m\u001b[1;36m3\u001b[0m\u001b[1;33m,\u001b[0m \u001b[1;36m4\u001b[0m\u001b[1;33m]\u001b[0m\u001b[1;33m}\u001b[0m\u001b[1;33m\u001b[0m\u001b[1;33m\u001b[0m\u001b[0m\n\u001b[0m",
      "\u001b[1;31mTypeError\u001b[0m: unhashable type: 'list'"
     ]
    }
   ],
   "source": [
    "# set cannot have duplicates\n",
    "# Output: {1, 2, 3, 4}\n",
    "my_set = {1, 2, 3, 4, 3, 2}\n",
    "print(my_set)\n",
    "\n",
    "# we can make set from a list\n",
    "# Output: {1, 2, 3}\n",
    "my_set = set([1, 2, 3, 2])\n",
    "print(my_set)\n",
    "\n",
    "# set cannot have mutable items\n",
    "# here [3, 4] is a mutable list\n",
    "# this will cause an error.\n",
    "\n",
    "my_set = {1, 2, [3, 4]}"
   ]
  },
  {
   "cell_type": "code",
   "execution_count": 52,
   "id": "2941f7d9",
   "metadata": {},
   "outputs": [
    {
     "name": "stdout",
     "output_type": "stream",
     "text": [
      "<class 'dict'>\n",
      "<class 'set'>\n"
     ]
    }
   ],
   "source": [
    "# Distinguish set and dictionary while creating empty set\n",
    "\n",
    "# initialize a with {}\n",
    "a = {}\n",
    "\n",
    "# check data type of a\n",
    "print(type(a))\n",
    "\n",
    "# initialize a with set()\n",
    "a = set()\n",
    "\n",
    "# check data type of a\n",
    "print(type(a))"
   ]
  },
  {
   "cell_type": "markdown",
   "id": "14426790",
   "metadata": {},
   "source": [
    "We can add a single element using the add() method, and multiple elements using the update() method. The update() method can take tuples, lists, strings or other sets as its argument. In all cases, duplicates are avoided."
   ]
  },
  {
   "cell_type": "code",
   "execution_count": 53,
   "id": "c6f866fd",
   "metadata": {},
   "outputs": [
    {
     "name": "stdout",
     "output_type": "stream",
     "text": [
      "{1, 3}\n",
      "{1, 2, 3}\n",
      "{1, 2, 3, 4}\n",
      "{1, 2, 3, 4, 5, 6, 8}\n"
     ]
    }
   ],
   "source": [
    "# initialize my_set\n",
    "my_set = {1, 3}\n",
    "print(my_set)\n",
    "\n",
    "# my_set[0]\n",
    "# if you uncomment the above line\n",
    "# you will get an error\n",
    "# TypeError: 'set' object does not support indexing\n",
    "\n",
    "# add an element\n",
    "# Output: {1, 2, 3}\n",
    "my_set.add(2)\n",
    "print(my_set)\n",
    "\n",
    "# add multiple elements\n",
    "# Output: {1, 2, 3, 4}\n",
    "my_set.update([2, 3, 4])\n",
    "print(my_set)\n",
    "\n",
    "# add list and set\n",
    "# Output: {1, 2, 3, 4, 5, 6, 8}\n",
    "my_set.update([4, 5], {1, 6, 8})\n",
    "print(my_set)"
   ]
  },
  {
   "cell_type": "markdown",
   "id": "48c17d16",
   "metadata": {},
   "source": [
    "A particular item can be removed from a set using the methods discard() and remove().\n",
    "\n",
    "The only difference between the two is that the discard() function leaves a set unchanged if the element is not present in the set. On the other hand, the remove() function will raise an error in such a condition (if element is not present in the set).\n",
    "\n",
    "The following example will illustrate this."
   ]
  },
  {
   "cell_type": "code",
   "execution_count": 54,
   "id": "b94a561d",
   "metadata": {},
   "outputs": [
    {
     "name": "stdout",
     "output_type": "stream",
     "text": [
      "{1, 3, 4, 5, 6}\n",
      "{1, 3, 5, 6}\n",
      "{1, 3, 5}\n",
      "{1, 3, 5}\n"
     ]
    },
    {
     "ename": "KeyError",
     "evalue": "2",
     "output_type": "error",
     "traceback": [
      "\u001b[1;31m---------------------------------------------------------------------------\u001b[0m",
      "\u001b[1;31mKeyError\u001b[0m                                  Traceback (most recent call last)",
      "\u001b[1;32m~\\AppData\\Local\\Temp/ipykernel_8496/1588486239.py\u001b[0m in \u001b[0;36m<module>\u001b[1;34m\u001b[0m\n\u001b[0;32m     26\u001b[0m \u001b[1;31m# Output: KeyError\u001b[0m\u001b[1;33m\u001b[0m\u001b[1;33m\u001b[0m\u001b[0m\n\u001b[0;32m     27\u001b[0m \u001b[1;33m\u001b[0m\u001b[0m\n\u001b[1;32m---> 28\u001b[1;33m \u001b[0mmy_set\u001b[0m\u001b[1;33m.\u001b[0m\u001b[0mremove\u001b[0m\u001b[1;33m(\u001b[0m\u001b[1;36m2\u001b[0m\u001b[1;33m)\u001b[0m\u001b[1;33m\u001b[0m\u001b[1;33m\u001b[0m\u001b[0m\n\u001b[0m",
      "\u001b[1;31mKeyError\u001b[0m: 2"
     ]
    }
   ],
   "source": [
    "# Difference between discard() and remove()\n",
    "\n",
    "# initialize my_set\n",
    "my_set = {1, 3, 4, 5, 6}\n",
    "print(my_set)\n",
    "\n",
    "# discard an element\n",
    "# Output: {1, 3, 5, 6}\n",
    "my_set.discard(4)\n",
    "print(my_set)\n",
    "\n",
    "# remove an element\n",
    "# Output: {1, 3, 5}\n",
    "my_set.remove(6)\n",
    "print(my_set)\n",
    "\n",
    "# discard an element\n",
    "# not present in my_set\n",
    "# Output: {1, 3, 5}\n",
    "my_set.discard(2)\n",
    "print(my_set)\n",
    "\n",
    "# remove an element\n",
    "# not present in my_set\n",
    "# you will get an error.\n",
    "# Output: KeyError\n",
    "\n",
    "my_set.remove(2)"
   ]
  },
  {
   "cell_type": "markdown",
   "id": "c5f9c4a7",
   "metadata": {},
   "source": [
    "Similarly, we can remove and return an item using the pop() method.\n",
    "\n",
    "Since set is an unordered data type, there is no way of determining which item will be popped. It is completely arbitrary.\n",
    "\n",
    "We can also remove all the items from a set using the clear() method."
   ]
  },
  {
   "cell_type": "code",
   "execution_count": 55,
   "id": "6d9b479c",
   "metadata": {},
   "outputs": [
    {
     "name": "stdout",
     "output_type": "stream",
     "text": [
      "{'W', 'r', 'H', 'e', 'd', 'l', 'o'}\n",
      "W\n",
      "{'H', 'e', 'd', 'l', 'o'}\n",
      "set()\n",
      "set()\n"
     ]
    }
   ],
   "source": [
    "# initialize my_set\n",
    "# Output: set of unique elements\n",
    "my_set = set(\"HelloWorld\")\n",
    "print(my_set)\n",
    "\n",
    "# pop an element\n",
    "# Output: random element\n",
    "print(my_set.pop())\n",
    "\n",
    "# pop another element\n",
    "my_set.pop()\n",
    "print(my_set)\n",
    "\n",
    "# clear my_set\n",
    "# Output: set()\n",
    "my_set.clear()\n",
    "print(my_set)\n",
    "\n",
    "print(my_set)"
   ]
  },
  {
   "cell_type": "markdown",
   "id": "049eebcb",
   "metadata": {},
   "source": [
    "### Python Set Operations\n",
    "\n",
    "Sets can be used to carry out mathematical set operations like union, intersection, difference and symmetric difference. We can do this with operators or methods.\n",
    "\n",
    "### Union\n",
    "\n",
    "<img src=\"images/set-union.png\" height = 400 width = 400>"
   ]
  },
  {
   "cell_type": "code",
   "execution_count": 56,
   "id": "638ee38c",
   "metadata": {},
   "outputs": [
    {
     "name": "stdout",
     "output_type": "stream",
     "text": [
      "{1, 2, 3, 4, 5, 6, 7, 8}\n"
     ]
    }
   ],
   "source": [
    "# Set union method\n",
    "# initialize A and B\n",
    "A = {1, 2, 3, 4, 5}\n",
    "B = {4, 5, 6, 7, 8}\n",
    "\n",
    "# use | operator\n",
    "# Output: {1, 2, 3, 4, 5, 6, 7, 8}\n",
    "print(A | B)"
   ]
  },
  {
   "cell_type": "code",
   "execution_count": 63,
   "id": "296da792",
   "metadata": {},
   "outputs": [
    {
     "name": "stdout",
     "output_type": "stream",
     "text": [
      "{1, 2, 3, 4, 5, 6, 7, 8}\n",
      "{1, 2, 3, 4, 5, 6, 7, 8}\n"
     ]
    }
   ],
   "source": [
    "# use union function\n",
    "print(A.union(B))\n",
    "\n",
    "# use union function on B\n",
    "print(B.union(A))"
   ]
  },
  {
   "cell_type": "markdown",
   "id": "e5648e10",
   "metadata": {},
   "source": [
    "### Intersection\n",
    "<img src=\"images/set-intersection.png\" height = 400 width = 400>"
   ]
  },
  {
   "cell_type": "code",
   "execution_count": 57,
   "id": "1ae8f376",
   "metadata": {},
   "outputs": [
    {
     "name": "stdout",
     "output_type": "stream",
     "text": [
      "{4, 5}\n"
     ]
    }
   ],
   "source": [
    "# Intersection of sets\n",
    "# initialize A and B\n",
    "A = {1, 2, 3, 4, 5}\n",
    "B = {4, 5, 6, 7, 8}\n",
    "\n",
    "# use & operator\n",
    "# Output: {4, 5}\n",
    "print(A & B)"
   ]
  },
  {
   "cell_type": "code",
   "execution_count": 62,
   "id": "56f84d29",
   "metadata": {},
   "outputs": [
    {
     "name": "stdout",
     "output_type": "stream",
     "text": [
      "{4, 5}\n",
      "{4, 5}\n"
     ]
    }
   ],
   "source": [
    "#use intersection function on A\n",
    "print(A.intersection(B))\n",
    "\n",
    "\n",
    "#use intersection function on B\n",
    "print(B.intersection(A))"
   ]
  },
  {
   "cell_type": "markdown",
   "id": "917e9c41",
   "metadata": {},
   "source": [
    "## Difference\n",
    "\n",
    "of the set B from set A(A - B) is a set of elements that are only in A but not in B. Similarly, B - A is a set of elements in B but not in A.\n",
    "\n",
    "Difference is performed using - operator. Same can be accomplished using the difference() method.\n",
    "\n",
    "<img src=\"images/set-difference.png\" height = 400 width = 400>"
   ]
  },
  {
   "cell_type": "code",
   "execution_count": 59,
   "id": "6effc095",
   "metadata": {},
   "outputs": [
    {
     "name": "stdout",
     "output_type": "stream",
     "text": [
      "{1, 2, 3}\n",
      "{8, 6, 7}\n"
     ]
    }
   ],
   "source": [
    "# Difference of two sets\n",
    "# initialize A and B\n",
    "A = {1, 2, 3, 4, 5}\n",
    "B = {4, 5, 6, 7, 8}\n",
    "\n",
    "# use - operator on A\n",
    "# Output: {1, 2, 3}\n",
    "print(A - B)\n",
    "print(B - A)"
   ]
  },
  {
   "cell_type": "code",
   "execution_count": 61,
   "id": "f52234e0",
   "metadata": {},
   "outputs": [
    {
     "name": "stdout",
     "output_type": "stream",
     "text": [
      "{1, 2, 3}\n",
      "{8, 6, 7}\n"
     ]
    }
   ],
   "source": [
    "# use difference function on A\n",
    "print(A.difference(B))\n",
    "\n",
    "# use difference function on B\n",
    "print(B.difference(A))"
   ]
  },
  {
   "cell_type": "markdown",
   "id": "c316cae5",
   "metadata": {},
   "source": [
    "### Symmetric difference\n",
    "\n",
    "Symmetric Difference of A and B is a set of elements in A and B but not in both (excluding the intersection).\n",
    "\n",
    "Symmetric difference is performed using ^ operator. Same can be accomplished using the method symmetric_difference().\n",
    "\n",
    "<img src=\"images/set-symmetric-difference.png\" height = 400 width = 400>"
   ]
  },
  {
   "cell_type": "code",
   "execution_count": 64,
   "id": "cbf3e53f",
   "metadata": {},
   "outputs": [
    {
     "name": "stdout",
     "output_type": "stream",
     "text": [
      "{1, 2, 3, 6, 7, 8}\n"
     ]
    }
   ],
   "source": [
    "# Symmetric difference of two sets\n",
    "# initialize A and B\n",
    "A = {1, 2, 3, 4, 5}\n",
    "B = {4, 5, 6, 7, 8}\n",
    "\n",
    "# use ^ operator\n",
    "# Output: {1, 2, 3, 6, 7, 8}\n",
    "print(A ^ B)"
   ]
  },
  {
   "cell_type": "code",
   "execution_count": 65,
   "id": "bb7a3e2c",
   "metadata": {},
   "outputs": [
    {
     "name": "stdout",
     "output_type": "stream",
     "text": [
      "{1, 2, 3, 6, 7, 8}\n",
      "{1, 2, 3, 6, 7, 8}\n"
     ]
    }
   ],
   "source": [
    "# use symmetric_difference function on A\n",
    "print(A.symmetric_difference(B))\n",
    "\n",
    "# use symmetric_difference function on B\n",
    "print(B.symmetric_difference(A))"
   ]
  },
  {
   "cell_type": "markdown",
   "id": "19d08e76",
   "metadata": {},
   "source": [
    "### Other Python Set Methods\n",
    "\n",
    "There are many set methods, some of which we have already used above. Here is a list of all the methods that are available with the set objects:\n",
    "\n",
    "<img src=\"images/set methods.png\" height = 600 width = 600>\n",
    "<img src=\"images/set methods2.png\" height = 600 width = 600>"
   ]
  },
  {
   "cell_type": "code",
   "execution_count": 66,
   "id": "90c84629",
   "metadata": {},
   "outputs": [
    {
     "name": "stdout",
     "output_type": "stream",
     "text": [
      "True\n",
      "False\n"
     ]
    }
   ],
   "source": [
    "# in keyword in a set\n",
    "# initialize my_set\n",
    "my_set = set(\"apple\")\n",
    "\n",
    "# check if 'a' is present\n",
    "# Output: True\n",
    "print('a' in my_set)\n",
    "\n",
    "# check if 'p' is present\n",
    "# Output: False\n",
    "print('p' not in my_set)"
   ]
  },
  {
   "cell_type": "markdown",
   "id": "cdec01fe",
   "metadata": {},
   "source": [
    "### Built-in Functions with Set\n",
    "\n",
    "Built-in functions like all(), any(), enumerate(), len(), max(), min(), sorted(), sum() etc. are commonly used with sets to perform different tasks.\n",
    "\n",
    "<img src=\"images/other methods.png\" height = 600 width = 600>"
   ]
  },
  {
   "cell_type": "code",
   "execution_count": null,
   "id": "61f68d71",
   "metadata": {},
   "outputs": [],
   "source": []
  }
 ],
 "metadata": {
  "kernelspec": {
   "display_name": "Python 3 (ipykernel)",
   "language": "python",
   "name": "python3"
  },
  "language_info": {
   "codemirror_mode": {
    "name": "ipython",
    "version": 3
   },
   "file_extension": ".py",
   "mimetype": "text/x-python",
   "name": "python",
   "nbconvert_exporter": "python",
   "pygments_lexer": "ipython3",
   "version": "3.9.7"
  }
 },
 "nbformat": 4,
 "nbformat_minor": 5
}
