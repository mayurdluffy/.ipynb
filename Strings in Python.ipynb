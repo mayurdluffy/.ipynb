{
 "cells": [
  {
   "cell_type": "markdown",
   "id": "ab508540",
   "metadata": {},
   "source": [
    "### Strings in Python\n",
    "\n",
    "Accessing python strings:\n",
    "\n",
    "1. In python strings are stored as individual characters in a contiguous memeory loaction.\n",
    "2. The benefit of using string is that it can be accessed form both the ends (start, end).\n",
    "3. Forward indexing starts with 0 and backward indexing starts with -1.\n",
    "\n"
   ]
  },
  {
   "cell_type": "code",
   "execution_count": 6,
   "id": "7606ccd8",
   "metadata": {},
   "outputs": [
    {
     "name": "stdout",
     "output_type": "stream",
     "text": [
      "str1[0]:  H\n",
      "str2[1:5]:  ytho\n",
      "updating string:  Hello python\n"
     ]
    }
   ],
   "source": [
    "str1 = 'Hello world'\n",
    "str2 = 'Python programming'\n",
    "\n",
    "print (\"str1[0]: \", str1[0])\n",
    "print (\"str2[1:5]: \", str2[1:5])\n",
    "print(\"updating string: \",str1[:6] + 'python')"
   ]
  },
  {
   "cell_type": "code",
   "execution_count": 58,
   "id": "738305a2",
   "metadata": {},
   "outputs": [
    {
     "name": "stdout",
     "output_type": "stream",
     "text": [
      "R \t t\n",
      "a \t i\n",
      "c \t h\n",
      "h \t c\n",
      "i \t a\n",
      "t \t R\n"
     ]
    }
   ],
   "source": [
    "name = 'Rachit'\n",
    "i = 0\n",
    "for n in range(-1, -len(name)-1, -1):\n",
    "    print(name[i], \"\\t\", name[n])\n",
    "    i += 1 "
   ]
  },
  {
   "cell_type": "markdown",
   "id": "afb5d7de",
   "metadata": {},
   "source": [
    "### Escape characters\n",
    "\n",
    "Following table is a list of escape or non-printable characters that can be represented with\n",
    "backslash notation.\n",
    "\n",
    "An escape character gets interpreted; in a single quoted as well as double quoted strings\n"
   ]
  },
  {
   "cell_type": "markdown",
   "id": "ca8f057a",
   "metadata": {},
   "source": [
    "<img src= \"images/Escape characters.png\" height = 500 width = 500 >\n",
    "<img src= \"images/Escape characters2.png\" height = 500 width = 500 >"
   ]
  },
  {
   "cell_type": "markdown",
   "id": "1c94fdc0",
   "metadata": {},
   "source": [
    "### String operators\n",
    "\n",
    "Assume string variable a holds 'Hello' and variable b holds 'Python', then\n",
    "\n",
    "<img src= \"images/String special operators.png\" height = 500 width = 500 >\n",
    "<img src= \"images/String special operators2.png\" height = 600 width = 565 >"
   ]
  },
  {
   "cell_type": "markdown",
   "id": "8fb5b0c3",
   "metadata": {},
   "source": [
    "### String membership operators\n",
    "\n",
    "in : return true if a character or a substring is present in the specified string, otherwise false.\n",
    "\n",
    "not in: return true if a character or a substring is not present in the specified string, otherwise false."
   ]
  },
  {
   "cell_type": "code",
   "execution_count": 59,
   "id": "c5b55b4c",
   "metadata": {},
   "outputs": [
    {
     "name": "stdout",
     "output_type": "stream",
     "text": [
      "True\n",
      "False\n",
      "False\n",
      "True\n"
     ]
    }
   ],
   "source": [
    "str = \"Python programming\"\n",
    "\n",
    "print('Python' in str)\n",
    "print('python' in str)\n",
    "\n",
    "print('Python' not in str)\n",
    "print('python' not in str)"
   ]
  },
  {
   "cell_type": "markdown",
   "id": "1e679936",
   "metadata": {},
   "source": [
    "### String relational operators\n",
    "\n",
    "All the comparison operators are also applicable with strings. The strings are compared based on ASCII value or Unicode value.\n"
   ]
  },
  {
   "cell_type": "code",
   "execution_count": 61,
   "id": "3c0fb729",
   "metadata": {},
   "outputs": [
    {
     "name": "stdout",
     "output_type": "stream",
     "text": [
      "True\n",
      "False\n"
     ]
    }
   ],
   "source": [
    "str1 = 'Rachit'\n",
    "str2 = 'Alan'\n",
    "\n",
    "print(str1 > str2)\n",
    "print(str1 == str2)"
   ]
  },
  {
   "cell_type": "markdown",
   "id": "aec17076",
   "metadata": {},
   "source": [
    "### String slicing "
   ]
  },
  {
   "cell_type": "code",
   "execution_count": 66,
   "id": "4ff6e78c",
   "metadata": {},
   "outputs": [
    {
     "name": "stdout",
     "output_type": "stream",
     "text": [
      "Python programming\n",
      "programming\n",
      "Python \n",
      "gnimmargorp nohtyP\n",
      "gnimmargorp nohtyP\n",
      "Python\n",
      "nohtyP\n"
     ]
    }
   ],
   "source": [
    "str = \"Python programming\"\n",
    "\n",
    "print(str[:])\n",
    "print(str[7:])\n",
    "print(str[:7])\n",
    "\n",
    "print(str[::-1]) # reversing the string\n",
    "print(str[-1::-1])\n",
    "\n",
    "print(str[-18:-12])\n",
    "print(str[-13:-19:-1])"
   ]
  },
  {
   "cell_type": "code",
   "execution_count": 67,
   "id": "fadbad72",
   "metadata": {},
   "outputs": [
    {
     "name": "stdout",
     "output_type": "stream",
     "text": [
      "@@@\n",
      "Pythonprogramming\n"
     ]
    }
   ],
   "source": [
    "print('@'*3) # replicates the string\n",
    "print('Python' + 'programming') # concatinate the strings"
   ]
  },
  {
   "cell_type": "code",
   "execution_count": 7,
   "id": "f66c7936",
   "metadata": {},
   "outputs": [
    {
     "name": "stdout",
     "output_type": "stream",
     "text": [
      "My name is Zara and weight is 21 kg!\n"
     ]
    }
   ],
   "source": [
    "print (\"My name is %s and weight is %d kg!\" % ('Zara', 21))\n"
   ]
  },
  {
   "cell_type": "markdown",
   "id": "d9699d09",
   "metadata": {},
   "source": [
    "Here is the list of complete set of symbols which can be used along with %\n",
    "\n",
    "<img src= \"images/String formating characters.png\" height = 500 width = 500 >\n",
    "<img src= \"images/String formating characters3.png\" height = 500 width = 500 >\n",
    "<img src= \"images/String formating characters2.png\" height = 500 width = 500 >"
   ]
  },
  {
   "cell_type": "code",
   "execution_count": 8,
   "id": "41906e76",
   "metadata": {},
   "outputs": [
    {
     "name": "stdout",
     "output_type": "stream",
     "text": [
      "this is a long string that is made up of\n",
      "several lines and non-printable characters such as\n",
      "TAB ( \t ) and they will show up that way when displayed.\n",
      "NEWLINEs within the string, whether explicitly given like\n",
      "this within the brackets [ \n",
      " ], or just a NEWLINE within\n",
      "the variable assignment will also show up.\n",
      "\n"
     ]
    }
   ],
   "source": [
    "para_str = \"\"\"this is a long string that is made up of\n",
    "several lines and non-printable characters such as\n",
    "TAB ( \\t ) and they will show up that way when displayed.\n",
    "NEWLINEs within the string, whether explicitly given like\n",
    "this within the brackets [ \\n ], or just a NEWLINE within\n",
    "the variable assignment will also show up.\n",
    "\"\"\"\n",
    "print (para_str)\n",
    "\n"
   ]
  },
  {
   "cell_type": "code",
   "execution_count": 9,
   "id": "3b7c288d",
   "metadata": {},
   "outputs": [
    {
     "name": "stdout",
     "output_type": "stream",
     "text": [
      "C:\\nowhere\n",
      "C:\\\\nowhere\n"
     ]
    }
   ],
   "source": [
    "print ('C:\\\\nowhere')\n",
    "print (r'C:\\\\nowhere') #raw string"
   ]
  },
  {
   "cell_type": "markdown",
   "id": "32db067e",
   "metadata": {},
   "source": [
    "### Built-in String Methods"
   ]
  },
  {
   "cell_type": "code",
   "execution_count": 10,
   "id": "df515029",
   "metadata": {},
   "outputs": [
    {
     "name": "stdout",
     "output_type": "stream",
     "text": [
      "str.capitalize():  Mayur\n"
     ]
    }
   ],
   "source": [
    "# capitalizes the first character of a string\n",
    "\n",
    "str = 'mayur'\n",
    "print(\"str.capitalize(): \",str.capitalize())"
   ]
  },
  {
   "cell_type": "code",
   "execution_count": 13,
   "id": "6a8f2e03",
   "metadata": {},
   "outputs": [
    {
     "name": "stdout",
     "output_type": "stream",
     "text": [
      "str.center(10, 'a') :  aamayuraaa\n"
     ]
    }
   ],
   "source": [
    "# return a centered string filled both sides with a specified char or string\n",
    "\n",
    "print (\"str.center(10, 'a') : \", str.center(10, 'a'))"
   ]
  },
  {
   "cell_type": "code",
   "execution_count": 15,
   "id": "44ed609d",
   "metadata": {},
   "outputs": [
    {
     "name": "stdout",
     "output_type": "stream",
     "text": [
      "str.count('i') :  3\n",
      "str.count('exam', 10, 40) :  1\n"
     ]
    }
   ],
   "source": [
    "# returns the number of occurances of a substring with in a given range\n",
    "\n",
    "str = \"this is string example....wow!!!\"\n",
    "print(\"str.count('i') : \", str.count('i'))\n",
    "print(\"str.count('exam', 10, 40) : \", str.count('exam',10,40))"
   ]
  },
  {
   "cell_type": "code",
   "execution_count": 20,
   "id": "1c7d6fce",
   "metadata": {},
   "outputs": [
    {
     "name": "stdout",
     "output_type": "stream",
     "text": [
      "True\n",
      "True\n",
      "False\n",
      "True\n"
     ]
    }
   ],
   "source": [
    "# checks whether a string ends with a given suffix of not\n",
    "\n",
    "Str='this is string example....wow!!!'\n",
    "\n",
    "suffix='!!'\n",
    "print (Str.endswith(suffix))\n",
    "print (Str.endswith(suffix,20))\n",
    "\n",
    "suffix='exam'\n",
    "print (Str.endswith(suffix))\n",
    "print (Str.endswith(suffix, 0, 19))"
   ]
  },
  {
   "cell_type": "code",
   "execution_count": 52,
   "id": "01e36176",
   "metadata": {},
   "outputs": [
    {
     "name": "stdout",
     "output_type": "stream",
     "text": [
      "True\n",
      "True\n",
      "False\n"
     ]
    }
   ],
   "source": [
    "str = \"this is string example....wow!!!\"\n",
    "print (str.startswith( 'this' ))\n",
    "print (str.startswith( 'string', 8 ))\n",
    "print (str.startswith( 'this', 2, 4 ))"
   ]
  },
  {
   "cell_type": "code",
   "execution_count": 21,
   "id": "1252d2f9",
   "metadata": {},
   "outputs": [
    {
     "name": "stdout",
     "output_type": "stream",
     "text": [
      "15\n",
      "15\n",
      "-1\n"
     ]
    }
   ],
   "source": [
    "# returns the index of the substring if found in a given string or returns -1\n",
    "\n",
    "str1 = \"this is string example....wow!!!\"\n",
    "str2 = \"exam\";\n",
    "print (str1.find(str2))\n",
    "print (str1.find(str2, 10))\n",
    "print (str1.find(str2, 40))"
   ]
  },
  {
   "cell_type": "code",
   "execution_count": 22,
   "id": "66b40d73",
   "metadata": {},
   "outputs": [
    {
     "name": "stdout",
     "output_type": "stream",
     "text": [
      "15\n",
      "15\n"
     ]
    },
    {
     "ename": "ValueError",
     "evalue": "substring not found",
     "output_type": "error",
     "traceback": [
      "\u001b[1;31m---------------------------------------------------------------------------\u001b[0m",
      "\u001b[1;31mValueError\u001b[0m                                Traceback (most recent call last)",
      "\u001b[1;32m~\\AppData\\Local\\Temp/ipykernel_5796/2660576830.py\u001b[0m in \u001b[0;36m<module>\u001b[1;34m\u001b[0m\n\u001b[0;32m      3\u001b[0m \u001b[0mprint\u001b[0m \u001b[1;33m(\u001b[0m\u001b[0mstr1\u001b[0m\u001b[1;33m.\u001b[0m\u001b[0mindex\u001b[0m\u001b[1;33m(\u001b[0m\u001b[0mstr2\u001b[0m\u001b[1;33m)\u001b[0m\u001b[1;33m)\u001b[0m\u001b[1;33m\u001b[0m\u001b[1;33m\u001b[0m\u001b[0m\n\u001b[0;32m      4\u001b[0m \u001b[0mprint\u001b[0m \u001b[1;33m(\u001b[0m\u001b[0mstr1\u001b[0m\u001b[1;33m.\u001b[0m\u001b[0mindex\u001b[0m\u001b[1;33m(\u001b[0m\u001b[0mstr2\u001b[0m\u001b[1;33m,\u001b[0m \u001b[1;36m10\u001b[0m\u001b[1;33m)\u001b[0m\u001b[1;33m)\u001b[0m\u001b[1;33m\u001b[0m\u001b[1;33m\u001b[0m\u001b[0m\n\u001b[1;32m----> 5\u001b[1;33m \u001b[0mprint\u001b[0m \u001b[1;33m(\u001b[0m\u001b[0mstr1\u001b[0m\u001b[1;33m.\u001b[0m\u001b[0mindex\u001b[0m\u001b[1;33m(\u001b[0m\u001b[0mstr2\u001b[0m\u001b[1;33m,\u001b[0m \u001b[1;36m40\u001b[0m\u001b[1;33m)\u001b[0m\u001b[1;33m)\u001b[0m\u001b[1;33m\u001b[0m\u001b[1;33m\u001b[0m\u001b[0m\n\u001b[0m",
      "\u001b[1;31mValueError\u001b[0m: substring not found"
     ]
    }
   ],
   "source": [
    "# returns the index of the substring if found in a given string else raises an exception\n",
    "\n",
    "str1 = \"this is string example....wow!!!\"\n",
    "str2 = \"exam\";\n",
    "print (str1.index(str2))\n",
    "print (str1.index(str2, 10))\n",
    "print (str1.index(str2, 40))"
   ]
  },
  {
   "cell_type": "code",
   "execution_count": 24,
   "id": "3a47a2e4",
   "metadata": {},
   "outputs": [
    {
     "name": "stdout",
     "output_type": "stream",
     "text": [
      "True\n",
      "False\n"
     ]
    }
   ],
   "source": [
    "#checks whether a string is alphanumeric or not\n",
    "\n",
    "str = \"this2016\" # No space in this string\n",
    "print (str.isalnum())\n",
    "\n",
    "str = \"this is string example....wow!!!\"\n",
    "print (str.isalnum())"
   ]
  },
  {
   "cell_type": "code",
   "execution_count": 26,
   "id": "0c1cc4c0",
   "metadata": {},
   "outputs": [
    {
     "name": "stdout",
     "output_type": "stream",
     "text": [
      "True\n",
      "False\n"
     ]
    }
   ],
   "source": [
    "# checks whether a string is completely alphabetic of not\n",
    "\n",
    "str = \"this\"; # No space & digit in this string\n",
    "print (str.isalpha())\n",
    "\n",
    "str = \"this is string example....wow!!!\"\n",
    "print (str.isalpha())\n"
   ]
  },
  {
   "cell_type": "code",
   "execution_count": 28,
   "id": "170ea9aa",
   "metadata": {},
   "outputs": [
    {
     "name": "stdout",
     "output_type": "stream",
     "text": [
      "True\n",
      "False\n"
     ]
    }
   ],
   "source": [
    "# checks whether a string is completely numeric of not\n",
    "\n",
    "str = \"123456\"; # Only digit in this string\n",
    "print (str.isdigit())\n",
    "\n",
    "str = \"this is string example....wow!!!\"\n",
    "print (str.isdigit())"
   ]
  },
  {
   "cell_type": "code",
   "execution_count": 29,
   "id": "aa6d5b33",
   "metadata": {},
   "outputs": [
    {
     "name": "stdout",
     "output_type": "stream",
     "text": [
      "False\n",
      "True\n"
     ]
    }
   ],
   "source": [
    "str = \"THIS is string example....wow!!!\"\n",
    "print (str.islower())\n",
    "\n",
    "str = \"this is string example....wow!!!\"\n",
    "print (str.islower())"
   ]
  },
  {
   "cell_type": "code",
   "execution_count": 34,
   "id": "3e248d24",
   "metadata": {},
   "outputs": [
    {
     "name": "stdout",
     "output_type": "stream",
     "text": [
      "True\n",
      "False\n"
     ]
    }
   ],
   "source": [
    "str = \"THIS IS STRING EXAMPLE....WOW!!!\"\n",
    "print (str.isupper())\n",
    "\n",
    "str = \"THIS is string example....wow!!!\"\n",
    "print (str.isupper())"
   ]
  },
  {
   "cell_type": "code",
   "execution_count": 31,
   "id": "cebf9eff",
   "metadata": {},
   "outputs": [
    {
     "name": "stdout",
     "output_type": "stream",
     "text": [
      "False\n",
      "True\n"
     ]
    }
   ],
   "source": [
    "str = \"this2016\"\n",
    "print (str.isnumeric())\n",
    "\n",
    "str = \"23443434\"\n",
    "print (str.isnumeric())"
   ]
  },
  {
   "cell_type": "code",
   "execution_count": 57,
   "id": "b927d4d5",
   "metadata": {},
   "outputs": [
    {
     "name": "stdout",
     "output_type": "stream",
     "text": [
      "False\n",
      "True\n"
     ]
    }
   ],
   "source": [
    "str = \"this2016\"\n",
    "print (str.isdecimal())\n",
    "\n",
    "str = \"23443434\"\n",
    "print (str.isdecimal())"
   ]
  },
  {
   "cell_type": "code",
   "execution_count": 32,
   "id": "a47a668f",
   "metadata": {},
   "outputs": [
    {
     "name": "stdout",
     "output_type": "stream",
     "text": [
      "True\n",
      "False\n"
     ]
    }
   ],
   "source": [
    "str = \" \"\n",
    "print (str.isspace())\n",
    "\n",
    "str = \"This is string example....wow!!!\"\n",
    "print (str.isspace())"
   ]
  },
  {
   "cell_type": "code",
   "execution_count": 33,
   "id": "e5016903",
   "metadata": {},
   "outputs": [
    {
     "name": "stdout",
     "output_type": "stream",
     "text": [
      "True\n",
      "False\n"
     ]
    }
   ],
   "source": [
    "str = \"This Is String Example...Wow!!!\"\n",
    "print (str.istitle())\n",
    "\n",
    "str = \"This is string example....wow!!!\"\n",
    "print (str.istitle())"
   ]
  },
  {
   "cell_type": "code",
   "execution_count": 35,
   "id": "88e3fc0b",
   "metadata": {},
   "outputs": [
    {
     "name": "stdout",
     "output_type": "stream",
     "text": [
      "a-b-c\n"
     ]
    }
   ],
   "source": [
    "# returns a string in which the string elements of sequence have been joined by str separator.\n",
    "\n",
    "s = \"-\"\n",
    "seq = (\"a\", \"b\", \"c\") # This is sequence of strings.\n",
    "print (s.join( seq ))"
   ]
  },
  {
   "cell_type": "code",
   "execution_count": 39,
   "id": "19ab4e50",
   "metadata": {},
   "outputs": [
    {
     "name": "stdout",
     "output_type": "stream",
     "text": [
      "this is string example....wow!!!******************\n",
      "\n",
      "******************this is string example....wow!!!\n"
     ]
    }
   ],
   "source": [
    "str = \"this is string example....wow!!!\"\n",
    "print(str.ljust(50, '*'))\n",
    "\n",
    "print()\n",
    "str = \"this is string example....wow!!!\"\n",
    "print (str.rjust(50, '*'))"
   ]
  },
  {
   "cell_type": "code",
   "execution_count": 40,
   "id": "8ee6eb13",
   "metadata": {},
   "outputs": [
    {
     "name": "stdout",
     "output_type": "stream",
     "text": [
      "this is string example....wow!!!\n",
      "THIS IS STRING EXAMPLE....WOW!!!\n"
     ]
    }
   ],
   "source": [
    "str = \"THIS IS STRING EXAMPLE....WOW!!!\"\n",
    "\n",
    "lower = str.lower()\n",
    "upper = lower.upper()\n",
    "\n",
    "print(lower)\n",
    "print(upper)\n"
   ]
  },
  {
   "cell_type": "code",
   "execution_count": 53,
   "id": "287ebdb5",
   "metadata": {},
   "outputs": [
    {
     "name": "stdout",
     "output_type": "stream",
     "text": [
      "this is string example....wow!!!\n"
     ]
    }
   ],
   "source": [
    "str = \"*****this is string example....wow!!!*****\"\n",
    "print (str.strip( '*' ))"
   ]
  },
  {
   "cell_type": "code",
   "execution_count": 41,
   "id": "1bf5436f",
   "metadata": {},
   "outputs": [
    {
     "name": "stdout",
     "output_type": "stream",
     "text": [
      "this is string example....wow!!!\n",
      "this is string example....wow!!!*****\n",
      "*****this is string example....wow!!!\n"
     ]
    }
   ],
   "source": [
    "str = \" this is string example....wow!!!\"\n",
    "print (str.lstrip())\n",
    "\n",
    "str = \"*****this is string example....wow!!!*****\"\n",
    "print (str.lstrip('*'))\n",
    "\n",
    "print(str.rstrip('*'))"
   ]
  },
  {
   "cell_type": "code",
   "execution_count": 42,
   "id": "8ae205cc",
   "metadata": {},
   "outputs": [
    {
     "name": "stdout",
     "output_type": "stream",
     "text": [
      "th3s 3s str3ng 2x1mpl2....w4w!!!\n"
     ]
    }
   ],
   "source": [
    "intab = \"aeiou\"\n",
    "outtab = \"12345\"\n",
    "\n",
    "trantab = str.maketrans(intab, outtab)\n",
    "str = \"this is string example....wow!!!\"\n",
    "\n",
    "print (str.translate(trantab))"
   ]
  },
  {
   "cell_type": "code",
   "execution_count": 45,
   "id": "dba8546c",
   "metadata": {},
   "outputs": [
    {
     "name": "stdout",
     "output_type": "stream",
     "text": [
      "Max character: y\n",
      "Min character: .\n"
     ]
    }
   ],
   "source": [
    "str = \"this is a string example....really!!!\"\n",
    "print (\"Max character: \" + max(str))\n",
    "\n",
    "str = \"www.tutorialspoint.com\"\n",
    "print (\"Min character: \" + min(str))"
   ]
  },
  {
   "cell_type": "code",
   "execution_count": 46,
   "id": "d74d5089",
   "metadata": {},
   "outputs": [
    {
     "name": "stdout",
     "output_type": "stream",
     "text": [
      "thwas was string example....wow!!! thwas was really string\n",
      "thwas was string example....wow!!! thwas is really string\n"
     ]
    }
   ],
   "source": [
    "# returns a copy of the string in which the occurrences of old have been replaced with new, optionally restricting the number of replacements to max.\n",
    "\n",
    "str = \"this is string example....wow!!! this is really string\"\n",
    "print (str.replace(\"is\", \"was\"))\n",
    "print (str.replace(\"is\", \"was\", 3))"
   ]
  },
  {
   "cell_type": "code",
   "execution_count": 48,
   "id": "4da5f157",
   "metadata": {},
   "outputs": [
    {
     "name": "stdout",
     "output_type": "stream",
     "text": [
      "5\n",
      "5\n",
      "-1\n"
     ]
    }
   ],
   "source": [
    "# returns the last index where the substring str is found, or -1 if no such index exists, optionally restricting the search to string[beg:end]\n",
    "\n",
    "str1 = \"this is really a string example....wow!!!\"\n",
    "str2 = \"is\"\n",
    "print (str1.rfind(str2))\n",
    "print (str1.rfind(str2, 0, 10))\n",
    "print (str1.rfind(str2, 10, 0))"
   ]
  },
  {
   "cell_type": "code",
   "execution_count": 49,
   "id": "90d8489c",
   "metadata": {},
   "outputs": [
    {
     "name": "stdout",
     "output_type": "stream",
     "text": [
      "5\n"
     ]
    },
    {
     "ename": "ValueError",
     "evalue": "substring not found",
     "output_type": "error",
     "traceback": [
      "\u001b[1;31m---------------------------------------------------------------------------\u001b[0m",
      "\u001b[1;31mValueError\u001b[0m                                Traceback (most recent call last)",
      "\u001b[1;32m~\\AppData\\Local\\Temp/ipykernel_5796/918800728.py\u001b[0m in \u001b[0;36m<module>\u001b[1;34m\u001b[0m\n\u001b[0;32m      2\u001b[0m \u001b[0mstr2\u001b[0m \u001b[1;33m=\u001b[0m \u001b[1;34m\"is\"\u001b[0m\u001b[1;33m\u001b[0m\u001b[1;33m\u001b[0m\u001b[0m\n\u001b[0;32m      3\u001b[0m \u001b[0mprint\u001b[0m \u001b[1;33m(\u001b[0m\u001b[0mstr1\u001b[0m\u001b[1;33m.\u001b[0m\u001b[0mrindex\u001b[0m\u001b[1;33m(\u001b[0m\u001b[0mstr2\u001b[0m\u001b[1;33m)\u001b[0m\u001b[1;33m)\u001b[0m\u001b[1;33m\u001b[0m\u001b[1;33m\u001b[0m\u001b[0m\n\u001b[1;32m----> 4\u001b[1;33m \u001b[0mprint\u001b[0m \u001b[1;33m(\u001b[0m\u001b[0mstr1\u001b[0m\u001b[1;33m.\u001b[0m\u001b[0mrindex\u001b[0m\u001b[1;33m(\u001b[0m\u001b[0mstr2\u001b[0m\u001b[1;33m,\u001b[0m\u001b[1;36m10\u001b[0m\u001b[1;33m)\u001b[0m\u001b[1;33m)\u001b[0m\u001b[1;33m\u001b[0m\u001b[1;33m\u001b[0m\u001b[0m\n\u001b[0m",
      "\u001b[1;31mValueError\u001b[0m: substring not found"
     ]
    }
   ],
   "source": [
    "str1 = \"this is really a string example....wow!!!\"\n",
    "str2 = \"is\"\n",
    "print (str1.rindex(str2))\n",
    "print (str1.rindex(str2,10))"
   ]
  },
  {
   "cell_type": "code",
   "execution_count": 50,
   "id": "069e38ef",
   "metadata": {},
   "outputs": [
    {
     "name": "stdout",
     "output_type": "stream",
     "text": [
      "['this', 'is', 'string', 'example....wow!!!']\n",
      "['th', 's is string example....wow!!!']\n",
      "['this is string example....', 'o', '!!!']\n"
     ]
    }
   ],
   "source": [
    "# returns a list of all the words in the string, using str as the separator\n",
    "#(splits on all whitespace if left unspecified), optionally limiting the number of splits to num.\n",
    "\n",
    "str = \"this is string example....wow!!!\"\n",
    "print (str.split( ))\n",
    "print (str.split('i',1))\n",
    "print (str.split('w'))"
   ]
  },
  {
   "cell_type": "code",
   "execution_count": 51,
   "id": "ce9f4925",
   "metadata": {},
   "outputs": [
    {
     "name": "stdout",
     "output_type": "stream",
     "text": [
      "['this is ', 'string example....', 'wow!!!']\n"
     ]
    }
   ],
   "source": [
    "str = \"this is \\nstring example....\\nwow!!!\"\n",
    "print (str.splitlines( ))"
   ]
  },
  {
   "cell_type": "code",
   "execution_count": 54,
   "id": "0a3b54c5",
   "metadata": {},
   "outputs": [
    {
     "name": "stdout",
     "output_type": "stream",
     "text": [
      "THIS IS STRING EXAMPLE....WOW!!!\n",
      "tHIS iS sTRING eXAMPLE....wow!!!\n"
     ]
    }
   ],
   "source": [
    "str = \"this is string example....wow!!!\"\n",
    "print (str.swapcase())\n",
    "\n",
    "str = \"This Is String Example....WOW!!!\"\n",
    "print (str.swapcase())"
   ]
  },
  {
   "cell_type": "code",
   "execution_count": 55,
   "id": "28b6304f",
   "metadata": {},
   "outputs": [
    {
     "name": "stdout",
     "output_type": "stream",
     "text": [
      "This Is String Example....Wow!!!\n"
     ]
    }
   ],
   "source": [
    "str = \"this is string example....wow!!!\"\n",
    "print (str.title())"
   ]
  },
  {
   "cell_type": "code",
   "execution_count": 56,
   "id": "131ea0fc",
   "metadata": {},
   "outputs": [
    {
     "name": "stdout",
     "output_type": "stream",
     "text": [
      "str.zfill :  00000000this is string example....wow!!!\n"
     ]
    }
   ],
   "source": [
    "# The zfill() method pads string on the left with zeros to fill width.\n",
    "\n",
    "str = \"this is string example....wow!!!\"\n",
    "print (\"str.zfill : \",str.zfill(40))"
   ]
  },
  {
   "cell_type": "code",
   "execution_count": null,
   "id": "8cf18569",
   "metadata": {},
   "outputs": [],
   "source": []
  }
 ],
 "metadata": {
  "kernelspec": {
   "display_name": "Python 3 (ipykernel)",
   "language": "python",
   "name": "python3"
  },
  "language_info": {
   "codemirror_mode": {
    "name": "ipython",
    "version": 3
   },
   "file_extension": ".py",
   "mimetype": "text/x-python",
   "name": "python",
   "nbconvert_exporter": "python",
   "pygments_lexer": "ipython3",
   "version": "3.9.7"
  }
 },
 "nbformat": 4,
 "nbformat_minor": 5
}
