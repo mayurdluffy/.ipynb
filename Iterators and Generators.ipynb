{
 "cells": [
  {
   "cell_type": "markdown",
   "id": "6340fee5",
   "metadata": {},
   "source": [
    "## Iterators and Generators\n",
    "\n",
    "### Iterators in Python:\n",
    "\n",
    "Iterators are objects that can be iterated upon. In this tutorial, you will learn how iterator works and how you can build your own iterator using __iter__ and __next__ methods.\n",
    "\n",
    "### Iterators in Python\n",
    "\n",
    "Iterators are everywhere in Python. They are elegantly implemented within for loops, comprehensions, generators etc. but are hidden in plain sight.\n",
    "\n",
    "Iterator in Python is simply an object that can be iterated upon. An object which will return data, one element at a time.\n",
    "\n",
    "Technically speaking, a Python iterator object must implement two special methods, __iter__() and __next__(), collectively called the iterator protocol.\n",
    "\n",
    "An object is called iterable if we can get an iterator from it. Most built-in containers in Python like: list, tuple, string etc. are iterables.\n",
    "\n",
    "The iter() function (which in turn calls the __iter__() method) returns an iterator from them.\n",
    "\n",
    "### Iterating Through an Iterator\n",
    "\n",
    "We use the next() function to manually iterate through all the items of an iterator. When we reach the end and there is no more data to be returned, it will raise the StopIteration Exception. Following is an example."
   ]
  },
  {
   "cell_type": "code",
   "execution_count": 3,
   "id": "46769e44",
   "metadata": {},
   "outputs": [
    {
     "name": "stdout",
     "output_type": "stream",
     "text": [
      "4\n",
      "7\n",
      "0\n",
      "3\n"
     ]
    },
    {
     "ename": "StopIteration",
     "evalue": "",
     "output_type": "error",
     "traceback": [
      "\u001b[1;31m---------------------------------------------------------------------------\u001b[0m",
      "\u001b[1;31mStopIteration\u001b[0m                             Traceback (most recent call last)",
      "\u001b[1;32m~\\AppData\\Local\\Temp/ipykernel_6104/1452648365.py\u001b[0m in \u001b[0;36m<module>\u001b[1;34m\u001b[0m\n\u001b[0;32m     22\u001b[0m \u001b[1;33m\u001b[0m\u001b[0m\n\u001b[0;32m     23\u001b[0m \u001b[1;31m# This will raise error, no items left\u001b[0m\u001b[1;33m\u001b[0m\u001b[1;33m\u001b[0m\u001b[0m\n\u001b[1;32m---> 24\u001b[1;33m \u001b[0mnext\u001b[0m\u001b[1;33m(\u001b[0m\u001b[0mmy_iter\u001b[0m\u001b[1;33m)\u001b[0m\u001b[1;33m\u001b[0m\u001b[1;33m\u001b[0m\u001b[0m\n\u001b[0m",
      "\u001b[1;31mStopIteration\u001b[0m: "
     ]
    }
   ],
   "source": [
    "# define a list\n",
    "my_list = [4, 7, 0, 3]\n",
    "\n",
    "# get an iterator using iter()\n",
    "my_iter = iter(my_list)\n",
    "\n",
    "# iterate through it using next()\n",
    "\n",
    "# Output: 4\n",
    "print(next(my_iter))\n",
    "\n",
    "# Output: 7\n",
    "print(next(my_iter))\n",
    "\n",
    "# next(obj) is same as obj.__next__()\n",
    "\n",
    "# Output: 0\n",
    "print(my_iter.__next__())\n",
    "\n",
    "# Output: 3\n",
    "print(my_iter.__next__())\n",
    "\n",
    "# This will raise error, no items left\n",
    "next(my_iter)"
   ]
  },
  {
   "cell_type": "markdown",
   "id": "41d0ed54",
   "metadata": {},
   "source": [
    "A more elegant way of automatically iterating is by using the for loop. Using this, we can iterate over any object that can return an iterator, for example list, string, file etc."
   ]
  },
  {
   "cell_type": "code",
   "execution_count": 7,
   "id": "12798805",
   "metadata": {},
   "outputs": [
    {
     "name": "stdout",
     "output_type": "stream",
     "text": [
      "4\n",
      "7\n",
      "0\n",
      "3\n"
     ]
    }
   ],
   "source": [
    "for element in my_list:\n",
    "    print(element)"
   ]
  },
  {
   "cell_type": "markdown",
   "id": "b0a7637c",
   "metadata": {},
   "source": [
    "### Working of for loop for Iterators\n",
    "\n",
    "As we see in the above example, the for loop was able to iterate automatically through the list.\n",
    "\n",
    "In fact the for loop can iterate over any iterable. Let's take a closer look at how the for loop is actually implemented in Python."
   ]
  },
  {
   "cell_type": "code",
   "execution_count": null,
   "id": "8c1c61da",
   "metadata": {},
   "outputs": [],
   "source": [
    "for element in iterable:\n",
    "    #do something with element"
   ]
  },
  {
   "cell_type": "markdown",
   "id": "78bff467",
   "metadata": {},
   "source": [
    "Is actually implemented as"
   ]
  },
  {
   "cell_type": "code",
   "execution_count": null,
   "id": "5faca53d",
   "metadata": {},
   "outputs": [],
   "source": [
    "#create an iterator object from that iterable\n",
    "iter_obj = iter(iterable)\n",
    "\n",
    "#infinite loop\n",
    "while True:\n",
    "    try:\n",
    "        # get the next item\n",
    "        element = next(iter_obj)\n",
    "        # do something with element\n",
    "    except StopIteration:\n",
    "        # if StopIteration is raised, break from loop\n",
    "        break"
   ]
  },
  {
   "cell_type": "markdown",
   "id": "eaf98527",
   "metadata": {},
   "source": [
    "So internally, the for loop creates an iterator object, iter_obj by calling iter() on the iterable.\n",
    "\n",
    "Ironically, this for loop is actually an infinite while loop.\n",
    "\n",
    "Inside the loop, it calls next() to get the next element and executes the body of the for loop with this value. After all the items exhaust,\n",
    "StopIteration is raised which is internally caught and the loop ends. Note that any other kind of exception will pass through."
   ]
  },
  {
   "cell_type": "markdown",
   "id": "27a17f13",
   "metadata": {},
   "source": [
    "### Building Custom Iterators\n",
    "\n",
    "Building an iterator from scratch is easy in Python. We just have to implement the __iter__() and the __next__() methods.\n",
    "\n",
    "The __iter__() method returns the iterator object itself. If required, some initialization can be performed.\n",
    "\n",
    "The __next__() method must return the next item in the sequence. On reaching the end, and in subsequent calls, it must raise StopIteration.\n",
    "\n",
    "Here, we show an example that will give us the next power of 2 in each iteration. Power exponent starts from zero up to a user set number."
   ]
  },
  {
   "cell_type": "code",
   "execution_count": 8,
   "id": "19c6bc9b",
   "metadata": {},
   "outputs": [
    {
     "name": "stdout",
     "output_type": "stream",
     "text": [
      "1\n",
      "2\n",
      "4\n",
      "8\n"
     ]
    },
    {
     "ename": "StopIteration",
     "evalue": "",
     "output_type": "error",
     "traceback": [
      "\u001b[1;31m---------------------------------------------------------------------------\u001b[0m",
      "\u001b[1;31mStopIteration\u001b[0m                             Traceback (most recent call last)",
      "\u001b[1;32m~\\AppData\\Local\\Temp/ipykernel_6104/4135772352.py\u001b[0m in \u001b[0;36m<module>\u001b[1;34m\u001b[0m\n\u001b[0;32m     30\u001b[0m \u001b[0mprint\u001b[0m\u001b[1;33m(\u001b[0m\u001b[0mnext\u001b[0m\u001b[1;33m(\u001b[0m\u001b[0mi\u001b[0m\u001b[1;33m)\u001b[0m\u001b[1;33m)\u001b[0m\u001b[1;33m\u001b[0m\u001b[1;33m\u001b[0m\u001b[0m\n\u001b[0;32m     31\u001b[0m \u001b[0mprint\u001b[0m\u001b[1;33m(\u001b[0m\u001b[0mnext\u001b[0m\u001b[1;33m(\u001b[0m\u001b[0mi\u001b[0m\u001b[1;33m)\u001b[0m\u001b[1;33m)\u001b[0m\u001b[1;33m\u001b[0m\u001b[1;33m\u001b[0m\u001b[0m\n\u001b[1;32m---> 32\u001b[1;33m \u001b[0mprint\u001b[0m\u001b[1;33m(\u001b[0m\u001b[0mnext\u001b[0m\u001b[1;33m(\u001b[0m\u001b[0mi\u001b[0m\u001b[1;33m)\u001b[0m\u001b[1;33m)\u001b[0m\u001b[1;33m\u001b[0m\u001b[1;33m\u001b[0m\u001b[0m\n\u001b[0m",
      "\u001b[1;32m~\\AppData\\Local\\Temp/ipykernel_6104/4135772352.py\u001b[0m in \u001b[0;36m__next__\u001b[1;34m(self)\u001b[0m\n\u001b[0;32m     16\u001b[0m             \u001b[1;32mreturn\u001b[0m \u001b[0mresult\u001b[0m\u001b[1;33m\u001b[0m\u001b[1;33m\u001b[0m\u001b[0m\n\u001b[0;32m     17\u001b[0m         \u001b[1;32melse\u001b[0m\u001b[1;33m:\u001b[0m\u001b[1;33m\u001b[0m\u001b[1;33m\u001b[0m\u001b[0m\n\u001b[1;32m---> 18\u001b[1;33m             \u001b[1;32mraise\u001b[0m \u001b[0mStopIteration\u001b[0m\u001b[1;33m\u001b[0m\u001b[1;33m\u001b[0m\u001b[0m\n\u001b[0m\u001b[0;32m     19\u001b[0m \u001b[1;33m\u001b[0m\u001b[0m\n\u001b[0;32m     20\u001b[0m \u001b[1;33m\u001b[0m\u001b[0m\n",
      "\u001b[1;31mStopIteration\u001b[0m: "
     ]
    }
   ],
   "source": [
    "class PowTwo:\n",
    "    \"\"\"Class to implement an iterator\n",
    "    of powers of two\"\"\"\n",
    "\n",
    "    def __init__(self, max=0):\n",
    "        self.max = max\n",
    "\n",
    "    def __iter__(self):\n",
    "        self.n = 0\n",
    "        return self\n",
    "\n",
    "    def __next__(self):\n",
    "        if self.n <= self.max:\n",
    "            result = 2 ** self.n\n",
    "            self.n += 1\n",
    "            return result\n",
    "        else:\n",
    "            raise StopIteration\n",
    "\n",
    "\n",
    "# create an object\n",
    "numbers = PowTwo(3)\n",
    "\n",
    "# create an iterable from the object\n",
    "i = iter(numbers)\n",
    "\n",
    "# Using next to get to the next iterator element\n",
    "print(next(i))\n",
    "print(next(i))\n",
    "print(next(i))\n",
    "print(next(i))\n",
    "print(next(i))"
   ]
  },
  {
   "cell_type": "markdown",
   "id": "b3c13955",
   "metadata": {},
   "source": [
    "### Python Infinite Iterators\n",
    "\n",
    "It is not necessary that the item in an iterator object has to be exhausted. There can be infinite iterators (which never ends). We must be careful when handling such iterators.\n",
    "\n",
    "Here is a simple example to demonstrate infinite iterators.\n",
    "\n",
    "The built-in function iter() can be called with two arguments where the first argument must be a callable object (function) and second is the sentinel. The iterator calls this function until the returned value is equal to the sentinel."
   ]
  },
  {
   "cell_type": "code",
   "execution_count": 4,
   "id": "a4d67360",
   "metadata": {},
   "outputs": [
    {
     "data": {
      "text/plain": [
       "0"
      ]
     },
     "execution_count": 4,
     "metadata": {},
     "output_type": "execute_result"
    }
   ],
   "source": [
    "int()  # 0\n",
    "\n",
    "inf = iter(int,1)\n",
    "next(inf) # 0\n",
    "\n",
    "next(inf) # 0"
   ]
  },
  {
   "cell_type": "markdown",
   "id": "3fbf84a7",
   "metadata": {},
   "source": [
    "We can see that the int() function always returns 0. So passing it as iter(int,1) will return an iterator that calls int() until the returned value equals 1. This never happens and we get an infinite iterator.\n",
    "\n",
    "We can also build our own infinite iterators. The following iterator will, theoretically, return all the odd numbers."
   ]
  },
  {
   "cell_type": "code",
   "execution_count": 9,
   "id": "7f83e93d",
   "metadata": {},
   "outputs": [],
   "source": [
    "class InfIter:\n",
    "    \"\"\"Infinite iterator to return all\n",
    "        odd numbers\"\"\"\n",
    "\n",
    "    def __iter__(self):\n",
    "        self.num = 1\n",
    "        return self\n",
    "\n",
    "    def __next__(self):\n",
    "        num = self.num\n",
    "        self.num += 2\n",
    "        return num"
   ]
  },
  {
   "cell_type": "code",
   "execution_count": 10,
   "id": "d486d644",
   "metadata": {},
   "outputs": [
    {
     "name": "stdout",
     "output_type": "stream",
     "text": [
      "1\n",
      "3\n",
      "5\n",
      "7\n"
     ]
    }
   ],
   "source": [
    "a = iter(InfIter())\n",
    "print(next(a))\n",
    "print(next(a))\n",
    "print(next(a))\n",
    "print(next(a))"
   ]
  },
  {
   "cell_type": "markdown",
   "id": "4cbc967f",
   "metadata": {},
   "source": [
    "And so on...\n",
    "\n",
    "Be careful to include a terminating condition, when iterating over these types of infinite iterators.\n",
    "\n",
    "The advantage of using iterators is that they save resources. Like shown above, we could get all the odd numbers without storing the entire number system in memory. We can have infinite items (theoretically) in finite memory."
   ]
  },
  {
   "cell_type": "markdown",
   "id": "33c42a62",
   "metadata": {},
   "source": [
    "### Generators in Python\n",
    "\n",
    "There is a lot of work in building an iterator in Python. We have to implement a class with __iter__() and __next__() method, keep track of internal states, and raise StopIteration when there are no values to be returned.\n",
    "\n",
    "This is both lengthy and counterintuitive. Generator comes to the rescue in such situations.\n",
    "\n",
    "Python generators are a simple way of creating iterators. All the work we mentioned above are automatically handled by generators in Python.\n",
    "\n",
    "Simply speaking, a generator is a function that returns an object (iterator) which we can iterate over (one value at a time).\n",
    "\n",
    "\n",
    "### Create Generators in Python\n",
    "\n",
    "It is fairly simple to create a generator in Python. It is as easy as defining a normal function, but with a yield statement instead of a return statement.\n",
    "\n",
    "If a function contains at least one yield statement (it may contain other yield or return statements), it becomes a generator function. Both yield and return will return some value from a function.\n",
    "\n",
    "The difference is that while a return statement terminates a function entirely, yield statement pauses the function saving all its states and later continues from there on successive calls.\n",
    "\n",
    "### Differences between Generator function and Normal function\n",
    "\n",
    "Here is how a generator function differs from a normal function.\n",
    "\n",
    "Generator function contains one or more yield statements.\n",
    "\n",
    "When called, it returns an object (iterator) but does not start execution immediately.\n",
    "\n",
    "Methods like __iter__() and __next__() are implemented automatically. So we can iterate through the items using next().\n",
    "\n",
    "Once the function yields, the function is paused and the control is transferred to the caller.\n",
    "\n",
    "Local variables and their states are remembered between successive calls.\n",
    "\n",
    "Finally, when the function terminates, StopIteration is raised automatically on further calls.\n",
    "\n",
    "Here is an example to illustrate all of the points stated above. We have a generator function named my_gen() with several yield statements."
   ]
  },
  {
   "cell_type": "code",
   "execution_count": 11,
   "id": "4515c6d1",
   "metadata": {},
   "outputs": [],
   "source": [
    "# A simple generator function\n",
    "def my_gen():\n",
    "    n = 1\n",
    "    print('This is printed first')\n",
    "    # Generator function contains yield statements\n",
    "    yield n\n",
    "\n",
    "    n += 1\n",
    "    print('This is printed second')\n",
    "    yield n\n",
    "\n",
    "    n += 1\n",
    "    print('This is printed at last')\n",
    "    yield n"
   ]
  },
  {
   "cell_type": "markdown",
   "id": "be7ef813",
   "metadata": {},
   "source": [
    "An interactive run in the interpreter is given below. Run these in the Python shell to see the output."
   ]
  },
  {
   "cell_type": "markdown",
   "id": "f66749e3",
   "metadata": {},
   "source": [
    "\"\"\"\n",
    ">>> # It returns an object but does not start execution immediately.\n",
    ">>> a = my_gen()\n",
    "\n",
    ">>> # We can iterate through the items using next().\n",
    ">>> next(a)\n",
    "This is printed first\n",
    "1\n",
    ">>> # Once the function yields, the function is paused and the control is transferred to the caller.\n",
    "\n",
    ">>> # Local variables and theirs states are remembered between successive calls.\n",
    ">>> next(a)\n",
    "This is printed second\n",
    "2\n",
    "\n",
    ">>> next(a)\n",
    "This is printed at last\n",
    "3\n",
    "\n",
    ">>> # Finally, when the function terminates, StopIteration is raised automatically on further calls.\n",
    ">>> next(a)\n",
    "Traceback (most recent call last):\n",
    "...\n",
    "StopIteration\n",
    ">>> next(a)\n",
    "Traceback (most recent call last):\n",
    "...\n",
    "StopIteration\n",
    "\"\"\""
   ]
  },
  {
   "cell_type": "markdown",
   "id": "aa3b9486",
   "metadata": {},
   "source": [
    "One interesting thing to note in the above example is that the value of variable n is remembered between each call.\n",
    "\n",
    "Unlike normal functions, the local variables are not destroyed when the function yields. Furthermore, the generator object can be iterated only once.\n",
    "\n",
    "To restart the process we need to create another generator object using something like a = my_gen().\n",
    "\n",
    "One final thing to note is that we can use generators with for loops directly.\n",
    "\n",
    "This is because a for loop takes an iterator and iterates over it using next() function. It automatically ends when StopIteration is raised. Check here to know how a for loop is actually implemented in Python."
   ]
  },
  {
   "cell_type": "code",
   "execution_count": 12,
   "id": "335b861d",
   "metadata": {},
   "outputs": [
    {
     "name": "stdout",
     "output_type": "stream",
     "text": [
      "This is printed first\n",
      "1\n",
      "This is printed second\n",
      "2\n",
      "This is printed at last\n",
      "3\n"
     ]
    }
   ],
   "source": [
    "# A simple generator function\n",
    "def my_gen():\n",
    "    n = 1\n",
    "    print('This is printed first')\n",
    "    # Generator function contains yield statements\n",
    "    yield n\n",
    "\n",
    "    n += 1\n",
    "    print('This is printed second')\n",
    "    yield n\n",
    "\n",
    "    n += 1\n",
    "    print('This is printed at last')\n",
    "    yield n\n",
    "\n",
    "\n",
    "# Using for loop\n",
    "for item in my_gen():\n",
    "    print(item)"
   ]
  },
  {
   "cell_type": "markdown",
   "id": "4bc5d9a3",
   "metadata": {},
   "source": [
    "### Python Generators with a Loop\n",
    "\n",
    "The above example is of less use and we studied it just to get an idea of what was happening in the background.\n",
    "\n"
   ]
  },
  {
   "cell_type": "markdown",
   "id": "aef8b1d5",
   "metadata": {},
   "source": [
    "Normally, generator functions are implemented with a loop having a suitable terminating condition.\n",
    "\n",
    "Let's take an example of a generator that reverses a string."
   ]
  },
  {
   "cell_type": "code",
   "execution_count": 14,
   "id": "274725ed",
   "metadata": {},
   "outputs": [
    {
     "name": "stdout",
     "output_type": "stream",
     "text": [
      "o\n",
      "l\n",
      "l\n",
      "e\n",
      "h\n"
     ]
    }
   ],
   "source": [
    "def rev_str(my_str):\n",
    "    length = len(my_str)\n",
    "    for i in range(length - 1, -1, -1):\n",
    "        yield my_str[i]\n",
    "\n",
    "\n",
    "# For loop to reverse the string\n",
    "for char in rev_str(\"hello\"):\n",
    "    print(char)"
   ]
  },
  {
   "cell_type": "markdown",
   "id": "24ca55df",
   "metadata": {},
   "source": [
    "In this example, we have used the range() function to get the index in reverse order using the for loop.\n",
    "\n",
    "Note: This generator function not only works with strings, but also with other kinds of iterables like list, tuple, etc.\n",
    "\n",
    "### Python Generator Expression\n",
    "\n",
    "Simple generators can be easily created on the fly using generator expressions. It makes building generators easy.\n",
    "\n",
    "Similar to the lambda functions which create anonymous functions, generator expressions create anonymous generator functions.\n",
    "\n",
    "The syntax for generator expression is similar to that of a list comprehension in Python. But the square brackets are replaced with round parentheses.\n",
    "\n",
    "The major difference between a list comprehension and a generator expression is that a list comprehension produces the entire list while the generator expression produces one item at a time.\n",
    "\n",
    "They have lazy execution ( producing items only when asked for ). For this reason, a generator expression is much more memory efficient than an equivalent list comprehension.\n",
    "\n"
   ]
  },
  {
   "cell_type": "code",
   "execution_count": 15,
   "id": "ad88b341",
   "metadata": {},
   "outputs": [
    {
     "name": "stdout",
     "output_type": "stream",
     "text": [
      "[1, 9, 36, 100]\n",
      "<generator object <genexpr> at 0x00000215352C0AC0>\n"
     ]
    }
   ],
   "source": [
    "# Initialize the list\n",
    "my_list = [1, 3, 6, 10]\n",
    "\n",
    "# square each term using list comprehension\n",
    "list_ = [x**2 for x in my_list]\n",
    "\n",
    "# same thing can be done using a generator expression\n",
    "# generator expressions are surrounded by parenthesis ()\n",
    "generator = (x**2 for x in my_list)\n",
    "\n",
    "print(list_)\n",
    "print(generator)"
   ]
  },
  {
   "cell_type": "markdown",
   "id": "69e30ce0",
   "metadata": {},
   "source": [
    "We can see above that the generator expression did not produce the required result immediately. Instead, it returned a generator object, which produces items only on demand.\n",
    "\n",
    "Here is how we can start getting items from the generator:"
   ]
  },
  {
   "cell_type": "code",
   "execution_count": 16,
   "id": "caf60250",
   "metadata": {},
   "outputs": [
    {
     "name": "stdout",
     "output_type": "stream",
     "text": [
      "1\n",
      "9\n",
      "36\n",
      "100\n"
     ]
    },
    {
     "ename": "StopIteration",
     "evalue": "",
     "output_type": "error",
     "traceback": [
      "\u001b[1;31m---------------------------------------------------------------------------\u001b[0m",
      "\u001b[1;31mStopIteration\u001b[0m                             Traceback (most recent call last)",
      "\u001b[1;32m~\\AppData\\Local\\Temp/ipykernel_6104/3319443473.py\u001b[0m in \u001b[0;36m<module>\u001b[1;34m\u001b[0m\n\u001b[0;32m     11\u001b[0m \u001b[0mprint\u001b[0m\u001b[1;33m(\u001b[0m\u001b[0mnext\u001b[0m\u001b[1;33m(\u001b[0m\u001b[0ma\u001b[0m\u001b[1;33m)\u001b[0m\u001b[1;33m)\u001b[0m\u001b[1;33m\u001b[0m\u001b[1;33m\u001b[0m\u001b[0m\n\u001b[0;32m     12\u001b[0m \u001b[1;33m\u001b[0m\u001b[0m\n\u001b[1;32m---> 13\u001b[1;33m \u001b[0mnext\u001b[0m\u001b[1;33m(\u001b[0m\u001b[0ma\u001b[0m\u001b[1;33m)\u001b[0m\u001b[1;33m\u001b[0m\u001b[1;33m\u001b[0m\u001b[0m\n\u001b[0m",
      "\u001b[1;31mStopIteration\u001b[0m: "
     ]
    }
   ],
   "source": [
    "# Initialize the list\n",
    "my_list = [1, 3, 6, 10]\n",
    "\n",
    "a = (x**2 for x in my_list)\n",
    "print(next(a))\n",
    "\n",
    "print(next(a))\n",
    "\n",
    "print(next(a))\n",
    "\n",
    "print(next(a))\n",
    "\n",
    "next(a)"
   ]
  },
  {
   "cell_type": "markdown",
   "id": "4f7cf7cc",
   "metadata": {},
   "source": [
    "Generator expressions can be used as function arguments. When used in such a way, the round parentheses can be dropped."
   ]
  },
  {
   "cell_type": "code",
   "execution_count": 17,
   "id": "e4f4f997",
   "metadata": {},
   "outputs": [
    {
     "data": {
      "text/plain": [
       "'\\nsum(x**2 for x in my_list)\\n146\\n\\nmax(x**2 for x in my_list)\\n100\\n'"
      ]
     },
     "execution_count": 17,
     "metadata": {},
     "output_type": "execute_result"
    }
   ],
   "source": [
    "\"\"\"\n",
    ">>> sum(x**2 for x in my_list)\n",
    "146\n",
    "\n",
    ">>> max(x**2 for x in my_list)\n",
    "100\n",
    "\"\"\""
   ]
  },
  {
   "cell_type": "markdown",
   "id": "bd966109",
   "metadata": {},
   "source": [
    "### Use of Python Generators\n",
    "\n",
    "There are several reasons that make generators a powerful implementation.\n",
    "\n",
    "### 1. Easy to Implement\n",
    "Generators can be implemented in a clear and concise way as compared to their iterator class counterpart.\n",
    "Following is an example to implement a sequence of power of 2 using an iterator class."
   ]
  },
  {
   "cell_type": "code",
   "execution_count": 18,
   "id": "e364037a",
   "metadata": {},
   "outputs": [],
   "source": [
    "class PowTwo:\n",
    "    def __init__(self, max=0):\n",
    "        self.n = 0\n",
    "        self.max = max\n",
    "\n",
    "    def __iter__(self):\n",
    "        return self\n",
    "\n",
    "    def __next__(self):\n",
    "        if self.n > self.max:\n",
    "            raise StopIteration\n",
    "\n",
    "        result = 2 ** self.n\n",
    "        self.n += 1\n",
    "        return result"
   ]
  },
  {
   "cell_type": "markdown",
   "id": "dbf63967",
   "metadata": {},
   "source": [
    "The above program was lengthy and confusing. Now, let's do the same using a generator function."
   ]
  },
  {
   "cell_type": "code",
   "execution_count": 19,
   "id": "a3309468",
   "metadata": {},
   "outputs": [],
   "source": [
    "def PowTwoGen(max=0):\n",
    "    n = 0\n",
    "    while n < max:\n",
    "        yield 2 ** n\n",
    "        n += 1"
   ]
  },
  {
   "cell_type": "markdown",
   "id": "c6556e74",
   "metadata": {},
   "source": [
    "Since generators keep track of details automatically, the implementation was concise and much cleaner.\n",
    "\n",
    "### 2. Memory Efficient\n",
    "\n",
    "A normal function to return a sequence will create the entire sequence in memory before returning the result. This is an overkill, if the number of items in the sequence is very large.\n",
    "\n",
    "Generator implementation of such sequences is memory friendly and is preferred since it only produces one item at a time.\n",
    "\n",
    "### 3. Represent Infinite Stream\n",
    "Generators are excellent mediums to represent an infinite stream of data. Infinite streams cannot be stored in memory, and since generators produce only one item at a time, they can represent an infinite stream of data.\n",
    "\n",
    "The following generator function can generate all the even numbers (at least in theory)."
   ]
  },
  {
   "cell_type": "code",
   "execution_count": 20,
   "id": "3a247543",
   "metadata": {},
   "outputs": [],
   "source": [
    "def all_even():\n",
    "    n = 0\n",
    "    while True:\n",
    "        yield n\n",
    "        n += 2"
   ]
  },
  {
   "cell_type": "markdown",
   "id": "46e1e13f",
   "metadata": {},
   "source": [
    "### 4. Pipelining Generators\n",
    "\n",
    "Multiple generators can be used to pipeline a series of operations. This is best illustrated using an example.\n",
    "\n",
    "Suppose we have a generator that produces the numbers in the Fibonacci series. And we have another generator for squaring numbers.\n",
    "\n",
    "If we want to find out the sum of squares of numbers in the Fibonacci series, we can do it in the following way by pipelining the output of generator functions together."
   ]
  },
  {
   "cell_type": "code",
   "execution_count": 21,
   "id": "6c015cf4",
   "metadata": {},
   "outputs": [
    {
     "name": "stdout",
     "output_type": "stream",
     "text": [
      "4895\n"
     ]
    }
   ],
   "source": [
    "def fibonacci_numbers(nums):\n",
    "    x, y = 0, 1\n",
    "    for _ in range(nums):\n",
    "        x, y = y, x+y\n",
    "        yield x\n",
    "\n",
    "def square(nums):\n",
    "    for num in nums:\n",
    "        yield num**2\n",
    "\n",
    "print(sum(square(fibonacci_numbers(10))))"
   ]
  }
 ],
 "metadata": {
  "kernelspec": {
   "display_name": "Python 3 (ipykernel)",
   "language": "python",
   "name": "python3"
  },
  "language_info": {
   "codemirror_mode": {
    "name": "ipython",
    "version": 3
   },
   "file_extension": ".py",
   "mimetype": "text/x-python",
   "name": "python",
   "nbconvert_exporter": "python",
   "pygments_lexer": "ipython3",
   "version": "3.9.7"
  }
 },
 "nbformat": 4,
 "nbformat_minor": 5
}
