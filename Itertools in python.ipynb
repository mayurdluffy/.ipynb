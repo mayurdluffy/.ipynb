{
 "cells": [
  {
   "cell_type": "markdown",
   "id": "a368f84b",
   "metadata": {},
   "source": [
    "### Itertools \n",
    "\n",
    "Itertools is a module in python, it is used to iterate over data structures that can be stepped over using a for-loop. Such data structures are also known as iterables.\n",
    "\n",
    "This module incorporates functions that utilize computational resources efficiently. Using this module also tends to enhance the readability and maintainability of the code.\n",
    "\n",
    "The itertools module needs to be imported prior to using it in the code.\n",
    "\n",
    "Types of iterators:\n",
    "\n",
    "Infinite iterators: run indefinitely (i.e they will continue to run forever if you do not put a stopping condition).\n",
    "Finite iterators: terminate (i.e you do not run the risk of getting into an infinite loop).\n"
   ]
  },
  {
   "cell_type": "markdown",
   "id": "d4d388c5",
   "metadata": {},
   "source": [
    "<img src=\"images/itertools1.png\" height = 800 width = 800> \n",
    "<img src=\"images/itertools2.png\" height = 800 width = 800> \n",
    "<img src=\"images/itertools3.png\" height = 800 width = 800> \n",
    "<img src=\"images/itertools4.png\" height = 800 width = 800>"
   ]
  },
  {
   "cell_type": "markdown",
   "id": "b1695030",
   "metadata": {},
   "source": [
    "<img src=\"images/itertools.png\" height = 800 width = 800>"
   ]
  },
  {
   "cell_type": "code",
   "execution_count": 1,
   "id": "b7d4d1ce",
   "metadata": {},
   "outputs": [
    {
     "name": "stdout",
     "output_type": "stream",
     "text": [
      "0\n",
      "2\n",
      "4\n",
      "6\n"
     ]
    }
   ],
   "source": [
    "#print the first four even numbers\n",
    "import itertools\n",
    "\n",
    "result = itertools.count(start = 0, step = 2)\n",
    "\n",
    "for number in result:\n",
    "# termination condition\n",
    "    if number < 8:\n",
    "        print (number)\n",
    "    else:\n",
    "        break"
   ]
  },
  {
   "cell_type": "code",
   "execution_count": 2,
   "id": "023d685e",
   "metadata": {},
   "outputs": [
    {
     "name": "stdout",
     "output_type": "stream",
     "text": [
      "1\n",
      "2\n",
      "3\n",
      "4\n",
      "5\n",
      "1\n",
      "2\n",
      "3\n",
      "4\n",
      "5\n"
     ]
    }
   ],
   "source": [
    "# print 2 three times\n",
    "import itertools\n",
    "\n",
    "result = itertools.cycle('12345')\n",
    "counter = 0\n",
    "\n",
    "for number in result:\n",
    "# termination condition\n",
    "    if counter < 10 :\n",
    "        print (number)\n",
    "        counter = counter + 1\n",
    "    else:\n",
    "        break"
   ]
  },
  {
   "cell_type": "code",
   "execution_count": 3,
   "id": "0b7e1c53",
   "metadata": {},
   "outputs": [
    {
     "name": "stdout",
     "output_type": "stream",
     "text": [
      "hello\n",
      "hello\n"
     ]
    }
   ],
   "source": [
    "# print hello two times\n",
    "import itertools\n",
    "\n",
    "result = itertools.repeat('hello', times = 2)\n",
    "\n",
    "for word in result:\n",
    "    print (word)"
   ]
  },
  {
   "cell_type": "code",
   "execution_count": 4,
   "id": "9638b043",
   "metadata": {},
   "outputs": [
    {
     "name": "stdout",
     "output_type": "stream",
     "text": [
      "a\n",
      "b\n",
      "c\n",
      "d\n",
      "e\n",
      "f\n",
      "1\n",
      "2\n",
      "3\n"
     ]
    }
   ],
   "source": [
    "# iterate over three lists\n",
    "import itertools\n",
    "\n",
    "list_one = ['a', 'b', 'c']\n",
    "list_two =['d', 'e', 'f']\n",
    "list_three = ['1', '2', '3']\n",
    "\n",
    "result = itertools.chain(list_one, list_two, list_three)\n",
    "\n",
    "for element in result:\n",
    "  print (element)"
   ]
  },
  {
   "cell_type": "code",
   "execution_count": 5,
   "id": "d90c2035",
   "metadata": {},
   "outputs": [
    {
     "name": "stdout",
     "output_type": "stream",
     "text": [
      "Alice\n",
      "James\n"
     ]
    }
   ],
   "source": [
    "#find the names of people who have the flu\n",
    "import itertools\n",
    "\n",
    "names = ['Alice', 'James', 'Matt']\n",
    "have_flu = [True, True, False]\n",
    "\n",
    "result = itertools.compress(names, have_flu)\n",
    "\n",
    "for element in result:\n",
    "  print (element)"
   ]
  },
  {
   "cell_type": "code",
   "execution_count": 6,
   "id": "7daf262f",
   "metadata": {},
   "outputs": [
    {
     "name": "stdout",
     "output_type": "stream",
     "text": [
      "1\n",
      "2\n",
      "0\n"
     ]
    }
   ],
   "source": [
    "import itertools\n",
    "\n",
    "my_list = [0, 0, 1, 2, 0]\n",
    "\n",
    "result = itertools.dropwhile(lambda x: x == 0, my_list)\n",
    "\n",
    "for elements in result:\n",
    "  print (elements)"
   ]
  },
  {
   "cell_type": "code",
   "execution_count": 8,
   "id": "8484ea96",
   "metadata": {},
   "outputs": [
    {
     "name": "stdout",
     "output_type": "stream",
     "text": [
      "The cartesian product using repeat:\n",
      "[(1, 1), (1, 2), (2, 1), (2, 2)]\n",
      "\n",
      "The cartesian product of the containers:\n",
      "[('A', 3), ('A', 4), ('B', 3), ('B', 4)]\n"
     ]
    }
   ],
   "source": [
    "# import the product function from itertools module\n",
    "from itertools import product\n",
    "\n",
    "print(\"The cartesian product using repeat:\")\n",
    "print(list(product([1, 2], repeat = 2)))\n",
    "print()\n",
    "\n",
    "print(\"The cartesian product of the containers:\")\n",
    "print(list(product('AB', [3, 4])))\n"
   ]
  },
  {
   "cell_type": "code",
   "execution_count": 11,
   "id": "fb7caad0",
   "metadata": {},
   "outputs": [
    {
     "name": "stdout",
     "output_type": "stream",
     "text": [
      "All the permutations of the given list is:\n",
      "[(1, 'A'), ('A', 1)]\n",
      "\n",
      "All the permutations of the given string is:\n",
      "[('A', 'B'), ('B', 'A')]\n",
      "\n",
      "All the permutations of the given container is:\n",
      "[(0, 1), (0, 2), (1, 0), (1, 2), (2, 0), (2, 1)]\n"
     ]
    }
   ],
   "source": [
    "# import the product function from itertools module\n",
    "from itertools import permutations\n",
    "\n",
    "print (\"All the permutations of the given list is:\")\n",
    "print (list(permutations([1, 'A'], 2)))\n",
    "print() #Terminating iterators\n",
    "\n",
    "print (\"All the permutations of the given string is:\")\n",
    "print (list(permutations('AB')))\n",
    "print()\n",
    "\n",
    "print (\"All the permutations of the given container is:\")\n",
    "print(list(permutations(range(3), 2)))\n"
   ]
  },
  {
   "cell_type": "code",
   "execution_count": 12,
   "id": "4edd8d2b",
   "metadata": {},
   "outputs": [
    {
     "name": "stdout",
     "output_type": "stream",
     "text": [
      "All the combination of list in sorted order(without replacement) is:\n",
      "[('A', 2)]\n",
      "\n",
      "All the combination of string in sorted order(without replacement) is:\n",
      "[('A', 'B')]\n",
      "\n",
      "All the combination of list in sorted order(without replacement) is:\n",
      "[(0,), (1,)]\n"
     ]
    }
   ],
   "source": [
    "# import combinations from itertools module\n",
    "\n",
    "from itertools import combinations\n",
    "\n",
    "print (\"All the combination of list in sorted order(without replacement) is:\")\n",
    "print(list(combinations(['A', 2], 2)))\n",
    "print()\n",
    "\n",
    "print (\"All the combination of string in sorted order(without replacement) is:\")\n",
    "print(list(combinations('AB', 2)))\n",
    "print()\n",
    "\n",
    "print (\"All the combination of list in sorted order(without replacement) is:\")\n",
    "print(list(combinations(range(2), 1)))\n"
   ]
  },
  {
   "cell_type": "code",
   "execution_count": 13,
   "id": "a83e88e4",
   "metadata": {},
   "outputs": [
    {
     "name": "stdout",
     "output_type": "stream",
     "text": [
      "All the combination of string in sorted order(with replacement) is:\n",
      "[('A', 'A'), ('A', 'B'), ('B', 'B')]\n",
      "\n",
      "All the combination of list in sorted order(with replacement) is:\n",
      "[(1, 1), (1, 2), (2, 2)]\n",
      "\n",
      "All the combination of container in sorted order(with replacement) is:\n",
      "[(0,), (1,)]\n"
     ]
    }
   ],
   "source": [
    "# import combinations from itertools module\n",
    "\n",
    "from itertools import combinations_with_replacement\n",
    "\n",
    "print (\"All the combination of string in sorted order(with replacement) is:\")\n",
    "print(list(combinations_with_replacement(\"AB\", 2)))\n",
    "print()\n",
    "\n",
    "print (\"All the combination of list in sorted order(with replacement) is:\")\n",
    "print(list(combinations_with_replacement([1, 2], 2)))\n",
    "print()\n",
    "\n",
    "print (\"All the combination of container in sorted order(with replacement) is:\")\n",
    "print(list(combinations_with_replacement(range(2), 1)))\n"
   ]
  },
  {
   "cell_type": "code",
   "execution_count": 25,
   "id": "77352fa2",
   "metadata": {},
   "outputs": [
    {
     "name": "stdout",
     "output_type": "stream",
     "text": [
      "The sum after each iteration is : [1, 5, 10, 17]\n",
      "The product after each iteration is : [1, 4, 20, 140]\n"
     ]
    }
   ],
   "source": [
    "# Python code to demonstrate the working of\n",
    "# accumulate()\n",
    "\n",
    "\n",
    "import itertools\n",
    "import operator\n",
    "\n",
    "# initializing list 1\n",
    "l1 = [1, 4, 5, 7]\n",
    "\n",
    "# using accumulate()\n",
    "# prints the successive summation of elements\n",
    "print (\"The sum after each iteration is : \", end =\"\")\n",
    "print (list(itertools.accumulate(l1)))\n",
    "\n",
    "# using accumulate()\n",
    "# prints the successive multiplication of elements\n",
    "print (\"The product after each iteration is : \", end =\"\")\n",
    "print (list(itertools.accumulate(l1, operator.mul)))"
   ]
  },
  {
   "cell_type": "code",
   "execution_count": 24,
   "id": "df921bff",
   "metadata": {},
   "outputs": [
    {
     "name": "stdout",
     "output_type": "stream",
     "text": [
      "All values in mentioned chain are : [1, 4, 5, 7, 1, 6, 5, 9, 8, 10, 5, 4]\n"
     ]
    }
   ],
   "source": [
    "# Python code to demonstrate the working of\n",
    "# and chain()\n",
    "\n",
    "\n",
    "import itertools\n",
    "\n",
    "# initializing list 1\n",
    "l1 = [1, 4, 5, 7]\n",
    "\n",
    "# initializing list 2\n",
    "l2 = [1, 6, 5, 9]\n",
    "\n",
    "# initializing list 3\n",
    "l3 = [8, 10, 5, 4]\n",
    "\n",
    "# using chain() to print all elements of lists\n",
    "print (\"All values in mentioned chain are : \", end =\"\")\n",
    "print (list(itertools.chain(l1, l2, l3)))"
   ]
  },
  {
   "cell_type": "code",
   "execution_count": 23,
   "id": "ef65e1ec",
   "metadata": {},
   "outputs": [
    {
     "name": "stdout",
     "output_type": "stream",
     "text": [
      "All values in mentioned chain are : [1, 4, 5, 7, 1, 6, 5, 9, 8, 10, 5, 4]\n"
     ]
    }
   ],
   "source": [
    "# Python code to demonstrate the working of\n",
    "# chain.from_iterable()\n",
    "\n",
    "\n",
    "import itertools\n",
    "\n",
    "\n",
    "# initializing list 1\n",
    "l1 = [1, 4, 5, 7]\n",
    "\n",
    "# initializing list 2\n",
    "l2 = [1, 6, 5, 9]\n",
    "\n",
    "# initializing list 3\n",
    "l3 = [8, 10, 5, 4]\n",
    "\n",
    "# initializing list of list\n",
    "l4 = [l1, l2, l3]\n",
    "\n",
    "# using chain.from_iterable() to print all elements of lists\n",
    "print (\"All values in mentioned chain are : \", end =\"\")\n",
    "print (list(itertools.chain.from_iterable(l4)))"
   ]
  },
  {
   "cell_type": "code",
   "execution_count": 22,
   "id": "14be8e16",
   "metadata": {},
   "outputs": [
    {
     "name": "stdout",
     "output_type": "stream",
     "text": [
      "The sliced list values are : [4, 7, 10]\n",
      "The values acc. to function are : [1, 1, 4, 1]\n"
     ]
    }
   ],
   "source": [
    "# Python code to demonstrate the working of\n",
    "# islice() and starmap()\n",
    "\n",
    "# importing \"itertools\" for iterator operations\n",
    "import itertools\n",
    "\n",
    "# initializing list\n",
    "l = [2, 4, 5, 7, 8, 10, 20]\n",
    "\n",
    "# initializing tuple list\n",
    "l1 = [ (1, 10, 5), (8, 4, 1), (5, 4, 9), (11, 10 , 1) ]\n",
    "\n",
    "\n",
    "# using islice() to slice the list acc. to need\n",
    "# starts printing from 2nd index till 6th skipping 2\n",
    "print (\"The sliced list values are : \",end=\"\")\n",
    "print (list(itertools.islice(l,1, 6, 2)))\n",
    "\n",
    "# using starmap() for selection value acc. to function\n",
    "# selects min of all tuple values\n",
    "print (\"The values acc. to function are : \",end=\"\")\n",
    "print (list(itertools.starmap(min,l1)))"
   ]
  },
  {
   "cell_type": "code",
   "execution_count": 21,
   "id": "4facc412",
   "metadata": {},
   "outputs": [
    {
     "name": "stdout",
     "output_type": "stream",
     "text": [
      "The list values till 1st false value are : [2, 4, 6]\n",
      "The iterators are : \n",
      "[2, 4, 6, 7, 8, 10, 20]\n",
      "[2, 4, 6, 7, 8, 10, 20]\n",
      "[2, 4, 6, 7, 8, 10, 20]\n"
     ]
    }
   ],
   "source": [
    "# Python code to demonstrate the working of\n",
    "# takewhile() and tee()\n",
    "\n",
    "# importing \"itertools\" for iterator operations\n",
    "import itertools\n",
    "\n",
    "# initializing list\n",
    "l = [2, 4, 6, 7, 8, 10, 20]\n",
    "\n",
    "# storing list in iterator\n",
    "itr = iter(l)\n",
    "\n",
    "# using takewhile() to print values till condition is false.\n",
    "print (\"The list values till 1st false value are : \",end=\"\")\n",
    "print (list(itertools.takewhile(lambda x : x%2==0,li )))\n",
    "\n",
    "# using tee() to make a list of iterators\n",
    "# makes list of 3 iterators having same values.\n",
    "it = itertools.tee(itr, 3)\n",
    "\n",
    "# printing the values of iterators\n",
    "print (\"The iterators are : \")\n",
    "for i in range (0,3):\n",
    "\tprint (list(it[i]))"
   ]
  },
  {
   "cell_type": "code",
   "execution_count": 27,
   "id": "5850c25f",
   "metadata": {},
   "outputs": [
    {
     "name": "stdout",
     "output_type": "stream",
     "text": [
      "The combined values of iterables is : \n",
      "('A', 'A') ('B', 'B') ('C', 'C') ('D', '_')\n"
     ]
    }
   ],
   "source": [
    "# Python code to demonstrate the working of\n",
    "# zip_longest()\n",
    "\n",
    "# importing \"itertools\" for iterator operations\n",
    "import itertools\n",
    "\n",
    "# using zip_longest() to combine two iterables.\n",
    "print (\"The combined values of iterables is : \")\n",
    "print (*(itertools.zip_longest('ABCD','ABC',fillvalue='_' )))"
   ]
  },
  {
   "cell_type": "code",
   "execution_count": null,
   "id": "1b3c09f3",
   "metadata": {},
   "outputs": [],
   "source": []
  }
 ],
 "metadata": {
  "kernelspec": {
   "display_name": "Python 3 (ipykernel)",
   "language": "python",
   "name": "python3"
  },
  "language_info": {
   "codemirror_mode": {
    "name": "ipython",
    "version": 3
   },
   "file_extension": ".py",
   "mimetype": "text/x-python",
   "name": "python",
   "nbconvert_exporter": "python",
   "pygments_lexer": "ipython3",
   "version": "3.9.7"
  }
 },
 "nbformat": 4,
 "nbformat_minor": 5
}
