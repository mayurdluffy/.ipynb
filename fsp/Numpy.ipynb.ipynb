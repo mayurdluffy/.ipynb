{
 "cells": [
  {
   "cell_type": "markdown",
   "id": "e3185055-1e2b-4c72-9cd7-1d2aa63d562c",
   "metadata": {},
   "source": [
    "## NUMPY ARRAYS AND MATRICES"
   ]
  },
  {
   "cell_type": "raw",
   "id": "a6ddb5d7-ec21-4d60-aa65-089b9626a080",
   "metadata": {},
   "source": [
    "NumPy is an extension of the Python programming language, adding support for large, multi-dimensional (numerical) arrays and matrices, along with a large library of high-level mathematical functions to operate on these arrays."
   ]
  },
  {
   "cell_type": "code",
   "execution_count": 3,
   "id": "6f580b5e-4b04-497c-a2a4-43ade7eba559",
   "metadata": {},
   "outputs": [],
   "source": [
    "# importing required modules\n",
    "import numpy as np"
   ]
  },
  {
   "cell_type": "code",
   "execution_count": 19,
   "id": "1048067d-249e-4146-b272-0fbe7dbaded9",
   "metadata": {},
   "outputs": [
    {
     "name": "stdout",
     "output_type": "stream",
     "text": [
      "[1, 2, 3, 4, 5] 5 <class 'list'>\n",
      "[1 2 3 4 5] 5 <class 'numpy.ndarray'>\n",
      "[range(1, 5), range(5, 9)] 2 <class 'list'>\n",
      "[[1 2 3 4]\n",
      " [5 6 7 8]] 2 <class 'numpy.ndarray'>\n"
     ]
    }
   ],
   "source": [
    "# create ndarrays from lists\n",
    "# note: every element must be the same type (will be converted if possible)\n",
    "data1 = [1, 2, 3, 4, 5]   # defining a list\n",
    "print (data1, len(data1), type(data1))\n",
    "arr1 = np.array(data1)\n",
    "print (arr1, len(arr1), type(arr1))\n",
    "\n",
    "data2 = [range(1, 5), range(5, 9)]   # defining list of lists\n",
    "print (data2, len(data2), type(data2))\n",
    "arr2 = np.array(data2)\n",
    "print (arr2, len(arr2), type(arr2))"
   ]
  },
  {
   "cell_type": "code",
   "execution_count": 22,
   "id": "9df1acd5-6659-41e2-81e3-734bc44f2810",
   "metadata": {},
   "outputs": [
    {
     "name": "stdout",
     "output_type": "stream",
     "text": [
      "int32 int32\n",
      "1 2\n",
      "(5,) (2, 4)\n",
      "5 8\n",
      "5 2\n"
     ]
    }
   ],
   "source": [
    "# examining arrays\n",
    "print (arr1.dtype, arr2.dtype)\n",
    "print (arr1.ndim, arr2.ndim)\n",
    "print (arr1.shape, arr2.shape)    # (5,) => Singleton notation of a tuple\n",
    "print (arr1.size, arr2.size)\n",
    "print (len(arr1), len(arr2))"
   ]
  },
  {
   "cell_type": "code",
   "execution_count": 30,
   "id": "5a9c876b-46db-4fc3-8275-b1b4bf8f5ede",
   "metadata": {},
   "outputs": [
    {
     "name": "stdout",
     "output_type": "stream",
     "text": [
      "[0. 0. 0. 0. 0. 0. 0. 0. 0. 0.]\n",
      "[0 0 0 0 0 0 0 0 0 0]\n",
      "['0.0' '0.0' '0.0' '0.0' '0.0' '0.0' '0.0' '0.0' '0.0' '0.0']\n",
      "[1. 1. 1. 1. 1. 1. 1. 1. 1. 1.]\n",
      "[1 1 1 1 1 1 1 1 1 1]\n",
      "['1.0' '1.0' '1.0' '1.0' '1.0' '1.0' '1.0' '1.0' '1.0' '1.0']\n"
     ]
    },
    {
     "data": {
      "text/plain": [
       "array([0., 0., 0., 0., 0., 0., 0., 0., 0., 0.])"
      ]
     },
     "execution_count": 30,
     "metadata": {},
     "output_type": "execute_result"
    }
   ],
   "source": [
    "# create special arrays\n",
    "print (np.zeros(10))\n",
    "print (np.zeros(10).astype(int))\n",
    "print (np.zeros(10).astype(str))\n",
    "print (np.ones(10))\n",
    "print (np.ones(10).astype(int))\n",
    "print (np.ones(10).astype(str))\n",
    "np.zeros(10)"
   ]
  },
  {
   "cell_type": "code",
   "execution_count": 33,
   "id": "0a994ff8-15a0-499f-8177-01584d0bee5c",
   "metadata": {},
   "outputs": [
    {
     "name": "stdout",
     "output_type": "stream",
     "text": [
      "[0.   0.25 0.5  0.75 1.  ]\n",
      "[   1.   10.  100. 1000.]\n"
     ]
    }
   ],
   "source": [
    "print (np.linspace(0, 1, 5))\n",
    "print (np.logspace(0, 3, 4))"
   ]
  },
  {
   "cell_type": "code",
   "execution_count": 40,
   "id": "33788d15-c50d-4c8f-9801-1b6d8456734d",
   "metadata": {},
   "outputs": [
    {
     "name": "stdout",
     "output_type": "stream",
     "text": [
      "[0. 1. 2. 3. 4.]\n",
      "[2. 3. 4. 5. 6. 7. 8. 9.]\n",
      "[2. 5. 8.]\n",
      "[ 0  1  2  3  4  5  6  7  8  9 10 11 12 13 14]\n",
      "[[ 0  1  2  3  4]\n",
      " [ 5  6  7  8  9]\n",
      " [10 11 12 13 14]]\n"
     ]
    }
   ],
   "source": [
    "float_array = np.arange(5).astype(float)\n",
    "print (float_array)\n",
    "float_array = np.arange(2, 10, 1).astype(float)\n",
    "print (float_array)\n",
    "float_array = np.arange(2, 10, 3).astype(float)\n",
    "print (float_array)\n",
    "int_array = np.arange(15)\n",
    "print (int_array)\n",
    "int_array = np.arange(15).reshape(3, 5)\n",
    "print (int_array)"
   ]
  },
  {
   "cell_type": "code",
   "execution_count": 46,
   "id": "7c353dd4-7cf9-4cce-adda-77d2217139d1",
   "metadata": {},
   "outputs": [
    {
     "name": "stdout",
     "output_type": "stream",
     "text": [
      "[ 0.  1.  2.  3.  4.  5.  6.  7.  8.  9. 10. 11. 12. 13. 14.]\n",
      "[[ 0.  1.  2.  3.  4.]\n",
      " [ 5.  6.  7.  8.  9.]\n",
      " [10. 11. 12. 13. 14.]]\n",
      "[[ 0.  1.  2.  3.  4.]\n",
      " [ 5.  6.  7.  8.  9.]\n",
      " [10. 11. 12. 13. 14.]]\n"
     ]
    }
   ],
   "source": [
    "float_array = np.arange(15).astype(float)\n",
    "print (float_array)\n",
    "float_array = np.arange(15).astype(float).reshape(3, 5)\n",
    "print (float_array)\n",
    "float_array = np.arange(15).reshape(3, 5).astype(float)\n",
    "print (float_array)"
   ]
  },
  {
   "cell_type": "code",
   "execution_count": 54,
   "id": "b0a39490-dce4-4784-9b1e-6e1108d462fd",
   "metadata": {},
   "outputs": [
    {
     "name": "stdout",
     "output_type": "stream",
     "text": [
      "[1 2 3 4 5]\n",
      "1 2 3 4 5\n",
      "1 2 3 4 5\n",
      "[2 3 4 5] [1 2 3]\n",
      "[1 3 5]\n"
     ]
    }
   ],
   "source": [
    "# indexing and slicing\n",
    "print (arr1)\n",
    "print (arr1[0], arr1[1], arr1[2], arr1[3], arr1[4])\n",
    "print (arr1[-5], arr1[-4], arr1[-3], arr1[-2], arr1[-1])\n",
    "print (arr1[1:], arr1[:3])\n",
    "print (arr1[::2])"
   ]
  },
  {
   "cell_type": "code",
   "execution_count": 70,
   "id": "d35a3644-18d0-4814-9f3b-65c3718b5dd1",
   "metadata": {},
   "outputs": [
    {
     "name": "stdout",
     "output_type": "stream",
     "text": [
      "[[1 2 3 4]\n",
      " [5 6 7 8]]\n",
      "3 3 3 3 3 3\n",
      "[[2 3]\n",
      " [6 7]]\n",
      "[[2 3]\n",
      " [6 7]]\n"
     ]
    }
   ],
   "source": [
    "print (arr2)\n",
    "print (arr2[0,2], arr2[0][2], arr2[-2, -2], arr2[-2][-2], arr2[0,-2], arr2[-2, 2])\n",
    "print (arr2[:, 1:3])\n",
    "print (arr2[0:2, 1:3])"
   ]
  },
  {
   "cell_type": "code",
   "execution_count": 71,
   "id": "bf2d2181-e71c-4b3d-96dd-1d2ea8276be4",
   "metadata": {},
   "outputs": [
    {
     "name": "stdout",
     "output_type": "stream",
     "text": [
      "[[2 3 4]\n",
      " [6 7 8]]\n"
     ]
    }
   ],
   "source": [
    "print(arr2[:, 1:4])"
   ]
  },
  {
   "cell_type": "code",
   "execution_count": 72,
   "id": "1f5564c8-b0dd-4f63-882f-9244d8dab8d8",
   "metadata": {},
   "outputs": [
    {
     "name": "stdout",
     "output_type": "stream",
     "text": [
      "[[2 3 4]\n",
      " [6 7 8]]\n"
     ]
    }
   ],
   "source": [
    "print(arr2[:,1:])"
   ]
  },
  {
   "cell_type": "code",
   "execution_count": 79,
   "id": "9adc85c3-61f7-41cf-aa25-7549524dcd4a",
   "metadata": {},
   "outputs": [
    {
     "name": "stdout",
     "output_type": "stream",
     "text": [
      "[0 1 2 3 4 5 6 7 8 9]\n",
      "[5 6 7]\n",
      "[ 0  1  2  3  4 12 12 12  8  9]\n",
      "[1 2]\n",
      "[  0 100 100   3   4  12  12  12   8   9] [100 100]\n"
     ]
    }
   ],
   "source": [
    "# Views and copies\n",
    "arr = np.arange(10)\n",
    "print (arr)\n",
    "print (arr[5:8])\n",
    "arr[5:8] = 12\n",
    "print (arr)\n",
    "arr_view = arr[1:3]\n",
    "print (arr_view)\n",
    "arr_view[:] = 100\n",
    "print (arr, arr_view)"
   ]
  },
  {
   "cell_type": "code",
   "execution_count": 82,
   "id": "26c0121d-bbb7-49e4-8d2b-06b751392c4d",
   "metadata": {},
   "outputs": [
    {
     "name": "stdout",
     "output_type": "stream",
     "text": [
      "[  0 100 100   3   4  12  12  12   8   9] [12 12 12]\n",
      "[  0 100 100   3   4  12  12  12   8   9] [500 500 500]\n"
     ]
    }
   ],
   "source": [
    "arr_copy = arr[5:8].copy()\n",
    "print (arr, arr_copy)\n",
    "arr_copy[:] = 500\n",
    "print (arr, arr_copy)"
   ]
  },
  {
   "cell_type": "code",
   "execution_count": 86,
   "id": "b4d9c8cf-e160-4250-9246-b301863b21e3",
   "metadata": {},
   "outputs": [
    {
     "name": "stdout",
     "output_type": "stream",
     "text": [
      "[ 0  1  2  3  4  5  6  7  8  9 10 11 12 13 14] 15\n",
      "[False False False False False False  True  True  True  True  True  True\n",
      "  True  True  True]\n",
      "[ 6  7  8  9 10 11 12 13 14]\n"
     ]
    }
   ],
   "source": [
    "# using boolean arrays\n",
    "arr = np.arange(15)\n",
    "print (arr, arr.size)\n",
    "print (arr > 5)   # generating a boolean aray\n",
    "print (arr[arr > 5])   # using this boolean array as array index"
   ]
  },
  {
   "cell_type": "code",
   "execution_count": 91,
   "id": "35de4798-4d54-4255-bdf4-5c2e10ac7585",
   "metadata": {},
   "outputs": [
    {
     "name": "stdout",
     "output_type": "stream",
     "text": [
      "[False False False False  True  True  True  True  True  True False False\n",
      " False False False]\n",
      "[4 5 6 7 8 9]\n",
      "[ True False  True False  True False  True False  True False  True False\n",
      "  True False  True]\n",
      "[ 0  2  4  6  8 10 12 14]\n"
     ]
    }
   ],
   "source": [
    "bool_arr = (arr > 3) & (arr < 10)\n",
    "print (bool_arr)\n",
    "print (arr[bool_arr])\n",
    "bool_arr = (arr % 2 == 0)\n",
    "print (bool_arr)\n",
    "print (arr[bool_arr])"
   ]
  },
  {
   "cell_type": "code",
   "execution_count": 100,
   "id": "12421ab1-79d6-4b53-8f23-251f0e4b882a",
   "metadata": {},
   "outputs": [
    {
     "name": "stdout",
     "output_type": "stream",
     "text": [
      "['Bob' 'Joe' 'Will' 'Bob'] 4\n",
      "[False  True  True False]\n",
      "['Joe' 'Will']\n",
      "[ True False  True  True]\n",
      "['Bob' 'Will' 'Bob']\n",
      "['Joe' 'Will']\n",
      "['Bob' 'Tom' 'Tom' 'Bob']\n",
      "['Bob' 'Tom']\n"
     ]
    }
   ],
   "source": [
    "names = np.array(['Bob','Joe','Will','Bob'])\n",
    "print (names, len(names))\n",
    "print (names != 'Bob')\n",
    "print (names[names != 'Bob'])\n",
    "print ((names == 'Bob') | (names == 'Will'))\n",
    "print (names[(names == 'Bob') | (names == 'Will')])\n",
    "print (names[names != 'Bob'])\n",
    "names[names != 'Bob'] = 'Tom'\n",
    "print (names)\n",
    "print (np.unique(names))"
   ]
  },
  {
   "cell_type": "code",
   "execution_count": 113,
   "id": "f414e210-47a8-485e-b3bc-33d579c41736",
   "metadata": {},
   "outputs": [
    {
     "name": "stdout",
     "output_type": "stream",
     "text": [
      "[0 1 2 3 4] 5\n",
      "[ 0  5 10 15 20] [ 0  5 10 15 20]\n",
      "[0.         1.         1.41421356 1.73205081 2.        ]\n",
      "[0. 1. 2. 2. 2.] [False False False False False]\n",
      "[0 1 2 3 4] [0 1 2 3 4] [0 2 4 6 8]\n",
      "[1 1 3 3 5]\n"
     ]
    }
   ],
   "source": [
    "# vectorized operations\n",
    "nums = np.arange(5)\n",
    "print (nums, len(nums))\n",
    "times = 5\n",
    "print (nums * times, times * nums)\n",
    "print (np.sqrt(nums))\n",
    "print (np.ceil(np.sqrt(nums)), np.isnan(nums))\n",
    "print (nums, np.arange(5), nums + np.arange(5))\n",
    "print (np.maximum(nums, np.array([1, -2, 3, -4, 5])))"
   ]
  },
  {
   "cell_type": "code",
   "execution_count": 120,
   "id": "766e86f1-4e64-4ad4-8ee9-985314887008",
   "metadata": {},
   "outputs": [
    {
     "name": "stdout",
     "output_type": "stream",
     "text": [
      "[-1.49941486  0.16973202 -1.02934754 -1.64902456 -0.93781275 -1.41601749\n",
      "  0.02054103 -1.4194223  -1.06188746  1.33459485] 10\n",
      "[ 1.08932923  2.27181516 -1.00638975 -0.58405743  0.55678612 -0.36740643\n",
      "  0.13840903 -1.16619673  0.2661554   0.14527968] 10\n",
      "-0.7488059068903526 0.9086978426510529 0.13437242919662218 0.9714567022650903\n"
     ]
    }
   ],
   "source": [
    "# compute Euclidian Distance between two vectors\n",
    "vect1 = np.random.randn(10)  # randn method generates normalized random numbers, random numbers with average ~= 0 and std dev. ~= 1\n",
    "vect2 = np.random.randn(10)\n",
    "print (vect1, len(vect1))\n",
    "print (vect2, len(vect2))\n",
    "print (np.average(vect1), np.std(vect1), np.average(vect2), np.std(vect2))"
   ]
  },
  {
   "cell_type": "code",
   "execution_count": 122,
   "id": "97691be0-e7fc-4b26-ac57-945801723b11",
   "metadata": {},
   "outputs": [
    {
     "name": "stdout",
     "output_type": "stream",
     "text": [
      "0.0034764618037137454 1.001746334744338 0.0026263436400069786 1.0009424244304501\n"
     ]
    }
   ],
   "source": [
    "vectt1 = np.random.randn(50000)  \n",
    "vectt2 = np.random.randn(50000)\n",
    "print (np.average(vectt1), np.std(vectt1), np.average(vectt2), np.std(vectt2))"
   ]
  },
  {
   "cell_type": "code",
   "execution_count": 131,
   "id": "eacf8b49-24b8-4399-86b6-d25b402dfdb3",
   "metadata": {},
   "outputs": [
    {
     "name": "stdout",
     "output_type": "stream",
     "text": [
      "[-1.49941486  0.16973202 -1.02934754 -1.64902456 -0.93781275 -1.41601749\n",
      "  0.02054103 -1.4194223  -1.06188746  1.33459485] 10\n",
      "[ 1.08932923  2.27181516 -1.00638975 -0.58405743  0.55678612 -0.36740643\n",
      "  0.13840903 -1.16619673  0.2661554   0.14527968] 10\n",
      "4.341039854525622\n",
      "4.341039854525622\n"
     ]
    }
   ],
   "source": [
    "print (vect1, len(vect1))\n",
    "print (vect2, len(vect2))\n",
    "dist = np.sqrt(np.sum((vect1 - vect2) ** 2))\n",
    "print (dist)\n",
    "total = 0\n",
    "for i in range(len(vect1)):\n",
    "    total = total + (vect1[i] - vect2[i]) ** 2\n",
    "total = np.sqrt(total)\n",
    "print (total)"
   ]
  },
  {
   "cell_type": "code",
   "execution_count": 141,
   "id": "9be64d51-b4df-4dca-abce-0d563661ef11",
   "metadata": {},
   "outputs": [
    {
     "name": "stdout",
     "output_type": "stream",
     "text": [
      "[[-1.2867898  -0.76872884]\n",
      " [ 0.29082651 -1.60447635]\n",
      " [ 1.75268065  0.59767862]\n",
      " [-0.65162205  1.16633004]] 4\n",
      "-0.0630126537131146 -0.0630126537131146 1.1229413341750074 1.2609972399987457 1.2609972399987455 -0.5041012297049168\n",
      "3 4\n",
      "[ 0.1050953  -0.60919653] [-2.05551864 -1.31364984  2.35035926  0.51470799]\n"
     ]
    }
   ],
   "source": [
    "# maths and stats\n",
    "rnd = np.random.randn(4, 2)   # random normals in 4x2 array\n",
    "print (rnd, len(rnd))\n",
    "print (rnd.mean(), np.average(rnd), rnd.std(), rnd.std() ** 2, rnd.var(), rnd.sum())\n",
    "print (rnd.argmin(), rnd.argmax())\n",
    "print (rnd.sum(axis = 0), rnd.sum(axis = 1))"
   ]
  },
  {
   "cell_type": "code",
   "execution_count": 147,
   "id": "aa92511b-8438-4d42-ac54-fcaabc2be732",
   "metadata": {},
   "outputs": [
    {
     "name": "stdout",
     "output_type": "stream",
     "text": [
      "[[False False]\n",
      " [ True False]\n",
      " [ True  True]\n",
      " [False  True]]\n",
      "4 True False\n"
     ]
    }
   ],
   "source": [
    "# method for boolean arrays\n",
    "print (rnd > 0)\n",
    "print ((rnd > 0).sum(), (rnd > 0).any(), (rnd > 0).all())"
   ]
  },
  {
   "cell_type": "code",
   "execution_count": 155,
   "id": "6cda2b8c-5b9a-4cea-b86b-6327c3ae0929",
   "metadata": {},
   "outputs": [
    {
     "name": "stdout",
     "output_type": "stream",
     "text": [
      "[[ 0  1  2  3]\n",
      " [ 4  5  6  7]\n",
      " [ 8  9 10 11]\n",
      " [12 13 14 15]\n",
      " [16 17 18 19]\n",
      " [20 21 22 23]\n",
      " [24 25 26 27]\n",
      " [28 29 30 31]]\n",
      "[[ 0  4  8 12 16 20 24 28]\n",
      " [ 1  5  9 13 17 21 25 29]\n",
      " [ 2  6 10 14 18 22 26 30]\n",
      " [ 3  7 11 15 19 23 27 31]]\n",
      "[[ 0  1  2  3]\n",
      " [ 4  5  6  7]\n",
      " [ 8  9 10 11]\n",
      " [12 13 14 15]\n",
      " [16 17 18 19]\n",
      " [20 21 22 23]\n",
      " [24 25 26 27]\n",
      " [28 29 30 31]]\n",
      "[ 0  1  2  3  4  5  6  7  8  9 10 11 12 13 14 15 16 17 18 19 20 21 22 23\n",
      " 24 25 26 27 28 29 30 31]\n"
     ]
    }
   ],
   "source": [
    "# reshape, transpose, flatten\n",
    "nums = np.arange(32).reshape(8, 4)\n",
    "print (nums)\n",
    "nums = nums.T   # transpose\n",
    "print (nums)\n",
    "nums = nums.T   # transpose\n",
    "print (nums)\n",
    "nums = nums.flatten()\n",
    "print (nums)"
   ]
  },
  {
   "cell_type": "code",
   "execution_count": 167,
   "id": "dd8d72e3-f139-4f20-bbce-1f45a6f1c11e",
   "metadata": {},
   "outputs": [
    {
     "name": "stdout",
     "output_type": "stream",
     "text": [
      "[[0.19151945 0.62210877 0.43772774]\n",
      " [0.78535858 0.77997581 0.27259261]]\n",
      "[ 8.59588414e-01 -6.36523504e-01  1.56963721e-02 -2.24268495e+00\n",
      "  1.15003572e+00  9.91946022e-01  9.53324128e-01 -2.02125482e+00\n",
      " -3.34077366e-01  2.11836468e-03]\n",
      "[0 0 0 1 1 1 0 1 1 0 1 0 1 0 1 1 1 1 0 1 0 1 1 0 0 1 0 0 1 1]\n"
     ]
    }
   ],
   "source": [
    "# random numbers generated with a seed value\n",
    "np.random.seed(1234)\n",
    "print (np.random.rand(2, 3))\n",
    "print (np.random.randn(10))\n",
    "print (np.random.randint(0, 2, 30))"
   ]
  },
  {
   "cell_type": "code",
   "execution_count": 172,
   "id": "028edb5a-30a7-4cf6-97c0-6ec8b5be834c",
   "metadata": {},
   "outputs": [
    {
     "name": "stdout",
     "output_type": "stream",
     "text": [
      "[[0.99208147 0.95880176 0.79196414]\n",
      " [0.28525096 0.62491671 0.4780938 ]]\n"
     ]
    }
   ],
   "source": [
    "print (np.random.rand(2, 3))"
   ]
  },
  {
   "cell_type": "markdown",
   "id": "e5e0c660-1ec5-4ec7-972a-c0952d424a66",
   "metadata": {},
   "source": [
    "### Broadcasting"
   ]
  },
  {
   "cell_type": "markdown",
   "id": "7f8f668a-743e-49f0-a80a-15acb96d6c39",
   "metadata": {},
   "source": [
    "<img src = \"NumpyBroadcasting.png\" width = 500 height = 500>"
   ]
  },
  {
   "cell_type": "code",
   "execution_count": 173,
   "id": "0a34d6dc-969e-495b-bb48-200c290cfd52",
   "metadata": {},
   "outputs": [
    {
     "data": {
      "text/plain": [
       "array([[ 0,  1,  2],\n",
       "       [10, 11, 12],\n",
       "       [20, 21, 22],\n",
       "       [30, 31, 32]])"
      ]
     },
     "execution_count": 173,
     "metadata": {},
     "output_type": "execute_result"
    }
   ],
   "source": [
    "a = np.array([[ 0,  0,  0],\n",
    "              [10, 10, 10],\n",
    "              [20, 20, 20],\n",
    "              [30, 30, 30]])\n",
    "b = np.array([0, 1, 2])\n",
    "a + b"
   ]
  },
  {
   "cell_type": "code",
   "execution_count": 174,
   "id": "f6fde559-3ba0-452a-b0d7-64a194435a00",
   "metadata": {},
   "outputs": [
    {
     "data": {
      "text/plain": [
       "array([[ 0,  1,  2],\n",
       "       [10, 11, 12],\n",
       "       [20, 21, 22],\n",
       "       [30, 31, 32]])"
      ]
     },
     "execution_count": 174,
     "metadata": {},
     "output_type": "execute_result"
    }
   ],
   "source": [
    "a = np.array([[ 0],\n",
    "              [10],\n",
    "              [20],\n",
    "              [30]])\n",
    "b = np.array([0, 1, 2])\n",
    "a + b"
   ]
  },
  {
   "cell_type": "code",
   "execution_count": null,
   "id": "39aadca5-cfa9-499a-9231-2dc081936711",
   "metadata": {},
   "outputs": [],
   "source": []
  }
 ],
 "metadata": {
  "kernelspec": {
   "display_name": "Python 3",
   "language": "python",
   "name": "python3"
  },
  "language_info": {
   "codemirror_mode": {
    "name": "ipython",
    "version": 3
   },
   "file_extension": ".py",
   "mimetype": "text/x-python",
   "name": "python",
   "nbconvert_exporter": "python",
   "pygments_lexer": "ipython3",
   "version": "3.8.8"
  }
 },
 "nbformat": 4,
 "nbformat_minor": 5
}
