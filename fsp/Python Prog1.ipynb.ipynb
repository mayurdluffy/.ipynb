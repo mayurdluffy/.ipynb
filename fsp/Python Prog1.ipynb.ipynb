{
 "cells": [
  {
   "cell_type": "markdown",
   "id": "34bff30e-d8d0-4798-a02d-ffff61ee0ecc",
   "metadata": {},
   "source": [
    "### Python Functions"
   ]
  },
  {
   "cell_type": "code",
   "execution_count": 5,
   "id": "6d7fe22c-a16f-47cc-992c-cefe2fb54bcc",
   "metadata": {},
   "outputs": [
    {
     "name": "stdout",
     "output_type": "stream",
     "text": [
      "Hello Hello Hello Hello Hello \n",
      "Welcome Welcome Welcome Welcome \n"
     ]
    }
   ],
   "source": [
    "def myFunct1():\n",
    "    print (\"Hello \" * 5)\n",
    "    print (\"Welcome \" * 4)\n",
    "    \n",
    "myFunct1()"
   ]
  },
  {
   "cell_type": "code",
   "execution_count": 6,
   "id": "23a1cc9f-6e68-44e4-b7b0-b20bf23274b6",
   "metadata": {},
   "outputs": [
    {
     "name": "stdout",
     "output_type": "stream",
     "text": [
      "Welcome Welcome Welcome Welcome \n",
      "Hello Hello Hello Hello Hello \n"
     ]
    }
   ],
   "source": [
    "def myFunct2(msg, times):\n",
    "    print (msg * times)\n",
    "myFunct2(\"Welcome \", 4)\n",
    "myFunct2(\"Hello \", 5)"
   ]
  },
  {
   "cell_type": "code",
   "execution_count": 8,
   "id": "63cfecce-22a5-4b0a-84fc-a2a9fef8b3ba",
   "metadata": {},
   "outputs": [
    {
     "name": "stdout",
     "output_type": "stream",
     "text": [
      "Good Bye... Good Bye... Good Bye... \n"
     ]
    }
   ],
   "source": [
    "def myFunct3(msg, times):\n",
    "    return (msg * times)\n",
    "result = myFunct3(\"Good Bye... \", 3)\n",
    "print (result)"
   ]
  },
  {
   "cell_type": "code",
   "execution_count": 19,
   "id": "7841dcf6-5916-4d7d-9302-9273de0bc16d",
   "metadata": {},
   "outputs": [
    {
     "name": "stdout",
     "output_type": "stream",
     "text": [
      "par1 = 100, par2 = 200 and par3 = 300...\n",
      "par1 = 100, par2 = 200 and par3 = 300...\n",
      "par1 = 100, par2 = 200 and par3 = 333...\n",
      "par1 = 100, par2 = 222 and par3 = 333...\n",
      "par1 = 111, par2 = 222 and par3 = 333...\n",
      "par1 = 100, par2 = 222 and par3 = 300...\n"
     ]
    }
   ],
   "source": [
    "# function with default parameters\n",
    "def myFunct4(par1 = 111, par2 = 222, par3 = 333):  # positional formal parameters with default arguments\n",
    "    print (f\"par1 = {par1}, par2 = {par2} and par3 = {par3}...\")\n",
    "    \n",
    "myFunct4(100, 200, 300)          # positional formal arguments\n",
    "myFunct4(par2 = 200, par3 = 300, par1 = 100)\n",
    "myFunct4(100, 200)\n",
    "myFunct4(100)\n",
    "myFunct4()\n",
    "myFunct4(par3 = 300, par1 = 100)"
   ]
  },
  {
   "cell_type": "code",
   "execution_count": 20,
   "id": "3a3fca4b-8808-4e7b-a708-d9c6b1bbf6a2",
   "metadata": {},
   "outputs": [
    {
     "name": "stdin",
     "output_type": "stream",
     "text": [
      "Please enter the first number:  100\n",
      "Please enter the second number:  400\n"
     ]
    }
   ],
   "source": [
    "num1 = int(input(\"Please enter the first number: \"))\n",
    "num2 = int(input(\"Please enter the second number: \"))\n",
    "result = num1 + num2"
   ]
  },
  {
   "cell_type": "code",
   "execution_count": 49,
   "id": "edf4f6d7-8537-4e35-b435-96e55f3a8af7",
   "metadata": {},
   "outputs": [
    {
     "name": "stdout",
     "output_type": "stream",
     "text": [
      "So 100 + 900 = 1000\n",
      "So 100 + 900 = 1000\n",
      "So 100 + 900 = 1000\n",
      "So 100 + 900 = 1000\n",
      "So 100 + 900 = 1000\n",
      "So 100 + 900 = 1000\n",
      "So 100 + 900 = 1000\n",
      "So 100 + 900 = 1000\n",
      "So 100.000000 + 900 = 1000\n",
      "So  100.0000 + 900 = 1000\n",
      "So 100 + 900 = 1000\n"
     ]
    },
    {
     "data": {
      "text/plain": [
       "'So 100 + 900 = 1000'"
      ]
     },
     "execution_count": 49,
     "metadata": {},
     "output_type": "execute_result"
    }
   ],
   "source": [
    "print (\"So\", num1, \"+\", num2, \"=\", result)\n",
    "print (\"So \" + str(num1) + \" + \" + str(num2) + \" = \" + str(result))\n",
    "print (\"So {} + {} = {}\".format(num1, num2, result))   # {} denotes place holder\n",
    "print (\"So {0} + {1} = {2}\".format(num1, num2, result))   # with numbered place holder\n",
    "print (\"So {2} + {0} = {1}\".format(num2, result, num1))   # with numbered place holder\n",
    "print (\"So {fnum} + {snum} = {res}\".format(fnum = num1, snum = num2, res = result))   # labeled place holder\n",
    "print (\"So {fnum} + {snum} = {res}\".format(res = result, fnum = num1, snum = num2))   # labeled place holder\n",
    "print (\"So %d + %d = %d\"%(num1, num2, result))\n",
    "print (\"So %f + %d = %d\"%(num1, num2, result))  # default format is f10.6\n",
    "print (\"So %9.4f + %d = %d\"%(num1, num2, result))  # user defined format is f9.4\n",
    "print (f\"So {num1} + {num2} = {result}\")\n",
    "f'So {num1} + {num2} = {result}'"
   ]
  },
  {
   "cell_type": "code",
   "execution_count": 47,
   "id": "b2135e32-d999-4db5-85fb-04479753f28e",
   "metadata": {},
   "outputs": [
    {
     "name": "stdout",
     "output_type": "stream",
     "text": [
      "So the result for 100 and None is 200\n",
      "So the result for 100 and None is 200\n",
      "So the result for 100 and 900 is 1000\n"
     ]
    }
   ],
   "source": [
    "def myFunct5(par1, par2 = None):\n",
    "    if (par2 == None):\n",
    "        return par1 * 2\n",
    "    else:\n",
    "        return par1 + par2\n",
    "    \n",
    "num1 = 100; num2 = None\n",
    "result = myFunct5(num1, num2)\n",
    "print (f\"So the result for {num1} and {num2} is {result}\")\n",
    "\n",
    "num1 = 100\n",
    "result = myFunct5(num1)\n",
    "print (f\"So the result for {num1} and {num2} is {result}\")\n",
    "\n",
    "num1 = 100; num2 = 900\n",
    "result = myFunct5(num1, num2)\n",
    "print (f\"So the result for {num1} and {num2} is {result}\")"
   ]
  },
  {
   "cell_type": "code",
   "execution_count": 56,
   "id": "a3ff656e-fafd-4ea1-b497-3a2fa2504dd5",
   "metadata": {},
   "outputs": [
    {
     "name": "stdout",
     "output_type": "stream",
     "text": [
      "tt = 140, dd = 60, pp = 4000, qq = 2.5...\n",
      "(140, 60, 4000, 2.5) <class 'tuple'> 2589248506352\n",
      "total = 140, difference = 60, product = 4000, quotient = 2.5...\n"
     ]
    }
   ],
   "source": [
    "def myFunct6(num1, num2):\n",
    "    total = num1 + num2\n",
    "    difference = num1 - num2\n",
    "    product = num1 * num2\n",
    "    quotient = num1 / num2\n",
    "    # return total, difference, product, quotient\n",
    "    return (total, difference, product, quotient)\n",
    "\n",
    "tt, dd, pp, qq = myFunct6(100, 40)\n",
    "print (f\"tt = {tt}, dd = {dd}, pp = {pp}, qq = {qq}...\")\n",
    "result = myFunct6(100, 40)\n",
    "print (result, type(result), id(result))\n",
    "print (f\"total = {result[0]}, difference = {result[1]}, product = {result[2]}, quotient = {result[3]}...\")"
   ]
  },
  {
   "cell_type": "code",
   "execution_count": 64,
   "id": "e6034e32-2bff-4007-a0f0-fa95f723baf0",
   "metadata": {},
   "outputs": [
    {
     "name": "stdout",
     "output_type": "stream",
     "text": [
      "Executing for i = 2\n",
      "Executing for i = 3\n",
      "Executing for i = 4\n",
      "Executing for i = 5\n",
      "So the factorial of 6 is 720\n"
     ]
    }
   ],
   "source": [
    "def fact_cal_nr(num):\n",
    "    if (num == 0 or num == 1): return 1\n",
    "    fact = num\n",
    "    i = 2\n",
    "    while (i < num):        # looping for (num - 2) number of times\n",
    "        print (f\"Executing for i = {i}\")\n",
    "        fact = fact * i\n",
    "        i = i + 1\n",
    "    return fact\n",
    "\n",
    "# num1 = 5\n",
    "# print (f\"So the factorial of {num1} is {fact_cal_nr(num1)}\")\n",
    "num1 = 6\n",
    "print (f\"So the factorial of {num1} is {fact_cal_nr(num1)}\")"
   ]
  },
  {
   "cell_type": "code",
   "execution_count": 65,
   "id": "c21dccf0-86f7-4adb-8c6b-f79475c2070e",
   "metadata": {},
   "outputs": [
    {
     "name": "stdout",
     "output_type": "stream",
     "text": [
      "So the factorial of 5 is 120\n",
      "So the factorial of 6 is 720\n"
     ]
    }
   ],
   "source": [
    "def fact_cal_r(num):\n",
    "    if (num == 0 or num == 1): return 1\n",
    "    return num * fact_cal_r(num - 1)\n",
    "\n",
    "num1 = 5\n",
    "print (f\"So the factorial of {num1} is {fact_cal_r(num1)}\")\n",
    "num1 = 6\n",
    "print (f\"So the factorial of {num1} is {fact_cal_r(num1)}\")"
   ]
  },
  {
   "cell_type": "code",
   "execution_count": 67,
   "id": "6ced37f3-f364-4bbc-83b9-c1e5192deb33",
   "metadata": {},
   "outputs": [
    {
     "name": "stdout",
     "output_type": "stream",
     "text": [
      "Before calling the function i = 10 and id(i) = 140732152031312\n",
      "Within the function i = 100 and id(i) = 140732152034192\n",
      "After calling the function i = 10 and id(i) = 140732152031312\n"
     ]
    }
   ],
   "source": [
    "# global keyword\n",
    "i = 10\n",
    "def myFunct7():\n",
    "    i = 100\n",
    "    print (f\"Within the function i = {i} and id(i) = {id(i)}\")\n",
    "    \n",
    "print (f\"Before calling the function i = {i} and id(i) = {id(i)}\")\n",
    "myFunct7()\n",
    "print (f\"After calling the function i = {i} and id(i) = {id(i)}\")"
   ]
  },
  {
   "cell_type": "code",
   "execution_count": 74,
   "id": "80d57dd2-db5e-47e7-8b51-fa747191596c",
   "metadata": {},
   "outputs": [
    {
     "name": "stdout",
     "output_type": "stream",
     "text": [
      "Before calling the function i = 10 and id(i) = 140732152031312\n",
      "Within the function i = 100 and id(i) = 140732152034192\n",
      "After calling the function i = 100 and id(i) = 140732152034192\n",
      "<function myFunct7 at 0x0000025ADC9E5820> <class 'function'> 2589271676960\n"
     ]
    }
   ],
   "source": [
    "# global keyword\n",
    "i = 10\n",
    "def myFunct7():\n",
    "    global i\n",
    "    i = 100\n",
    "    print (f\"Within the function i = {i} and id(i) = {id(i)}\")\n",
    "    \n",
    "print (f\"Before calling the function i = {i} and id(i) = {id(i)}\")\n",
    "myFunct7()\n",
    "print (f\"After calling the function i = {i} and id(i) = {id(i)}\")\n",
    "print (myFunct7, type(myFunct7), id(myFunct7))"
   ]
  },
  {
   "cell_type": "markdown",
   "id": "e2185025-f042-4447-8a0f-8effa94fb2d8",
   "metadata": {},
   "source": [
    "### Lambda Function"
   ]
  },
  {
   "cell_type": "code",
   "execution_count": 71,
   "id": "7c3e87b3-baa9-4bcb-ae9f-04d6cdd2e4a8",
   "metadata": {},
   "outputs": [
    {
     "name": "stdout",
     "output_type": "stream",
     "text": [
      "<function <lambda> at 0x0000025ADC9E5F70> <class 'function'> 2589271678832\n",
      "So the square of 100 = 10000\n",
      "So the square of 8 = 64\n"
     ]
    }
   ],
   "source": [
    "mySqaure = lambda num1: num1 * num1\n",
    "\n",
    "print (mySqaure, type(mySqaure), id(mySqaure))   # mySqaure is a function reference variable\n",
    "n1 = 100\n",
    "print (f\"So the square of {n1} = {mySqaure(n1)}\")\n",
    "n1 = 8\n",
    "print (f\"So the square of {n1} = {mySqaure(n1)}\")"
   ]
  },
  {
   "cell_type": "raw",
   "id": "793bb736-e050-4d3a-a0a6-91c3baf711d0",
   "metadata": {},
   "source": [
    "a = b + c   # assignment statement   b + c => it is an expression"
   ]
  },
  {
   "cell_type": "code",
   "execution_count": 70,
   "id": "3c92f930-b940-44fc-a87f-66ab3d5c9331",
   "metadata": {},
   "outputs": [
    {
     "name": "stdout",
     "output_type": "stream",
     "text": [
      "<function <lambda> at 0x0000025ADC9E5A60> <class 'function'> 2589271677536\n",
      "So the sum of 3000 and 4000 is 7000\n"
     ]
    }
   ],
   "source": [
    "myTotal = lambda num1, num2: num1 + num2\n",
    "print (myTotal, type(myTotal), id(myTotal))\n",
    "n1 = 3000\n",
    "n2 = 4000\n",
    "print (f\"So the sum of {n1} and {n2} is {myTotal(n1, n2)}\" )"
   ]
  },
  {
   "cell_type": "code",
   "execution_count": 78,
   "id": "8fedd601-c80c-47b1-9878-c7b22d4f6b57",
   "metadata": {},
   "outputs": [
    {
     "name": "stdin",
     "output_type": "stream",
     "text": [
      "Please enter an integer:  107\n"
     ]
    },
    {
     "name": "stdout",
     "output_type": "stream",
     "text": [
      "ODD Number\n"
     ]
    }
   ],
   "source": [
    "num1 = int(input(\"Please enter an integer: \"))\n",
    "print (\"EVEN Number\" if (num1 % 2 == 0) else \"ODD Number\")"
   ]
  },
  {
   "cell_type": "code",
   "execution_count": 81,
   "id": "a13d2a72-8ff8-4f5e-8bbe-6f8151af975d",
   "metadata": {},
   "outputs": [
    {
     "name": "stdout",
     "output_type": "stream",
     "text": [
      "5\n",
      "-7\n"
     ]
    }
   ],
   "source": [
    "x=((5,7)[5>7])\n",
    "print (x)\n",
    "x=((5,-7)[5>-7])\n",
    "print (x)"
   ]
  },
  {
   "cell_type": "code",
   "execution_count": 82,
   "id": "f86e36b8-7c50-4d11-a997-867b4ab2cd7f",
   "metadata": {},
   "outputs": [
    {
     "name": "stdout",
     "output_type": "stream",
     "text": [
      "120\n",
      "720\n"
     ]
    }
   ],
   "source": [
    "# using lambda function for recursive factorial calculation\n",
    "myFact = lambda num: 1 if (num == 0 or num == 1) else num * myFact(num - 1)\n",
    "\n",
    "print (myFact(5))\n",
    "print (myFact(6))"
   ]
  },
  {
   "cell_type": "code",
   "execution_count": 84,
   "id": "3d5d0e19-42d5-4630-bdd3-9d09ac270a50",
   "metadata": {},
   "outputs": [
    {
     "name": "stdout",
     "output_type": "stream",
     "text": [
      "30\n",
      "80\n",
      "150\n"
     ]
    }
   ],
   "source": [
    "def myFunct8(num):\n",
    "    myProd = lambda n: n * num\n",
    "    return myProd\n",
    "\n",
    "var10 = myFunct8(10)\n",
    "var20 = myFunct8(20)\n",
    "print (var10(3))\n",
    "print (var20(4))\n",
    "print (myFunct8(30)(5))"
   ]
  },
  {
   "cell_type": "code",
   "execution_count": 136,
   "id": "7b217525-c62d-4318-ab14-8edfbf2e7e16",
   "metadata": {},
   "outputs": [
    {
     "name": "stdout",
     "output_type": "stream",
     "text": [
      "('Bimalendu', 35000, 'Hyderabad') <class 'tuple'> 3\n",
      "('Amit', 'Developer', 50000, True) <class 'tuple'> 4\n",
      "('Amit', 'Developer', 50000, True, 'Married') <class 'tuple'> 5\n"
     ]
    }
   ],
   "source": [
    "def myFunct9(*arg):   # any variable preceded by the * symbol indicates that it is of tuple type \n",
    "    print (arg, type(arg), len(arg))\n",
    "    \n",
    "myFunct9(\"Bimalendu\", 35000, \"Hyderabad\")\n",
    "myFunct9(\"Amit\", \"Developer\", 50000, True)\n",
    "myFunct9(\"Amit\", \"Developer\", 50000, True, \"Married\")"
   ]
  },
  {
   "cell_type": "code",
   "execution_count": 138,
   "id": "339dd053-e02c-4a81-bca0-79e7837a0f5d",
   "metadata": {},
   "outputs": [
    {
     "name": "stdout",
     "output_type": "stream",
     "text": [
      "{'name': 'Amit', 'location': 'Delhi', 'job': 'Tester', 'email': 'amit@gmail.com'} <class 'dict'> 4\n",
      "{'name': 'Amit', 'location': 'Delhi', 'job': 'Tester', 'salary': 55000, 'married': True} <class 'dict'> 5\n"
     ]
    }
   ],
   "source": [
    "def myFunct10(**kwarg):    # here kwarg is a dictionary object also called key-word argument\n",
    "    print (kwarg, type(kwarg), len(kwarg))\n",
    "    \n",
    "myFunct10(name=\"Amit\", location=\"Delhi\", job=\"Tester\", email=\"amit@gmail.com\")\n",
    "myFunct10(name=\"Amit\", location=\"Delhi\", job=\"Tester\", salary=55000, married=True)"
   ]
  },
  {
   "cell_type": "code",
   "execution_count": 141,
   "id": "d7995e39-bf6d-41a3-acbb-857f85c9731d",
   "metadata": {},
   "outputs": [
    {
     "name": "stdout",
     "output_type": "stream",
     "text": [
      "('Bimalendu', 35000, 'Hyderabad') <class 'tuple'> 3\n",
      "{'name': 'Amit', 'location': 'Delhi', 'job': 'Tester', 'married': True} <class 'dict'> 4\n",
      "('Bimalendu', 35000, 'Hyderabad') <class 'tuple'> 3\n",
      "{} <class 'dict'> 0\n",
      "() <class 'tuple'> 0\n",
      "{'name': 'Amit', 'location': 'Delhi', 'job': 'Tester', 'married': True} <class 'dict'> 4\n"
     ]
    }
   ],
   "source": [
    "def myFunct11(*arg, **kwarg):\n",
    "    print (arg, type(arg), len(arg))\n",
    "    print (kwarg, type(kwarg), len(kwarg))\n",
    "    \n",
    "myFunct11(\"Bimalendu\", 35000, \"Hyderabad\", name=\"Amit\", location=\"Delhi\", job=\"Tester\", married=True)\n",
    "myFunct11(\"Bimalendu\", 35000, \"Hyderabad\")\n",
    "myFunct11(name=\"Amit\", location=\"Delhi\", job=\"Tester\", married=True)"
   ]
  },
  {
   "cell_type": "markdown",
   "id": "541e466c-e76d-47b4-9c10-53dc48108d78",
   "metadata": {},
   "source": [
    "### Exception Handling"
   ]
  },
  {
   "cell_type": "code",
   "execution_count": 88,
   "id": "609a3b77-55c1-4cb2-98cc-bbbc4440f018",
   "metadata": {},
   "outputs": [
    {
     "name": "stdin",
     "output_type": "stream",
     "text": [
      "Please enter the first integer:  100\n",
      "Please enter the second integer:  0\n"
     ]
    },
    {
     "name": "stdout",
     "output_type": "stream",
     "text": [
      "Exception has occurred...\n",
      "Program execution has got terminated...\n"
     ]
    }
   ],
   "source": [
    "try:\n",
    "    num1 = int(input(\"Please enter the first integer: \"))\n",
    "    num2 = int(input(\"Please enter the second integer: \"))\n",
    "    quotient = num1 / num2\n",
    "    print (f\"So {num1} / {num2} = {quotient}\")\n",
    "    print (\"End of the program...\")\n",
    "except:\n",
    "    print (\"Exception has occurred...\")\n",
    "    print (\"Program execution has got terminated...\")"
   ]
  },
  {
   "cell_type": "code",
   "execution_count": 100,
   "id": "4630bb79-3d87-4606-a9f6-9350590100b9",
   "metadata": {},
   "outputs": [
    {
     "name": "stdin",
     "output_type": "stream",
     "text": [
      "Please enter the first integer:  100\n",
      "Please enter the second integer:  45.5\n"
     ]
    },
    {
     "name": "stdout",
     "output_type": "stream",
     "text": [
      "Invalid input has been provided...!!!\n",
      "Error message: invalid literal for int() with base 10: '45.5'\n",
      "Name of the exception class is <class 'ValueError'>\n",
      "End of the program...\n"
     ]
    }
   ],
   "source": [
    "try:\n",
    "    num1 = int(input(\"Please enter the first integer: \"))\n",
    "    num2 = int(input(\"Please enter the second integer: \"))\n",
    "    quotient = num1 / num2\n",
    "    print (f\"So {num1} / {num2} = {quotient}\")\n",
    "except ZeroDivisionError as zde:    # here zde is an object of the class ZeroDivisionError\n",
    "    print (\"Division by ZERO is Illegal...!!!\")\n",
    "    print (\"Error message:\", zde)\n",
    "    print (\"Name of the exception class is\", type(zde))\n",
    "except ValueError as ve:\n",
    "    print (\"Invalid input has been provided...!!!\")\n",
    "    print (\"Error message:\", ve)\n",
    "    print (\"Name of the exception class is\", type(ve))\n",
    "print (\"End of the program...\")"
   ]
  },
  {
   "cell_type": "code",
   "execution_count": 101,
   "id": "2f6f9dcd-cb58-475d-8fa5-de7ff6099f3f",
   "metadata": {},
   "outputs": [
    {
     "name": "stdin",
     "output_type": "stream",
     "text": [
      "Please enter the first integer:  100\n",
      "Please enter the second integer:  0\n"
     ]
    },
    {
     "name": "stdout",
     "output_type": "stream",
     "text": [
      "Division by ZERO is Illegal...!!!\n",
      "Error message: division by zero\n",
      "Name of the exception class is <class 'ZeroDivisionError'>\n",
      "End of the program...\n"
     ]
    }
   ],
   "source": [
    "try:\n",
    "    num1 = int(input(\"Please enter the first integer: \"))\n",
    "    num2 = int(input(\"Please enter the second integer: \"))\n",
    "    quotient = num1 / num2\n",
    "    print (f\"So {num1} / {num2} = {quotient}\")\n",
    "except ArithmeticError as ae:    # here ae is an object of the class ArithmeticError\n",
    "    print (\"Division by ZERO is Illegal...!!!\")\n",
    "    print (\"Error message:\", ae)\n",
    "    print (\"Name of the exception class is\", type(ae))\n",
    "except ValueError as ve:\n",
    "    print (\"Invalid input has been provided...!!!\")\n",
    "    print (\"Error message:\", ve)\n",
    "    print (\"Name of the exception class is\", type(ve))\n",
    "print (\"End of the program...\")"
   ]
  },
  {
   "cell_type": "code",
   "execution_count": 106,
   "id": "244457c0-e1c2-4698-84ca-1727d1f9ad24",
   "metadata": {},
   "outputs": [
    {
     "name": "stdin",
     "output_type": "stream",
     "text": [
      "Please enter the first integer:  100\n",
      "Please enter the second integer:  0\n"
     ]
    },
    {
     "name": "stdout",
     "output_type": "stream",
     "text": [
      "Exception: Some error has been observed...!!!\n",
      "Exception: Error message: division by zero\n",
      "Exception: Name of the exception class is <class 'ZeroDivisionError'>\n",
      "End of the program...\n"
     ]
    }
   ],
   "source": [
    "try:\n",
    "    num1 = int(input(\"Please enter the first integer: \"))\n",
    "    num2 = int(input(\"Please enter the second integer: \"))\n",
    "    quotient = num1 / num2\n",
    "    print (f\"So {num1} / {num2} = {quotient}\")\n",
    "except ZeroDivisionError as zde:    # here zde is an object of the class ZeroDivisionError\n",
    "    print (\"ZeroDivisionError: Division by ZERO is Illegal...!!!\")\n",
    "    print (\"ZeroDivisionError: Error message:\", zde)\n",
    "    print (\"ZeroDivisionError: Name of the exception class is\", type(zde))\n",
    "except ValueError as ve:\n",
    "    print (\"ValueError: Invalid input has been provided...!!!\")\n",
    "    print (\"ValueError: Error message:\", ve)\n",
    "    print (\"ValueError: Name of the exception class is\", type(ve))\n",
    "except Exception as ex:\n",
    "    print (\"Exception: Some error has been observed...!!!\")\n",
    "    print (\"Exception: Error message:\", ex)\n",
    "    print (\"Exception: Name of the exception class is\", type(ex))\n",
    "print (\"End of the program...\")"
   ]
  },
  {
   "cell_type": "code",
   "execution_count": 110,
   "id": "cf905478-60ef-45a6-b05f-3fd1a837f17b",
   "metadata": {},
   "outputs": [
    {
     "name": "stdin",
     "output_type": "stream",
     "text": [
      "Please enter the first integer:  100\n",
      "Please enter the second integer:  23.4\n"
     ]
    },
    {
     "name": "stdout",
     "output_type": "stream",
     "text": [
      "ValueError: Invalid input has been provided...!!!\n",
      "ValueError: Error message: invalid literal for int() with base 10: '23.4'\n",
      "ValueError: Name of the exception class is <class 'ValueError'>\n",
      "End of the program...\n"
     ]
    }
   ],
   "source": [
    "try:\n",
    "    num1 = int(input(\"Please enter the first integer: \"))\n",
    "    num2 = int(input(\"Please enter the second integer: \"))\n",
    "    quotient = num1 / num2\n",
    "    print (f\"So {num1} / {num2} = {quotient}\")\n",
    "except ZeroDivisionError as zde:    # here zde is an object of the class ZeroDivisionError\n",
    "    print (\"ZeroDivisionError: Division by ZERO is Illegal...!!!\")\n",
    "    print (\"ZeroDivisionError: Error message:\", zde)\n",
    "    print (\"ZeroDivisionError: Name of the exception class is\", type(zde))\n",
    "except ValueError as ve:\n",
    "    print (\"ValueError: Invalid input has been provided...!!!\")\n",
    "    print (\"ValueError: Error message:\", ve)\n",
    "    print (\"ValueError: Name of the exception class is\", type(ve))\n",
    "except Exception as ex:\n",
    "    print (\"Exception: Some error has been observed...!!!\")\n",
    "    print (\"Exception: Error message:\", ex)\n",
    "    print (\"Exception: Name of the exception class is\", type(ex))\n",
    "print (\"End of the program...\")"
   ]
  },
  {
   "cell_type": "code",
   "execution_count": 112,
   "id": "464e4b8c-b0ba-4662-9d5f-b19bf419aebe",
   "metadata": {},
   "outputs": [
    {
     "name": "stdin",
     "output_type": "stream",
     "text": [
      "Please enter the first integer:  100\n",
      "Please enter the second integer:  0\n"
     ]
    },
    {
     "name": "stdout",
     "output_type": "stream",
     "text": [
      "ZeroDivisionError: Division by ZERO is Illegal...!!!\n",
      "ZeroDivisionError: Error message: division by zero\n",
      "ZeroDivisionError: Name of the exception class is <class 'ZeroDivisionError'>\n",
      "End of the program...\n"
     ]
    }
   ],
   "source": [
    "try:\n",
    "    num1 = int(input(\"Please enter the first integer: \"))\n",
    "    num2 = int(input(\"Please enter the second integer: \"))\n",
    "    quotient = num1 / num2\n",
    "    print (f\"So {num1} / {num2} = {quotient}\")\n",
    "except ZeroDivisionError as zde:    # here zde is an object of the class ZeroDivisionError\n",
    "    print (\"ZeroDivisionError: Division by ZERO is Illegal...!!!\")\n",
    "    print (\"ZeroDivisionError: Error message:\", zde)\n",
    "    print (\"ZeroDivisionError: Name of the exception class is\", type(zde))\n",
    "except ValueError as ve:\n",
    "    print (\"ValueError: Invalid input has been provided...!!!\")\n",
    "    print (\"ValueError: Error message:\", ve)\n",
    "    print (\"ValueError: Name of the exception class is\", type(ve))\n",
    "except Exception as ex:\n",
    "    print (\"Exception: Some error has been observed...!!!\")\n",
    "    print (\"Exception: Error message:\", ex)\n",
    "    print (\"Exception: Name of the exception class is\", type(ex))\n",
    "else:\n",
    "    print (\"Else block is executing...\")\n",
    "    print (\"Else block executes whenever there is no exception...\")\n",
    "print (\"End of the program...\")"
   ]
  },
  {
   "cell_type": "code",
   "execution_count": 114,
   "id": "2ec5f0f2-65c6-4420-9aab-9a996b8454b4",
   "metadata": {},
   "outputs": [
    {
     "name": "stdin",
     "output_type": "stream",
     "text": [
      "Please enter the first integer:  100\n",
      "Please enter the second integer:  two\n"
     ]
    },
    {
     "name": "stdout",
     "output_type": "stream",
     "text": [
      "ValueError: Invalid input has been provided...!!!\n",
      "ValueError: Error message: invalid literal for int() with base 10: 'two'\n",
      "ValueError: Name of the exception class is <class 'ValueError'>\n",
      "Finally block is executing...\n",
      "Finally block executes always...\n",
      "End of the program...\n"
     ]
    }
   ],
   "source": [
    "try:\n",
    "    num1 = int(input(\"Please enter the first integer: \"))\n",
    "    num2 = int(input(\"Please enter the second integer: \"))\n",
    "    quotient = num1 / num2\n",
    "    print (f\"So {num1} / {num2} = {quotient}\")\n",
    "except ZeroDivisionError as zde:    # here zde is an object of the class ZeroDivisionError\n",
    "    print (\"ZeroDivisionError: Division by ZERO is Illegal...!!!\")\n",
    "    print (\"ZeroDivisionError: Error message:\", zde)\n",
    "    print (\"ZeroDivisionError: Name of the exception class is\", type(zde))\n",
    "except ValueError as ve:\n",
    "    print (\"ValueError: Invalid input has been provided...!!!\")\n",
    "    print (\"ValueError: Error message:\", ve)\n",
    "    print (\"ValueError: Name of the exception class is\", type(ve))\n",
    "except Exception as ex:\n",
    "    print (\"Exception: Some error has been observed...!!!\")\n",
    "    print (\"Exception: Error message:\", ex)\n",
    "    print (\"Exception: Name of the exception class is\", type(ex))\n",
    "else:\n",
    "    print (\"Else block is executing...\")\n",
    "    print (\"Else block executes whenever there is no exception...\")\n",
    "finally:\n",
    "    print (\"Finally block is executing...\")\n",
    "    print (\"Finally block executes always...\")\n",
    "print (\"End of the program...\")"
   ]
  },
  {
   "cell_type": "code",
   "execution_count": 123,
   "id": "e1f42c39-3b54-4f23-8ed5-6a3f4345b8d9",
   "metadata": {},
   "outputs": [
    {
     "name": "stdin",
     "output_type": "stream",
     "text": [
      "Please enter the first integer:  100\n",
      "Please enter the second integer:  20\n"
     ]
    },
    {
     "name": "stdout",
     "output_type": "stream",
     "text": [
      "So 100 / 20 = 5.0\n",
      "Else block is executing...\n",
      "Else block executes whenever there is no exception...\n",
      "Finally block is executing...\n",
      "Finally block executes always...\n",
      "End of the program...\n"
     ]
    }
   ],
   "source": [
    "try:\n",
    "    num1 = int(input(\"Please enter the first integer: \"))\n",
    "    if (num1 < -100): raise NameError(\"Below-100\")\n",
    "    elif (num1 > 100): raise NameError(\"Above+100\")\n",
    "    num2 = int(input(\"Please enter the second integer: \"))\n",
    "    if (num2 < -100): raise NameError(\"Below-100\")\n",
    "    elif (num2 > 100): raise NameError(\"Above+100\")\n",
    "    quotient = num1 / num2\n",
    "    print (f\"So {num1} / {num2} = {quotient}\")\n",
    "except ZeroDivisionError as zde:    # here zde is an object of the class ZeroDivisionError\n",
    "    print (\"ZeroDivisionError: Division by ZERO is Illegal...!!!\")\n",
    "    print (\"ZeroDivisionError: Error message:\", zde)\n",
    "    print (\"ZeroDivisionError: Name of the exception class is\", type(zde))\n",
    "except ValueError as ve:\n",
    "    print (\"ValueError: Invalid input has been provided...!!!\")\n",
    "    print (\"ValueError: Error message:\", ve)\n",
    "    print (\"ValueError: Name of the exception class is\", type(ve))\n",
    "except NameError as ne:\n",
    "    print (\"NameError: Input data is out of range...\")\n",
    "    print (\"NameError: Error message:\", ne)\n",
    "    if (str(ne) == \"Below-100\"):\n",
    "        print (\"NameError: Input number is below the lower limit -100...\")\n",
    "    elif(str(ne) == \"Above+100\"):\n",
    "        print (\"NameError: Input number is above the upper limit +100...\")\n",
    "except Exception as ex:\n",
    "    print (\"Exception: Some error has been observed...!!!\")\n",
    "    print (\"Exception: Error message:\", ex)\n",
    "    print (\"Exception: Name of the exception class is\", type(ex))\n",
    "else:\n",
    "    print (\"Else block is executing...\")\n",
    "    print (\"Else block executes whenever there is no exception...\")\n",
    "finally:\n",
    "    print (\"Finally block is executing...\")\n",
    "    print (\"Finally block executes always...\")\n",
    "print (\"End of the program...\")"
   ]
  },
  {
   "cell_type": "code",
   "execution_count": 124,
   "id": "493ce643-c1cb-4283-b394-864c1c75401d",
   "metadata": {},
   "outputs": [
    {
     "name": "stdin",
     "output_type": "stream",
     "text": [
      "Please enter the first integer:  -900\n"
     ]
    },
    {
     "name": "stdout",
     "output_type": "stream",
     "text": [
      "NameError: Input data is out of range...\n",
      "NameError: Error message: Below-100\n",
      "NameError: Input number is below the lower limit -100...\n",
      "Finally block is executing...\n",
      "Finally block executes always...\n"
     ]
    },
    {
     "name": "stdin",
     "output_type": "stream",
     "text": [
      "Please enter the first integer:  900\n"
     ]
    },
    {
     "name": "stdout",
     "output_type": "stream",
     "text": [
      "NameError: Input data is out of range...\n",
      "NameError: Error message: Above+100\n",
      "NameError: Input number is above the upper limit +100...\n",
      "Finally block is executing...\n",
      "Finally block executes always...\n"
     ]
    },
    {
     "name": "stdin",
     "output_type": "stream",
     "text": [
      "Please enter the first integer:  10.5\n"
     ]
    },
    {
     "name": "stdout",
     "output_type": "stream",
     "text": [
      "ValueError: Invalid input has been provided...!!!\n",
      "ValueError: Error message: invalid literal for int() with base 10: '10.5'\n",
      "ValueError: Name of the exception class is <class 'ValueError'>\n",
      "Finally block is executing...\n",
      "Finally block executes always...\n"
     ]
    },
    {
     "name": "stdin",
     "output_type": "stream",
     "text": [
      "Please enter the first integer:  10\n",
      "Please enter the second integer:  0\n"
     ]
    },
    {
     "name": "stdout",
     "output_type": "stream",
     "text": [
      "ZeroDivisionError: Division by ZERO is Illegal...!!!\n",
      "ZeroDivisionError: Error message: division by zero\n",
      "ZeroDivisionError: Name of the exception class is <class 'ZeroDivisionError'>\n",
      "Finally block is executing...\n",
      "Finally block executes always...\n"
     ]
    },
    {
     "name": "stdin",
     "output_type": "stream",
     "text": [
      "Please enter the first integer:  10\n",
      "Please enter the second integer:  2.5\n"
     ]
    },
    {
     "name": "stdout",
     "output_type": "stream",
     "text": [
      "ValueError: Invalid input has been provided...!!!\n",
      "ValueError: Error message: invalid literal for int() with base 10: '2.5'\n",
      "ValueError: Name of the exception class is <class 'ValueError'>\n",
      "Finally block is executing...\n",
      "Finally block executes always...\n"
     ]
    },
    {
     "name": "stdin",
     "output_type": "stream",
     "text": [
      "Please enter the first integer:  100\n",
      "Please enter the second integer:  20\n"
     ]
    },
    {
     "name": "stdout",
     "output_type": "stream",
     "text": [
      "So 100 / 20 = 5.0\n",
      "Else block is executing...\n",
      "Else block executes whenever there is no exception...\n",
      "Finally block is executing...\n",
      "Finally block executes always...\n",
      "End of the program...\n"
     ]
    }
   ],
   "source": [
    "while (True):\n",
    "    try:\n",
    "        num1 = int(input(\"Please enter the first integer: \"))\n",
    "        if (num1 < -100): raise NameError(\"Below-100\")\n",
    "        elif (num1 > 100): raise NameError(\"Above+100\")\n",
    "        num2 = int(input(\"Please enter the second integer: \"))\n",
    "        if (num2 < -100): raise NameError(\"Below-100\")\n",
    "        elif (num2 > 100): raise NameError(\"Above+100\")\n",
    "        quotient = num1 / num2\n",
    "        print (f\"So {num1} / {num2} = {quotient}\")\n",
    "    except ZeroDivisionError as zde:    # here zde is an object of the class ZeroDivisionError\n",
    "        print (\"ZeroDivisionError: Division by ZERO is Illegal...!!!\")\n",
    "        print (\"ZeroDivisionError: Error message:\", zde)\n",
    "        print (\"ZeroDivisionError: Name of the exception class is\", type(zde))\n",
    "    except ValueError as ve:\n",
    "        print (\"ValueError: Invalid input has been provided...!!!\")\n",
    "        print (\"ValueError: Error message:\", ve)\n",
    "        print (\"ValueError: Name of the exception class is\", type(ve))\n",
    "    except NameError as ne:\n",
    "        print (\"NameError: Input data is out of range...\")\n",
    "        print (\"NameError: Error message:\", ne)\n",
    "        if (str(ne) == \"Below-100\"):\n",
    "            print (\"NameError: Input number is below the lower limit -100...\")\n",
    "        elif(str(ne) == \"Above+100\"):\n",
    "            print (\"NameError: Input number is above the upper limit +100...\")\n",
    "    except Exception as ex:\n",
    "        print (\"Exception: Some error has been observed...!!!\")\n",
    "        print (\"Exception: Error message:\", ex)\n",
    "        print (\"Exception: Name of the exception class is\", type(ex))\n",
    "    else:\n",
    "        print (\"Else block is executing...\")\n",
    "        print (\"Else block executes whenever there is no exception...\")\n",
    "        break\n",
    "    finally:\n",
    "        print (\"Finally block is executing...\")\n",
    "        print (\"Finally block executes always...\")\n",
    "print (\"End of the program...\")"
   ]
  },
  {
   "cell_type": "code",
   "execution_count": 125,
   "id": "9253f75b-c1b4-499d-9f3a-c87ed26128f2",
   "metadata": {},
   "outputs": [
    {
     "name": "stdout",
     "output_type": "stream",
     "text": [
      "B\n",
      "C\n",
      "D\n"
     ]
    }
   ],
   "source": [
    "class B(Exception):\n",
    "    pass\n",
    "\n",
    "class C(B):\n",
    "    pass\n",
    "\n",
    "class D(C):\n",
    "    pass\n",
    "\n",
    "for myclass in [B, C, D]:\n",
    "    try:\n",
    "        raise myclass()\n",
    "    except D:\n",
    "        print (\"D\")\n",
    "    except C:\n",
    "        print (\"C\")\n",
    "    except B:\n",
    "        print (\"B\")"
   ]
  },
  {
   "cell_type": "code",
   "execution_count": 126,
   "id": "d2d318e3-7c1b-4803-857e-c211aa09d49d",
   "metadata": {},
   "outputs": [
    {
     "name": "stdout",
     "output_type": "stream",
     "text": [
      "B\n",
      "B\n",
      "B\n"
     ]
    }
   ],
   "source": [
    "class B(Exception):\n",
    "    pass\n",
    "\n",
    "class C(B):\n",
    "    pass\n",
    "\n",
    "class D(C):\n",
    "    pass\n",
    "\n",
    "for myclass in [B, C, D]:\n",
    "    try:\n",
    "        raise myclass()\n",
    "    except B:\n",
    "        print (\"B\")\n",
    "    except D:\n",
    "        print (\"D\")\n",
    "    except C:\n",
    "        print (\"C\")"
   ]
  },
  {
   "cell_type": "code",
   "execution_count": 129,
   "id": "a9938d56-8be0-49f6-ba39-28fb41b58d86",
   "metadata": {},
   "outputs": [
    {
     "name": "stdout",
     "output_type": "stream",
     "text": [
      "<class 'Exception'>\n",
      "('Error', 'Exists')\n",
      "('Error', 'Exists')\n",
      "('Error', 'Exists')\n",
      "First argument is Error\n",
      "Second argument is Exists\n"
     ]
    }
   ],
   "source": [
    "try:\n",
    "    raise Exception(\"Error\", \"Exists\")\n",
    "except Exception as ex:\n",
    "    print (type(ex))\n",
    "    print (ex.args)\n",
    "    print (ex)    # whenever we print any object then by default __str__() method will be called\n",
    "    print (ex.__str__())\n",
    "    arg1, arg2 = ex.args\n",
    "    print (\"First argument is\", arg1)\n",
    "    print (\"Second argument is\", arg2)"
   ]
  },
  {
   "cell_type": "code",
   "execution_count": 130,
   "id": "158ca926-f0b3-4817-9553-8ad37ff4787b",
   "metadata": {},
   "outputs": [
    {
     "name": "stdout",
     "output_type": "stream",
     "text": [
      "Handling runtime error: division by zero\n"
     ]
    }
   ],
   "source": [
    "def this_fails():\n",
    "    x = 100 / 0\n",
    "    \n",
    "try:\n",
    "    this_fails()\n",
    "except ZeroDivisionError as zde:\n",
    "    print (\"Handling runtime error:\", zde)"
   ]
  },
  {
   "cell_type": "code",
   "execution_count": 134,
   "id": "1e468cfc-1089-45d6-a293-945fdc9bf8a1",
   "metadata": {},
   "outputs": [
    {
     "name": "stdout",
     "output_type": "stream",
     "text": [
      "False\n"
     ]
    }
   ],
   "source": [
    "def bool_return():\n",
    "    try:\n",
    "        return True\n",
    "    finally:\n",
    "        return False\n",
    "        print (\"Exit...\")\n",
    "    \n",
    "print (bool_return())"
   ]
  },
  {
   "cell_type": "code",
   "execution_count": null,
   "id": "11ba39ac-0e4c-45b4-b40a-55b66ba8aaaa",
   "metadata": {},
   "outputs": [],
   "source": []
  },
  {
   "cell_type": "code",
   "execution_count": null,
   "id": "71a555ea-23e8-4111-bf08-8a20c9dee24a",
   "metadata": {},
   "outputs": [],
   "source": []
  },
  {
   "cell_type": "code",
   "execution_count": null,
   "id": "3ffe9f0e-7004-4f93-b242-2e271d4c75ba",
   "metadata": {},
   "outputs": [],
   "source": []
  },
  {
   "cell_type": "code",
   "execution_count": null,
   "id": "fb0198a1-9808-453b-a4dc-5766fede61e7",
   "metadata": {},
   "outputs": [],
   "source": []
  },
  {
   "cell_type": "code",
   "execution_count": null,
   "id": "acb388d3-5e5f-4cc5-aad9-7698c49bb38a",
   "metadata": {},
   "outputs": [],
   "source": []
  },
  {
   "cell_type": "code",
   "execution_count": null,
   "id": "daf38d8f-e2ed-41d4-8f3f-5dd1e5a1845c",
   "metadata": {},
   "outputs": [],
   "source": []
  },
  {
   "cell_type": "code",
   "execution_count": null,
   "id": "3ca1c50f-36b4-4a15-9f7b-067ba190bc5e",
   "metadata": {},
   "outputs": [],
   "source": []
  },
  {
   "cell_type": "code",
   "execution_count": null,
   "id": "df82bb1b-8402-4f7e-99e1-2d3dd3e7237c",
   "metadata": {},
   "outputs": [],
   "source": []
  },
  {
   "cell_type": "code",
   "execution_count": null,
   "id": "f7184c6b-2364-4f5b-a7be-4e27752ced72",
   "metadata": {},
   "outputs": [],
   "source": []
  }
 ],
 "metadata": {
  "kernelspec": {
   "display_name": "Python 3",
   "language": "python",
   "name": "python3"
  },
  "language_info": {
   "codemirror_mode": {
    "name": "ipython",
    "version": 3
   },
   "file_extension": ".py",
   "mimetype": "text/x-python",
   "name": "python",
   "nbconvert_exporter": "python",
   "pygments_lexer": "ipython3",
   "version": "3.8.8"
  }
 },
 "nbformat": 4,
 "nbformat_minor": 5
}
