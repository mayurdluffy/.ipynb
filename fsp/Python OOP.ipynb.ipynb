{
 "cells": [
  {
   "cell_type": "markdown",
   "id": "9a4fb6d6-d0ce-4276-8f23-18a9f9742269",
   "metadata": {},
   "source": [
    "### OOP in Python"
   ]
  },
  {
   "cell_type": "code",
   "execution_count": 1,
   "id": "b387589a-fa32-4187-bdc9-357f8d7f08b4",
   "metadata": {},
   "outputs": [],
   "source": [
    "class MyFirstClass1:\n",
    "    pass   # denotes statement place holder\n",
    "ob1 = MyFirstClass1()"
   ]
  },
  {
   "cell_type": "code",
   "execution_count": 4,
   "id": "a3e4d208-468f-4082-81da-4370fb535767",
   "metadata": {},
   "outputs": [
    {
     "name": "stdout",
     "output_type": "stream",
     "text": [
      "This is a document string containing the purpose/definition of the class\n",
      "This is a document string containing the purpose/definition of the class\n"
     ]
    }
   ],
   "source": [
    "class MyFirstClass2:\n",
    "    \"\"\"This is a document string containing the purpose/definition of the class\"\"\"\n",
    "ob1 = MyFirstClass2()\n",
    "print (ob1.__doc__)\n",
    "print (MyFirstClass2.__doc__)"
   ]
  },
  {
   "cell_type": "code",
   "execution_count": 20,
   "id": "4ee67748-4b21-4c90-b49d-0eca0932674f",
   "metadata": {},
   "outputs": [
    {
     "name": "stdout",
     "output_type": "stream",
     "text": [
      "Executing the destructor method...\n",
      "Executing the constructor method...\n",
      "Executing the display method...\n",
      "The class variable is 100\n",
      "The class variable is 100\n",
      "The instance variable is 111\n",
      "self = <__main__.MyClass object at 0x00000194BADF77F0>\n",
      "Updating the class variable...\n",
      "\n",
      "Executing the constructor method...\n",
      "Executing the destructor method...\n",
      "Executing the display method...\n",
      "The class variable is 150\n",
      "The class variable is 150\n",
      "The instance variable is 222\n",
      "self = <__main__.MyClass object at 0x00000194BAE01190>\n"
     ]
    }
   ],
   "source": [
    "class MyClass:\n",
    "    '''This is a doc string...'''\n",
    "    __class_var1 = 100  # it is a class or static variable\n",
    "    def __init__(self, data1):    # constructor method\n",
    "        print (\"Executing the constructor method...\")\n",
    "        self.__inst_var1 = data1\n",
    "    def display(self):\n",
    "        print (\"Executing the display method...\")\n",
    "        print (f\"The class variable is {MyClass.__class_var1}\")\n",
    "        print (f\"The class variable is {self.__class_var1}\")\n",
    "        print (f\"The instance variable is {self.__inst_var1}\")\n",
    "        print (\"self =\", self)\n",
    "    def update(self):\n",
    "        print (\"Updating the class variable...\")\n",
    "        MyClass.__class_var1 += 50\n",
    "    def __del__(self):           # destructor method\n",
    "        print (\"Executing the destructor method...\")\n",
    "ob1 = MyClass(111)\n",
    "ob1.display()\n",
    "ob1.update()\n",
    "print (\"\")\n",
    "ob2 = MyClass(222)\n",
    "ob2.display()"
   ]
  },
  {
   "cell_type": "code",
   "execution_count": 21,
   "id": "8fd3c81d-7a3d-4213-bf8b-91f993d9a909",
   "metadata": {},
   "outputs": [
    {
     "name": "stdout",
     "output_type": "stream",
     "text": [
      "Updating the class variable...\n",
      "Executing the display method...\n",
      "The class variable is 200\n",
      "The class variable is 200\n",
      "The instance variable is 111\n",
      "self = <__main__.MyClass object at 0x00000194BADF77F0>\n"
     ]
    }
   ],
   "source": [
    "ob1.update()\n",
    "ob1.display()"
   ]
  },
  {
   "cell_type": "code",
   "execution_count": 22,
   "id": "68e8a3ed-235b-4013-a5de-84ca05279800",
   "metadata": {},
   "outputs": [
    {
     "name": "stdout",
     "output_type": "stream",
     "text": [
      "Executing the destructor method...\n",
      "Executing the destructor method...\n"
     ]
    }
   ],
   "source": [
    "del ob1\n",
    "del ob2"
   ]
  },
  {
   "cell_type": "code",
   "execution_count": 10,
   "id": "d90dd296-4e2c-4233-a22e-d517f441b5a2",
   "metadata": {},
   "outputs": [
    {
     "name": "stdout",
     "output_type": "stream",
     "text": [
      "university 10 UNIVERSITY\n"
     ]
    }
   ],
   "source": [
    "myStr = \"university\"\n",
    "print (myStr, len(myStr), myStr.upper())"
   ]
  },
  {
   "cell_type": "code",
   "execution_count": 23,
   "id": "4b02fbd9-231f-4872-aafe-a4a068564ad8",
   "metadata": {},
   "outputs": [
    {
     "name": "stdout",
     "output_type": "stream",
     "text": [
      "So till now total number of objects got created is 4\n"
     ]
    }
   ],
   "source": [
    "# keeping the count of number of objects created against a class\n",
    "class MyClass:\n",
    "    count = 0    # defining a class variable and initialized with 0\n",
    "    def __init__(self):\n",
    "        MyClass.count += 1\n",
    "        \n",
    "ob1 = MyClass()\n",
    "ob2 = MyClass()\n",
    "ob3 = MyClass()\n",
    "ob4 = MyClass()\n",
    "print (\"So till now total number of objects got created is\", MyClass.count)"
   ]
  },
  {
   "cell_type": "code",
   "execution_count": 31,
   "id": "2ee9cc5c-e90c-4661-b7b9-503053c0ce62",
   "metadata": {},
   "outputs": [
    {
     "name": "stdout",
     "output_type": "stream",
     "text": [
      "Executing the instance method <__main__.MyClass object at 0x00000194BB0E3700>\n",
      "So instVar = 100 and classVar = 222\n",
      "Executing the class method <class '__main__.MyClass'>\n",
      "classVar = 333\n",
      "Executing the class method <class '__main__.MyClass'>\n",
      "classVar = 333\n",
      "Executing the static method\n",
      "classVar = 444\n",
      "Executing the static method\n",
      "classVar = 444\n"
     ]
    }
   ],
   "source": [
    "# there are three different methods in Python: instance, class and static methods\n",
    "class MyClass:\n",
    "    classVar = 111     # class variable\n",
    "    def myInstMethod(self):     # instance method\n",
    "        print (\"Executing the instance method\", self)\n",
    "        self.instVar = 100    # instance variable\n",
    "        MyClass.classVar = 222\n",
    "        print (f\"So instVar = {self.instVar} and classVar = {MyClass.classVar}\")\n",
    "    @classmethod              # annotation or decorator\n",
    "    def myClassmethod(cla):     # class method\n",
    "        print (\"Executing the class method\", cla)\n",
    "        cla.classVar = 333\n",
    "        print (f\"classVar = {MyClass.classVar}\")\n",
    "    @staticmethod             # annotation or decorator\n",
    "    def myStaticMethod():\n",
    "        print (\"Executing the static method\")\n",
    "        MyClass.classVar = 444\n",
    "        print (f\"classVar = {MyClass.classVar}\")\n",
    "        \n",
    "ob1 = MyClass()\n",
    "ob1.myInstMethod()\n",
    "# Class.myInstMethod()\n",
    "ob1.myClassmethod()\n",
    "MyClass.myClassmethod()\n",
    "ob1.myStaticMethod()\n",
    "MyClass.myStaticMethod()"
   ]
  },
  {
   "cell_type": "code",
   "execution_count": 42,
   "id": "5dfa1c2c-e4e9-42ff-b6cd-5b31777b6f36",
   "metadata": {},
   "outputs": [
    {
     "name": "stdout",
     "output_type": "stream",
     "text": [
      "False\n",
      "True\n",
      "True\n",
      "True\n",
      "100\n",
      "500\n",
      "True\n",
      "False\n",
      "{'instVar1': 500}\n",
      "['__class__', '__delattr__', '__dict__', '__dir__', '__doc__', '__eq__', '__format__', '__ge__', '__getattribute__', '__gt__', '__hash__', '__init__', '__init_subclass__', '__le__', '__lt__', '__module__', '__ne__', '__new__', '__reduce__', '__reduce_ex__', '__repr__', '__setattr__', '__sizeof__', '__str__', '__subclasshook__', '__weakref__', 'classVar1', 'display', 'function2', 'instVar1']\n",
      "I am __str__() method executing... I am __str__() method executing...\n"
     ]
    }
   ],
   "source": [
    "# built-in Python methods\n",
    "class MyClass1:\n",
    "    def __init__(self):\n",
    "        print (\"Hello\")   \n",
    "class MyClass2:\n",
    "    classVar1 = 100\n",
    "    def __init__(self):\n",
    "        self.instVar1 = 111\n",
    "    def display(self):\n",
    "        print (\"instVar1 =\", self.instVar1)\n",
    "class MyClass3(MyClass2):\n",
    "    \"\"\"This is a document string...\"\"\"\n",
    "    def function2(self):\n",
    "        print (\"function2() is executing...\")\n",
    "    def __str__(self):\n",
    "        return \"I am __str__() method executing...\"\n",
    "ob1 = MyClass3()\n",
    "print (isinstance(ob1, MyClass1))\n",
    "print (isinstance(ob1, MyClass2))\n",
    "print (isinstance(ob1, MyClass3))\n",
    "print (hasattr(ob1, \"classVar1\"))\n",
    "print (getattr(ob1, \"classVar1\"))\n",
    "setattr(ob1, \"instVar1\", 500)\n",
    "print (ob1.instVar1)\n",
    "print (issubclass(MyClass3, MyClass2))\n",
    "print (issubclass(MyClass3, MyClass1))\n",
    "print (vars(ob1))  # returns a dictionary of attributes of the object\n",
    "print (dir(ob1))   # returns a list of all attributes of the object\n",
    "print (ob1, ob1.__str__())"
   ]
  },
  {
   "cell_type": "code",
   "execution_count": 43,
   "id": "52feed1f-3459-43f5-9466-4c7fab8f42f3",
   "metadata": {},
   "outputs": [
    {
     "name": "stdout",
     "output_type": "stream",
     "text": [
      "This is a document string...\n",
      "__main__\n",
      "{'instVar1': 500}\n"
     ]
    }
   ],
   "source": [
    "# built-in Python attributes\n",
    "print (ob1.__doc__)\n",
    "print (ob1.__module__)\n",
    "print (ob1.__dict__)"
   ]
  },
  {
   "cell_type": "code",
   "execution_count": 52,
   "id": "80bec454-9585-44b8-9a08-b8d62c1abb98",
   "metadata": {},
   "outputs": [
    {
     "name": "stdout",
     "output_type": "stream",
     "text": [
      "111\n",
      "222\n",
      "333\n",
      "Public Method is executing...\n",
      "Protected Method is executing...\n",
      "Private Method is executing...\n"
     ]
    }
   ],
   "source": [
    "# dealing with private, protected and public members\n",
    "class MyClass:\n",
    "    def __init__(self):\n",
    "        self.publicVar = 111\n",
    "        self._protectedVar = 222\n",
    "        self.__privateVar = 333\n",
    "    def publicMethod(self):\n",
    "        return \"Public Method is executing...\"\n",
    "    def _protectedMethod(self):\n",
    "        return \"Protected Method is executing...\"\n",
    "    def __privateMethod(self):\n",
    "        return \"Private Method is executing...\"\n",
    "ob1 = MyClass()\n",
    "print (ob1.publicVar)\n",
    "print (ob1._protectedVar)\n",
    "# print (ob1.__privateVar)\n",
    "print (ob1._MyClass__privateVar)\n",
    "print (ob1.publicMethod())\n",
    "print (ob1._protectedMethod())\n",
    "# print (ob1.__privateMethod())\n",
    "print (ob1._MyClass__privateMethod())"
   ]
  },
  {
   "cell_type": "markdown",
   "id": "321dddb8-b10c-4bbe-911c-5517987b1093",
   "metadata": {},
   "source": [
    "#### Dealing with Inheritance"
   ]
  },
  {
   "cell_type": "markdown",
   "id": "89120679-55e2-475b-8b27-10e460556d53",
   "metadata": {},
   "source": [
    "<img src = \"Inheritance.png\" width = 500 height = 400>"
   ]
  },
  {
   "cell_type": "code",
   "execution_count": 61,
   "id": "8826d86b-cb75-4570-aaa8-a3913c600e62",
   "metadata": {},
   "outputs": [
    {
     "name": "stdout",
     "output_type": "stream",
     "text": [
      "Derived class constructor executing...\n",
      "Base class constructor executing...\n",
      "Base class constructor executing...\n",
      "Base class constructor executing...\n",
      "Base class constructor executing...\n",
      "Display Base method executing...\n",
      "Display Derived method executing...\n"
     ]
    }
   ],
   "source": [
    "# single inheritance\n",
    "class Base:\n",
    "    def __init__(self):\n",
    "        print (\"Base class constructor executing...\")\n",
    "    def displayB(self):\n",
    "        print (\"Display Base method executing...\")\n",
    "class Derived(Base):\n",
    "    def __init__(self):\n",
    "        print (\"Derived class constructor executing...\")\n",
    "        Base.__init__(self)\n",
    "        super(Derived, self).__init__()\n",
    "        super().__init__()\n",
    "    def displayD(self):\n",
    "        print (\"Display Derived method executing...\")\n",
    "ob1 = Derived()\n",
    "super(Derived, ob1).__init__()\n",
    "ob1.displayB()\n",
    "ob1.displayD()"
   ]
  },
  {
   "cell_type": "code",
   "execution_count": 73,
   "id": "1d0f4df4-3b76-4344-9a1b-04674cf59a66",
   "metadata": {},
   "outputs": [
    {
     "name": "stdout",
     "output_type": "stream",
     "text": [
      "Base class constructor executing...\n",
      "Derived2: function() executing...\n",
      "Derived1: function() executing...\n",
      "Derived1: function() executing...\n",
      "Derived1: function() executing...\n",
      "Base: function() executing...\n",
      "Derived1: function() executing...\n",
      "Base: displayB() executing...\n",
      "Derived1: displayD1() executing...\n",
      "Derived2: displayD2() executing...\n"
     ]
    }
   ],
   "source": [
    "# multilevel inheritance\n",
    "class Base:\n",
    "    def __init__(self):\n",
    "        print (\"Base class constructor executing...\")\n",
    "    def displayB(self):\n",
    "        print (\"Base: displayB() executing...\")\n",
    "    def function(self):\n",
    "        print (\"Base: function() executing...\")\n",
    "class Derived1(Base):\n",
    "    def displayD1(self):\n",
    "        print (\"Derived1: displayD1() executing...\")\n",
    "    def function(self):\n",
    "        print (\"Derived1: function() executing...\")\n",
    "class Derived2(Derived1):\n",
    "    def displayD2(self):\n",
    "        print (\"Derived2: displayD2() executing...\")\n",
    "    def function(self):\n",
    "        print (\"Derived2: function() executing...\")\n",
    "        super().function()\n",
    "        super(Derived2, self).function()\n",
    "        Derived1.function(self)\n",
    "        Base.function(self)\n",
    "ob1 = Derived2()\n",
    "ob1.function()\n",
    "super(Derived2, ob1).function()\n",
    "ob1.displayB()\n",
    "ob1.displayD1()\n",
    "ob1.displayD2()"
   ]
  },
  {
   "cell_type": "code",
   "execution_count": 75,
   "id": "758f08e4-16ef-48b0-a7c8-a473b7a7120e",
   "metadata": {},
   "outputs": [
    {
     "name": "stdout",
     "output_type": "stream",
     "text": [
      "Base: constructor executing...\n",
      "Base: displayB() executing...\n",
      "DerivedD1: displayD1() executing...\n",
      "Base: function() executing...\n",
      "\n",
      "Base: constructor executing...\n",
      "Base: displayB() executing...\n",
      "DerivedD2: displayD2() executing...\n",
      "Base: function() executing...\n"
     ]
    }
   ],
   "source": [
    "# hierarchical inheritance\n",
    "class Base:\n",
    "    def __init__(self):\n",
    "        print (\"Base: constructor executing...\")\n",
    "    def displayB(self):\n",
    "        print (\"Base: displayB() executing...\")\n",
    "    def function(self):\n",
    "        print (\"Base: function() executing...\")\n",
    "class Derived1(Base):\n",
    "    def displayD1(self):\n",
    "        print (\"DerivedD1: displayD1() executing...\")\n",
    "    def function(self):\n",
    "        print (\"DerivedD1: function() executing...\")\n",
    "class Derived2(Base):\n",
    "    def displayD2(self):\n",
    "        print (\"DerivedD2: displayD2() executing...\")\n",
    "    def function(self):\n",
    "        print (\"DerivedD2: function() executing...\")\n",
    "ob1 = Derived1()\n",
    "ob1.displayB()\n",
    "ob1.displayD1()\n",
    "super(Derived1, ob1).function()\n",
    "print (\"\")\n",
    "ob2 = Derived2()\n",
    "ob2.displayB()\n",
    "ob2.displayD2()\n",
    "super(Derived2, ob2).function()"
   ]
  },
  {
   "cell_type": "code",
   "execution_count": 79,
   "id": "a014ed92-75a6-4386-bf0b-dd20f1044b1a",
   "metadata": {},
   "outputs": [
    {
     "name": "stdout",
     "output_type": "stream",
     "text": [
      "Base2: constructor executing...\n",
      "Base1: displayB1() executing...\n",
      "Base2: displayB2() executing...\n",
      "Derived: displayD() executing...\n",
      "Base2: myFunction() executing...\n"
     ]
    }
   ],
   "source": [
    "# multiple inheritance\n",
    "class Base1:\n",
    "    def __init__(self):\n",
    "        print (\"Base1: constructor executing...\")\n",
    "    def displayB1(self):\n",
    "        print (\"Base1: displayB1() executing...\")\n",
    "    def myFunction(self):\n",
    "        print (\"Base1: myFunction() executing...\")\n",
    "class Base2:\n",
    "    def __init__(self):\n",
    "        print (\"Base2: constructor executing...\")\n",
    "    def displayB2(self):\n",
    "        print (\"Base2: displayB2() executing...\")\n",
    "    def myFunction(self):\n",
    "        print (\"Base2: myFunction() executing...\")\n",
    "# class Derived(Base1, Base2):\n",
    "class Derived(Base2, Base1):    # it depends on \"Method Resolution Order\" (MRO)\n",
    "    # def __init__(self):\n",
    "    #     print (\"Derived: constructor executing...\")\n",
    "    def displayD(self):\n",
    "        print (\"Derived: displayD() executing...\")\n",
    "ob1 = Derived()\n",
    "ob1.displayB1()\n",
    "ob1.displayB2()\n",
    "ob1.displayD()\n",
    "ob1.myFunction()"
   ]
  },
  {
   "cell_type": "markdown",
   "id": "bed80c62-98ca-4638-aa29-ca8bef8b6cd7",
   "metadata": {},
   "source": [
    "#### Operator Overloading"
   ]
  },
  {
   "cell_type": "code",
   "execution_count": 84,
   "id": "e9cb87d7-ad6e-4cee-a148-f7d7fd68d796",
   "metadata": {},
   "outputs": [
    {
     "name": "stdout",
     "output_type": "stream",
     "text": [
      "So 500 + 200 = 700\n",
      "So 500 + 200 = 700\n",
      "So 500 * 200 = 100000\n",
      "So 500 * 200 = 100000\n",
      "So 500 - 200 = 300\n",
      "So 500 - 200 = 300\n",
      "So 500 < 200 = False\n",
      "So 500 < 200 = False\n"
     ]
    }
   ],
   "source": [
    "i = 500\n",
    "j = 200\n",
    "\n",
    "result = i + j\n",
    "print (f\"So {i} + {j} = {result}\")\n",
    "result = i.__add__(j)\n",
    "print (f\"So {i} + {j} = {result}\")\n",
    "\n",
    "result = i * j\n",
    "print (f\"So {i} * {j} = {result}\")\n",
    "result = i.__mul__(j)\n",
    "print (f\"So {i} * {j} = {result}\")\n",
    "\n",
    "result = i - j\n",
    "print (f\"So {i} - {j} = {result}\")\n",
    "result = i.__sub__(j)\n",
    "print (f\"So {i} - {j} = {result}\")\n",
    "\n",
    "result = i < j\n",
    "print (f\"So {i} < {j} = {result}\")\n",
    "result = i.__lt__(j)\n",
    "print (f\"So {i} < {j} = {result}\")"
   ]
  },
  {
   "cell_type": "code",
   "execution_count": 93,
   "id": "003c2f52-3533-47a8-b910-4069323e7a10",
   "metadata": {},
   "outputs": [
    {
     "name": "stdout",
     "output_type": "stream",
     "text": [
      "12 4\n",
      "16 7\n",
      "After performing the addition operations...\n",
      "28 11 <__main__.MyClass object at 0x00000194BAF97BE0>\n",
      "28 11 <__main__.MyClass object at 0x00000194BAF97130>\n",
      "True\n",
      "True\n"
     ]
    }
   ],
   "source": [
    "class MyClass:\n",
    "    def __init__(self, xx, yy):\n",
    "        self.x = xx\n",
    "        self.y = yy\n",
    "    def __add__(self, ob):\n",
    "        temp = MyClass(0, 0)\n",
    "        temp.x = self.x + ob.x\n",
    "        temp.y = self.y + ob.y\n",
    "        return temp\n",
    "    def __gt__(self, ob):\n",
    "        temp = MyClass(0, 0)\n",
    "        temp.x = self.x + ob.x\n",
    "        temp.y = self.y + ob.y\n",
    "        return temp.x > temp.y\n",
    "ob1 = MyClass(12, 4)\n",
    "ob2 = MyClass(16, 7)\n",
    "print (ob1.x, ob1.y)\n",
    "print (ob2.x, ob2.y)\n",
    "print (\"After performing the addition operations...\")\n",
    "result1 = ob1 + ob2\n",
    "print (result1.x, result1.y, result1)\n",
    "result1 = ob1.__add__(ob2)\n",
    "print (result1.x, result1.y, result1)\n",
    "result1 = ob1 > ob2\n",
    "print (result1)\n",
    "result1 = ob1.__gt__(ob2)\n",
    "print (result1)"
   ]
  },
  {
   "cell_type": "markdown",
   "id": "df535693-9fa1-4ba0-9d2e-1c967620fb50",
   "metadata": {},
   "source": [
    "### Abstract Class and Interface"
   ]
  },
  {
   "cell_type": "code",
   "execution_count": 94,
   "id": "a467f32a-f4c3-4a64-881a-bc61f2925d1a",
   "metadata": {},
   "outputs": [
    {
     "name": "stdout",
     "output_type": "stream",
     "text": [
      "Abstract class constructor executing...\n",
      "concreteMethod() executing...\n",
      "Abstract Method is redefined...\n"
     ]
    }
   ],
   "source": [
    "# abstract class\n",
    "from abc import ABC, abstractmethod    # ABC stands for 'Abstract Base Class'\n",
    "class AbsBaseClass(ABC):\n",
    "    def __init__(self):\n",
    "        print (\"Abstract class constructor executing...\")\n",
    "    @abstractmethod     # annotation or decorator\n",
    "    def abstractMethod(self):\n",
    "        pass      # here pass is a statement placeholder\n",
    "    def concreteMethod(self):\n",
    "        print (\"concreteMethod() executing...\")\n",
    "        \n",
    "class Derived(AbsBaseClass):\n",
    "    def abstractMethod(self):\n",
    "        print (\"Abstract Method is redefined...\")\n",
    "        \n",
    "ob1 = Derived()\n",
    "ob1.concreteMethod()\n",
    "ob1.abstractMethod()"
   ]
  },
  {
   "cell_type": "code",
   "execution_count": 96,
   "id": "d94fa7c4-95ed-4b76-8cec-b92b9222e54f",
   "metadata": {},
   "outputs": [
    {
     "name": "stdout",
     "output_type": "stream",
     "text": [
      "abstract class constructor executing...\n",
      "concreteMethod() executing...\n",
      "Abstract method has been redefined...\n",
      "Initial content of the abstract method...\n"
     ]
    }
   ],
   "source": [
    "from abc import ABC, abstractmethod\n",
    "class AbsBaseClass(ABC):\n",
    "    def __init__(self):\n",
    "        print (\"abstract class constructor executing...\")\n",
    "    @abstractmethod\n",
    "    def abstractMethod(self):\n",
    "        print (\"Initial content of the abstract method...\")\n",
    "    def concreteMethod(self):\n",
    "        print (\"concreteMethod() executing...\")\n",
    "        \n",
    "class Derived(AbsBaseClass):\n",
    "    def abstractMethod(self):\n",
    "        print (\"Abstract method has been redefined...\")\n",
    "        super().abstractMethod()\n",
    "ob1 = Derived()\n",
    "ob1.concreteMethod()\n",
    "ob1.abstractMethod()"
   ]
  },
  {
   "cell_type": "code",
   "execution_count": 100,
   "id": "d5eae3c0-d551-424e-ae99-8801560a12b9",
   "metadata": {},
   "outputs": [
    {
     "name": "stdout",
     "output_type": "stream",
     "text": [
      "abstractMethod1() is redefined...\n",
      "abstractMethod2() is redefined...\n",
      "abstractMethod3() is redefined...\n"
     ]
    }
   ],
   "source": [
    "# dealing with interfaces\n",
    "from abc import ABC, abstractmethod\n",
    "class MyInterface(ABC):\n",
    "    @abstractmethod\n",
    "    def abstractMethod1(self):\n",
    "        pass\n",
    "    @abstractmethod\n",
    "    def abstractMethod2(self):\n",
    "        pass\n",
    "    @abstractmethod\n",
    "    def abstractMethod3(self):\n",
    "        pass\n",
    "class Derived(MyInterface):\n",
    "    def abstractMethod1(self):\n",
    "        print (\"abstractMethod1() is redefined...\")\n",
    "    def abstractMethod2(self):\n",
    "        print (\"abstractMethod2() is redefined...\")\n",
    "    def abstractMethod3(self):\n",
    "        print (\"abstractMethod3() is redefined...\")\n",
    "# ob1 = MyInterface()\n",
    "ob1 = Derived()\n",
    "ob1.abstractMethod1()\n",
    "ob1.abstractMethod2()\n",
    "ob1.abstractMethod3()"
   ]
  },
  {
   "cell_type": "code",
   "execution_count": null,
   "id": "6036ae09-2ed4-479f-ad7c-41ca1d174283",
   "metadata": {},
   "outputs": [],
   "source": []
  },
  {
   "cell_type": "code",
   "execution_count": null,
   "id": "22082b55-f460-4e4f-b403-dff23888180e",
   "metadata": {},
   "outputs": [],
   "source": []
  },
  {
   "cell_type": "code",
   "execution_count": null,
   "id": "59dd0247-bf80-4f6c-931e-e662274e275b",
   "metadata": {},
   "outputs": [],
   "source": []
  },
  {
   "cell_type": "code",
   "execution_count": null,
   "id": "8afbe165-bd9f-4a44-8613-02604f88113a",
   "metadata": {},
   "outputs": [],
   "source": []
  },
  {
   "cell_type": "code",
   "execution_count": null,
   "id": "3012fa04-626d-430d-b810-28f7e964ae66",
   "metadata": {},
   "outputs": [],
   "source": []
  }
 ],
 "metadata": {
  "kernelspec": {
   "display_name": "Python 3",
   "language": "python",
   "name": "python3"
  },
  "language_info": {
   "codemirror_mode": {
    "name": "ipython",
    "version": 3
   },
   "file_extension": ".py",
   "mimetype": "text/x-python",
   "name": "python",
   "nbconvert_exporter": "python",
   "pygments_lexer": "ipython3",
   "version": "3.8.8"
  }
 },
 "nbformat": 4,
 "nbformat_minor": 5
}
